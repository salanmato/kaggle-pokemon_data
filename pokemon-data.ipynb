{
 "cells": [
  {
   "cell_type": "code",
   "execution_count": 43,
   "id": "a97b7e1e",
   "metadata": {},
   "outputs": [],
   "source": [
    "import numpy as np # linear algebra\n",
    "import pandas as pd # data processing, CSV file I/O (e.g. pd.read_csv)\n",
    "import plotly.express as px\n",
    "\n",
    "from itertools import combinations\n",
    "from collections import Counter"
   ]
  },
  {
   "cell_type": "code",
   "execution_count": 44,
   "id": "cde258d9",
   "metadata": {},
   "outputs": [],
   "source": [
    "df = pd.read_csv('pokemon_data.csv')"
   ]
  },
  {
   "cell_type": "code",
   "execution_count": 45,
   "id": "350ce240",
   "metadata": {},
   "outputs": [
    {
     "data": {
      "text/plain": [
       "Index(['ID', 'Name', 'HP', 'Attack', 'Defense', 'Sp. Attack', 'Sp. Defense',\n",
       "       'Speed', 'Base_Stats', 'normal_weakness', 'fire_weakness',\n",
       "       'water_weakness', 'electric_weakness', 'grass_weakness', 'ice_weakness',\n",
       "       'fighting_weakness', 'poison_weakness', 'ground_weakness',\n",
       "       'flying_weakness', 'psychic_weakness', 'bug_weakness', 'rock_weakness',\n",
       "       'ghost_weakness', 'dragon_weakness', 'dark_weakness', 'steel_weakness',\n",
       "       'fairy_weakness', 'height_inches', 'height_meters', 'weight_pounds',\n",
       "       'weight_kilograms', 'capturing_rate', 'gender_male_ratio', 'egg_steps',\n",
       "       'egg_cycles', 'abilities', 'Type 1', 'Type 2', 'Classification_info',\n",
       "       'Forms', 'gen', 'Is_Legendary', 'Is_Mythical', 'Is_Ultra_Beast',\n",
       "       'number_immune', 'number_not_effective', 'number_normal',\n",
       "       'number_super_effective'],\n",
       "      dtype='object')"
      ]
     },
     "execution_count": 45,
     "metadata": {},
     "output_type": "execute_result"
    }
   ],
   "source": [
    "df.columns"
   ]
  },
  {
   "cell_type": "markdown",
   "id": "931a6219",
   "metadata": {},
   "source": [
    "# Tipos de Pokémon"
   ]
  },
  {
   "cell_type": "code",
   "execution_count": 46,
   "id": "3731f1d1",
   "metadata": {},
   "outputs": [],
   "source": [
    "pokemon_by_type = df.groupby(['Type 1']).count()\n",
    "\n",
    "# Tipo 1 é o tipo principal do pokémon\n",
    "# Tipo 2 é o tipo secundário do pokémon"
   ]
  },
  {
   "cell_type": "code",
   "execution_count": 47,
   "id": "ca717c7a",
   "metadata": {},
   "outputs": [],
   "source": [
    "fig_pokemon_by_type = px.bar(pokemon_by_type, x='ID')"
   ]
  },
  {
   "cell_type": "code",
   "execution_count": 48,
   "id": "cef48134",
   "metadata": {},
   "outputs": [
    {
     "data": {
      "application/vnd.plotly.v1+json": {
       "config": {
        "plotlyServerURL": "https://plot.ly"
       },
       "data": [
        {
         "hovertemplate": "ID=%{x}<br>Type 1=%{y}<extra></extra>",
         "legendgroup": "",
         "marker": {
          "color": "#636efa",
          "pattern": {
           "shape": ""
          }
         },
         "name": "",
         "orientation": "h",
         "showlegend": false,
         "textposition": "auto",
         "type": "bar",
         "x": {
          "bdata": "UwAtACUAOwAdACgAQgAJACMAZwAoAB8AdgAqADwAOgAkAIYA",
          "dtype": "i2"
         },
         "xaxis": "x",
         "y": [
          "Bug",
          "Dark",
          "Dragon",
          "Electric",
          "Fairy",
          "Fighting",
          "Fire",
          "Flying",
          "Ghost",
          "Grass",
          "Ground",
          "Ice",
          "Normal",
          "Poison",
          "Psychic",
          "Rock",
          "Steel",
          "Water"
         ],
         "yaxis": "y"
        }
       ],
       "layout": {
        "barmode": "relative",
        "legend": {
         "tracegroupgap": 0
        },
        "margin": {
         "t": 60
        },
        "template": {
         "data": {
          "bar": [
           {
            "error_x": {
             "color": "#2a3f5f"
            },
            "error_y": {
             "color": "#2a3f5f"
            },
            "marker": {
             "line": {
              "color": "#E5ECF6",
              "width": 0.5
             },
             "pattern": {
              "fillmode": "overlay",
              "size": 10,
              "solidity": 0.2
             }
            },
            "type": "bar"
           }
          ],
          "barpolar": [
           {
            "marker": {
             "line": {
              "color": "#E5ECF6",
              "width": 0.5
             },
             "pattern": {
              "fillmode": "overlay",
              "size": 10,
              "solidity": 0.2
             }
            },
            "type": "barpolar"
           }
          ],
          "carpet": [
           {
            "aaxis": {
             "endlinecolor": "#2a3f5f",
             "gridcolor": "white",
             "linecolor": "white",
             "minorgridcolor": "white",
             "startlinecolor": "#2a3f5f"
            },
            "baxis": {
             "endlinecolor": "#2a3f5f",
             "gridcolor": "white",
             "linecolor": "white",
             "minorgridcolor": "white",
             "startlinecolor": "#2a3f5f"
            },
            "type": "carpet"
           }
          ],
          "choropleth": [
           {
            "colorbar": {
             "outlinewidth": 0,
             "ticks": ""
            },
            "type": "choropleth"
           }
          ],
          "contour": [
           {
            "colorbar": {
             "outlinewidth": 0,
             "ticks": ""
            },
            "colorscale": [
             [
              0,
              "#0d0887"
             ],
             [
              0.1111111111111111,
              "#46039f"
             ],
             [
              0.2222222222222222,
              "#7201a8"
             ],
             [
              0.3333333333333333,
              "#9c179e"
             ],
             [
              0.4444444444444444,
              "#bd3786"
             ],
             [
              0.5555555555555556,
              "#d8576b"
             ],
             [
              0.6666666666666666,
              "#ed7953"
             ],
             [
              0.7777777777777778,
              "#fb9f3a"
             ],
             [
              0.8888888888888888,
              "#fdca26"
             ],
             [
              1,
              "#f0f921"
             ]
            ],
            "type": "contour"
           }
          ],
          "contourcarpet": [
           {
            "colorbar": {
             "outlinewidth": 0,
             "ticks": ""
            },
            "type": "contourcarpet"
           }
          ],
          "heatmap": [
           {
            "colorbar": {
             "outlinewidth": 0,
             "ticks": ""
            },
            "colorscale": [
             [
              0,
              "#0d0887"
             ],
             [
              0.1111111111111111,
              "#46039f"
             ],
             [
              0.2222222222222222,
              "#7201a8"
             ],
             [
              0.3333333333333333,
              "#9c179e"
             ],
             [
              0.4444444444444444,
              "#bd3786"
             ],
             [
              0.5555555555555556,
              "#d8576b"
             ],
             [
              0.6666666666666666,
              "#ed7953"
             ],
             [
              0.7777777777777778,
              "#fb9f3a"
             ],
             [
              0.8888888888888888,
              "#fdca26"
             ],
             [
              1,
              "#f0f921"
             ]
            ],
            "type": "heatmap"
           }
          ],
          "histogram": [
           {
            "marker": {
             "pattern": {
              "fillmode": "overlay",
              "size": 10,
              "solidity": 0.2
             }
            },
            "type": "histogram"
           }
          ],
          "histogram2d": [
           {
            "colorbar": {
             "outlinewidth": 0,
             "ticks": ""
            },
            "colorscale": [
             [
              0,
              "#0d0887"
             ],
             [
              0.1111111111111111,
              "#46039f"
             ],
             [
              0.2222222222222222,
              "#7201a8"
             ],
             [
              0.3333333333333333,
              "#9c179e"
             ],
             [
              0.4444444444444444,
              "#bd3786"
             ],
             [
              0.5555555555555556,
              "#d8576b"
             ],
             [
              0.6666666666666666,
              "#ed7953"
             ],
             [
              0.7777777777777778,
              "#fb9f3a"
             ],
             [
              0.8888888888888888,
              "#fdca26"
             ],
             [
              1,
              "#f0f921"
             ]
            ],
            "type": "histogram2d"
           }
          ],
          "histogram2dcontour": [
           {
            "colorbar": {
             "outlinewidth": 0,
             "ticks": ""
            },
            "colorscale": [
             [
              0,
              "#0d0887"
             ],
             [
              0.1111111111111111,
              "#46039f"
             ],
             [
              0.2222222222222222,
              "#7201a8"
             ],
             [
              0.3333333333333333,
              "#9c179e"
             ],
             [
              0.4444444444444444,
              "#bd3786"
             ],
             [
              0.5555555555555556,
              "#d8576b"
             ],
             [
              0.6666666666666666,
              "#ed7953"
             ],
             [
              0.7777777777777778,
              "#fb9f3a"
             ],
             [
              0.8888888888888888,
              "#fdca26"
             ],
             [
              1,
              "#f0f921"
             ]
            ],
            "type": "histogram2dcontour"
           }
          ],
          "mesh3d": [
           {
            "colorbar": {
             "outlinewidth": 0,
             "ticks": ""
            },
            "type": "mesh3d"
           }
          ],
          "parcoords": [
           {
            "line": {
             "colorbar": {
              "outlinewidth": 0,
              "ticks": ""
             }
            },
            "type": "parcoords"
           }
          ],
          "pie": [
           {
            "automargin": true,
            "type": "pie"
           }
          ],
          "scatter": [
           {
            "fillpattern": {
             "fillmode": "overlay",
             "size": 10,
             "solidity": 0.2
            },
            "type": "scatter"
           }
          ],
          "scatter3d": [
           {
            "line": {
             "colorbar": {
              "outlinewidth": 0,
              "ticks": ""
             }
            },
            "marker": {
             "colorbar": {
              "outlinewidth": 0,
              "ticks": ""
             }
            },
            "type": "scatter3d"
           }
          ],
          "scattercarpet": [
           {
            "marker": {
             "colorbar": {
              "outlinewidth": 0,
              "ticks": ""
             }
            },
            "type": "scattercarpet"
           }
          ],
          "scattergeo": [
           {
            "marker": {
             "colorbar": {
              "outlinewidth": 0,
              "ticks": ""
             }
            },
            "type": "scattergeo"
           }
          ],
          "scattergl": [
           {
            "marker": {
             "colorbar": {
              "outlinewidth": 0,
              "ticks": ""
             }
            },
            "type": "scattergl"
           }
          ],
          "scattermap": [
           {
            "marker": {
             "colorbar": {
              "outlinewidth": 0,
              "ticks": ""
             }
            },
            "type": "scattermap"
           }
          ],
          "scattermapbox": [
           {
            "marker": {
             "colorbar": {
              "outlinewidth": 0,
              "ticks": ""
             }
            },
            "type": "scattermapbox"
           }
          ],
          "scatterpolar": [
           {
            "marker": {
             "colorbar": {
              "outlinewidth": 0,
              "ticks": ""
             }
            },
            "type": "scatterpolar"
           }
          ],
          "scatterpolargl": [
           {
            "marker": {
             "colorbar": {
              "outlinewidth": 0,
              "ticks": ""
             }
            },
            "type": "scatterpolargl"
           }
          ],
          "scatterternary": [
           {
            "marker": {
             "colorbar": {
              "outlinewidth": 0,
              "ticks": ""
             }
            },
            "type": "scatterternary"
           }
          ],
          "surface": [
           {
            "colorbar": {
             "outlinewidth": 0,
             "ticks": ""
            },
            "colorscale": [
             [
              0,
              "#0d0887"
             ],
             [
              0.1111111111111111,
              "#46039f"
             ],
             [
              0.2222222222222222,
              "#7201a8"
             ],
             [
              0.3333333333333333,
              "#9c179e"
             ],
             [
              0.4444444444444444,
              "#bd3786"
             ],
             [
              0.5555555555555556,
              "#d8576b"
             ],
             [
              0.6666666666666666,
              "#ed7953"
             ],
             [
              0.7777777777777778,
              "#fb9f3a"
             ],
             [
              0.8888888888888888,
              "#fdca26"
             ],
             [
              1,
              "#f0f921"
             ]
            ],
            "type": "surface"
           }
          ],
          "table": [
           {
            "cells": {
             "fill": {
              "color": "#EBF0F8"
             },
             "line": {
              "color": "white"
             }
            },
            "header": {
             "fill": {
              "color": "#C8D4E3"
             },
             "line": {
              "color": "white"
             }
            },
            "type": "table"
           }
          ]
         },
         "layout": {
          "annotationdefaults": {
           "arrowcolor": "#2a3f5f",
           "arrowhead": 0,
           "arrowwidth": 1
          },
          "autotypenumbers": "strict",
          "coloraxis": {
           "colorbar": {
            "outlinewidth": 0,
            "ticks": ""
           }
          },
          "colorscale": {
           "diverging": [
            [
             0,
             "#8e0152"
            ],
            [
             0.1,
             "#c51b7d"
            ],
            [
             0.2,
             "#de77ae"
            ],
            [
             0.3,
             "#f1b6da"
            ],
            [
             0.4,
             "#fde0ef"
            ],
            [
             0.5,
             "#f7f7f7"
            ],
            [
             0.6,
             "#e6f5d0"
            ],
            [
             0.7,
             "#b8e186"
            ],
            [
             0.8,
             "#7fbc41"
            ],
            [
             0.9,
             "#4d9221"
            ],
            [
             1,
             "#276419"
            ]
           ],
           "sequential": [
            [
             0,
             "#0d0887"
            ],
            [
             0.1111111111111111,
             "#46039f"
            ],
            [
             0.2222222222222222,
             "#7201a8"
            ],
            [
             0.3333333333333333,
             "#9c179e"
            ],
            [
             0.4444444444444444,
             "#bd3786"
            ],
            [
             0.5555555555555556,
             "#d8576b"
            ],
            [
             0.6666666666666666,
             "#ed7953"
            ],
            [
             0.7777777777777778,
             "#fb9f3a"
            ],
            [
             0.8888888888888888,
             "#fdca26"
            ],
            [
             1,
             "#f0f921"
            ]
           ],
           "sequentialminus": [
            [
             0,
             "#0d0887"
            ],
            [
             0.1111111111111111,
             "#46039f"
            ],
            [
             0.2222222222222222,
             "#7201a8"
            ],
            [
             0.3333333333333333,
             "#9c179e"
            ],
            [
             0.4444444444444444,
             "#bd3786"
            ],
            [
             0.5555555555555556,
             "#d8576b"
            ],
            [
             0.6666666666666666,
             "#ed7953"
            ],
            [
             0.7777777777777778,
             "#fb9f3a"
            ],
            [
             0.8888888888888888,
             "#fdca26"
            ],
            [
             1,
             "#f0f921"
            ]
           ]
          },
          "colorway": [
           "#636efa",
           "#EF553B",
           "#00cc96",
           "#ab63fa",
           "#FFA15A",
           "#19d3f3",
           "#FF6692",
           "#B6E880",
           "#FF97FF",
           "#FECB52"
          ],
          "font": {
           "color": "#2a3f5f"
          },
          "geo": {
           "bgcolor": "white",
           "lakecolor": "white",
           "landcolor": "#E5ECF6",
           "showlakes": true,
           "showland": true,
           "subunitcolor": "white"
          },
          "hoverlabel": {
           "align": "left"
          },
          "hovermode": "closest",
          "mapbox": {
           "style": "light"
          },
          "paper_bgcolor": "white",
          "plot_bgcolor": "#E5ECF6",
          "polar": {
           "angularaxis": {
            "gridcolor": "white",
            "linecolor": "white",
            "ticks": ""
           },
           "bgcolor": "#E5ECF6",
           "radialaxis": {
            "gridcolor": "white",
            "linecolor": "white",
            "ticks": ""
           }
          },
          "scene": {
           "xaxis": {
            "backgroundcolor": "#E5ECF6",
            "gridcolor": "white",
            "gridwidth": 2,
            "linecolor": "white",
            "showbackground": true,
            "ticks": "",
            "zerolinecolor": "white"
           },
           "yaxis": {
            "backgroundcolor": "#E5ECF6",
            "gridcolor": "white",
            "gridwidth": 2,
            "linecolor": "white",
            "showbackground": true,
            "ticks": "",
            "zerolinecolor": "white"
           },
           "zaxis": {
            "backgroundcolor": "#E5ECF6",
            "gridcolor": "white",
            "gridwidth": 2,
            "linecolor": "white",
            "showbackground": true,
            "ticks": "",
            "zerolinecolor": "white"
           }
          },
          "shapedefaults": {
           "line": {
            "color": "#2a3f5f"
           }
          },
          "ternary": {
           "aaxis": {
            "gridcolor": "white",
            "linecolor": "white",
            "ticks": ""
           },
           "baxis": {
            "gridcolor": "white",
            "linecolor": "white",
            "ticks": ""
           },
           "bgcolor": "#E5ECF6",
           "caxis": {
            "gridcolor": "white",
            "linecolor": "white",
            "ticks": ""
           }
          },
          "title": {
           "x": 0.05
          },
          "xaxis": {
           "automargin": true,
           "gridcolor": "white",
           "linecolor": "white",
           "ticks": "",
           "title": {
            "standoff": 15
           },
           "zerolinecolor": "white",
           "zerolinewidth": 2
          },
          "yaxis": {
           "automargin": true,
           "gridcolor": "white",
           "linecolor": "white",
           "ticks": "",
           "title": {
            "standoff": 15
           },
           "zerolinecolor": "white",
           "zerolinewidth": 2
          }
         }
        },
        "xaxis": {
         "anchor": "y",
         "domain": [
          0,
          1
         ],
         "title": {
          "text": "ID"
         }
        },
        "yaxis": {
         "anchor": "x",
         "domain": [
          0,
          1
         ],
         "title": {
          "text": "Type 1"
         }
        }
       }
      }
     },
     "metadata": {},
     "output_type": "display_data"
    }
   ],
   "source": [
    "# essa figura agrupa os pokemon por seus tipos principais\n",
    "fig_pokemon_by_type"
   ]
  },
  {
   "cell_type": "markdown",
   "id": "685c7e3b",
   "metadata": {},
   "source": [
    "## Relação entre tipos"
   ]
  },
  {
   "cell_type": "code",
   "execution_count": 49,
   "id": "45816c7c",
   "metadata": {},
   "outputs": [],
   "source": [
    "pokemon_by_type_type = df.groupby(['Type 1', 'Type 2']).size().reset_index(name='contagem')"
   ]
  },
  {
   "cell_type": "code",
   "execution_count": 50,
   "id": "4bb7080f",
   "metadata": {},
   "outputs": [],
   "source": [
    "# aqui vou criar um visual para filtrar tipos de pokémon, vou buscar entender quais os relacionamentos mais comuns entre tipos.\n",
    "# utilize esse visual, caso queira ver o gráfico com mais detalhes\n",
    "fig_pokemon_by_type_type = px.sunburst(pokemon_by_type_type, path=['Type 1','Type 2'], values='contagem', title='Relação entre tipos de pokémon', width=3840, height=2160)"
   ]
  },
  {
   "cell_type": "code",
   "execution_count": 51,
   "id": "e0dcf9f1",
   "metadata": {},
   "outputs": [],
   "source": [
    "# utilize esse visual para a imagem aberta.\n",
    "fig_pokemon_by_type_type = px.sunburst(pokemon_by_type_type, path=['Type 1','Type 2'], values='contagem', title='Relação entre tipos de pokémon')"
   ]
  },
  {
   "cell_type": "code",
   "execution_count": 52,
   "id": "6d495958",
   "metadata": {},
   "outputs": [
    {
     "data": {
      "application/vnd.plotly.v1+json": {
       "config": {
        "plotlyServerURL": "https://plot.ly"
       },
       "data": [
        {
         "branchvalues": "total",
         "domain": {
          "x": [
           0,
           1
          ],
          "y": [
           0,
           1
          ]
         },
         "hovertemplate": "labels=%{label}<br>contagem=%{value}<br>parent=%{parent}<br>id=%{id}<extra></extra>",
         "ids": [
          "Bug/Dark",
          "Bug/Electric",
          "Bug/Fairy",
          "Bug/Fighting",
          "Bug/Fire",
          "Bug/Flying",
          "Bug/Ghost",
          "Bug/Grass",
          "Bug/Ground",
          "Bug/Poison",
          "Bug/Psychic",
          "Bug/Rock",
          "Bug/Steel",
          "Bug/Water",
          "Dark/Dragon",
          "Dark/Fairy",
          "Dark/Fighting",
          "Dark/Fire",
          "Dark/Flying",
          "Dark/Ghost",
          "Dark/Grass",
          "Dark/Ground",
          "Dark/Ice",
          "Dark/Normal",
          "Dark/Poison",
          "Dark/Psychic",
          "Dark/Steel",
          "Dragon/Dark",
          "Dragon/Electric",
          "Dragon/Fighting",
          "Dragon/Fire",
          "Dragon/Flying",
          "Dragon/Ghost",
          "Dragon/Ground",
          "Dragon/Ice",
          "Dragon/Normal",
          "Dragon/Psychic",
          "Dragon/Water",
          "Electric/Dark",
          "Electric/Dragon",
          "Electric/Fairy",
          "Electric/Fighting",
          "Electric/Flying",
          "Electric/Ghost",
          "Electric/Ground",
          "Electric/Ice",
          "Electric/Normal",
          "Electric/Poison",
          "Electric/Steel",
          "Fairy/Fighting",
          "Fairy/Flying",
          "Fairy/Psychic",
          "Fairy/Steel",
          "Fighting/Dark",
          "Fighting/Dragon",
          "Fighting/Electric",
          "Fighting/Flying",
          "Fighting/Ghost",
          "Fighting/Ice",
          "Fighting/Poison",
          "Fighting/Psychic",
          "Fighting/Steel",
          "Fire/Bug",
          "Fire/Dark",
          "Fire/Dragon",
          "Fire/Fighting",
          "Fire/Flying",
          "Fire/Ghost",
          "Fire/Ground",
          "Fire/Normal",
          "Fire/Poison",
          "Fire/Psychic",
          "Fire/Rock",
          "Fire/Steel",
          "Fire/Water",
          "Flying/Dark",
          "Flying/Dragon",
          "Flying/Fighting",
          "Flying/Steel",
          "Flying/Water",
          "Ghost/Dark",
          "Ghost/Dragon",
          "Ghost/Fairy",
          "Ghost/Fire",
          "Ghost/Flying",
          "Ghost/Grass",
          "Ghost/Ground",
          "Ghost/Poison",
          "Grass/Dark",
          "Grass/Dragon",
          "Grass/Fairy",
          "Grass/Fighting",
          "Grass/Fire",
          "Grass/Flying",
          "Grass/Ghost",
          "Grass/Ground",
          "Grass/Ice",
          "Grass/Normal",
          "Grass/Poison",
          "Grass/Psychic",
          "Grass/Steel",
          "Ground/Dark",
          "Ground/Dragon",
          "Ground/Electric",
          "Ground/Fighting",
          "Ground/Flying",
          "Ground/Ghost",
          "Ground/Grass",
          "Ground/Normal",
          "Ground/Psychic",
          "Ground/Rock",
          "Ground/Steel",
          "Ice/Bug",
          "Ice/Flying",
          "Ice/Ghost",
          "Ice/Ground",
          "Ice/Psychic",
          "Ice/Water",
          "Normal/Dragon",
          "Normal/Fairy",
          "Normal/Fighting",
          "Normal/Flying",
          "Normal/Grass",
          "Normal/Ground",
          "Normal/Psychic",
          "Normal/Water",
          "Poison/Bug",
          "Poison/Dark",
          "Poison/Dragon",
          "Poison/Fairy",
          "Poison/Fighting",
          "Poison/Fire",
          "Poison/Flying",
          "Poison/Ghost",
          "Poison/Ground",
          "Poison/Normal",
          "Poison/Psychic",
          "Poison/Water",
          "Psychic/Fairy",
          "Psychic/Fighting",
          "Psychic/Fire",
          "Psychic/Flying",
          "Psychic/Ghost",
          "Psychic/Grass",
          "Psychic/Normal",
          "Psychic/Steel",
          "Rock/Bug",
          "Rock/Dark",
          "Rock/Dragon",
          "Rock/Electric",
          "Rock/Fairy",
          "Rock/Fighting",
          "Rock/Fire",
          "Rock/Flying",
          "Rock/Grass",
          "Rock/Ground",
          "Rock/Ice",
          "Rock/Poison",
          "Rock/Psychic",
          "Rock/Steel",
          "Rock/Water",
          "Steel/Dragon",
          "Steel/Fairy",
          "Steel/Fighting",
          "Steel/Flying",
          "Steel/Ghost",
          "Steel/Ground",
          "Steel/Poison",
          "Steel/Psychic",
          "Steel/Rock",
          "Water/Bug",
          "Water/Dark",
          "Water/Dragon",
          "Water/Electric",
          "Water/Fairy",
          "Water/Fighting",
          "Water/Flying",
          "Water/Ghost",
          "Water/Grass",
          "Water/Ground",
          "Water/Ice",
          "Water/Poison",
          "Water/Psychic",
          "Water/Rock",
          "Water/Steel",
          "Bug",
          "Dark",
          "Dragon",
          "Electric",
          "Fairy",
          "Fighting",
          "Fire",
          "Flying",
          "Ghost",
          "Grass",
          "Ground",
          "Ice",
          "Normal",
          "Poison",
          "Psychic",
          "Rock",
          "Steel",
          "Water"
         ],
         "labels": [
          "Dark",
          "Electric",
          "Fairy",
          "Fighting",
          "Fire",
          "Flying",
          "Ghost",
          "Grass",
          "Ground",
          "Poison",
          "Psychic",
          "Rock",
          "Steel",
          "Water",
          "Dragon",
          "Fairy",
          "Fighting",
          "Fire",
          "Flying",
          "Ghost",
          "Grass",
          "Ground",
          "Ice",
          "Normal",
          "Poison",
          "Psychic",
          "Steel",
          "Dark",
          "Electric",
          "Fighting",
          "Fire",
          "Flying",
          "Ghost",
          "Ground",
          "Ice",
          "Normal",
          "Psychic",
          "Water",
          "Dark",
          "Dragon",
          "Fairy",
          "Fighting",
          "Flying",
          "Ghost",
          "Ground",
          "Ice",
          "Normal",
          "Poison",
          "Steel",
          "Fighting",
          "Flying",
          "Psychic",
          "Steel",
          "Dark",
          "Dragon",
          "Electric",
          "Flying",
          "Ghost",
          "Ice",
          "Poison",
          "Psychic",
          "Steel",
          "Bug",
          "Dark",
          "Dragon",
          "Fighting",
          "Flying",
          "Ghost",
          "Ground",
          "Normal",
          "Poison",
          "Psychic",
          "Rock",
          "Steel",
          "Water",
          "Dark",
          "Dragon",
          "Fighting",
          "Steel",
          "Water",
          "Dark",
          "Dragon",
          "Fairy",
          "Fire",
          "Flying",
          "Grass",
          "Ground",
          "Poison",
          "Dark",
          "Dragon",
          "Fairy",
          "Fighting",
          "Fire",
          "Flying",
          "Ghost",
          "Ground",
          "Ice",
          "Normal",
          "Poison",
          "Psychic",
          "Steel",
          "Dark",
          "Dragon",
          "Electric",
          "Fighting",
          "Flying",
          "Ghost",
          "Grass",
          "Normal",
          "Psychic",
          "Rock",
          "Steel",
          "Bug",
          "Flying",
          "Ghost",
          "Ground",
          "Psychic",
          "Water",
          "Dragon",
          "Fairy",
          "Fighting",
          "Flying",
          "Grass",
          "Ground",
          "Psychic",
          "Water",
          "Bug",
          "Dark",
          "Dragon",
          "Fairy",
          "Fighting",
          "Fire",
          "Flying",
          "Ghost",
          "Ground",
          "Normal",
          "Psychic",
          "Water",
          "Fairy",
          "Fighting",
          "Fire",
          "Flying",
          "Ghost",
          "Grass",
          "Normal",
          "Steel",
          "Bug",
          "Dark",
          "Dragon",
          "Electric",
          "Fairy",
          "Fighting",
          "Fire",
          "Flying",
          "Grass",
          "Ground",
          "Ice",
          "Poison",
          "Psychic",
          "Steel",
          "Water",
          "Dragon",
          "Fairy",
          "Fighting",
          "Flying",
          "Ghost",
          "Ground",
          "Poison",
          "Psychic",
          "Rock",
          "Bug",
          "Dark",
          "Dragon",
          "Electric",
          "Fairy",
          "Fighting",
          "Flying",
          "Ghost",
          "Grass",
          "Ground",
          "Ice",
          "Poison",
          "Psychic",
          "Rock",
          "Steel",
          "Bug",
          "Dark",
          "Dragon",
          "Electric",
          "Fairy",
          "Fighting",
          "Fire",
          "Flying",
          "Ghost",
          "Grass",
          "Ground",
          "Ice",
          "Normal",
          "Poison",
          "Psychic",
          "Rock",
          "Steel",
          "Water"
         ],
         "name": "",
         "parents": [
          "Bug",
          "Bug",
          "Bug",
          "Bug",
          "Bug",
          "Bug",
          "Bug",
          "Bug",
          "Bug",
          "Bug",
          "Bug",
          "Bug",
          "Bug",
          "Bug",
          "Dark",
          "Dark",
          "Dark",
          "Dark",
          "Dark",
          "Dark",
          "Dark",
          "Dark",
          "Dark",
          "Dark",
          "Dark",
          "Dark",
          "Dark",
          "Dragon",
          "Dragon",
          "Dragon",
          "Dragon",
          "Dragon",
          "Dragon",
          "Dragon",
          "Dragon",
          "Dragon",
          "Dragon",
          "Dragon",
          "Electric",
          "Electric",
          "Electric",
          "Electric",
          "Electric",
          "Electric",
          "Electric",
          "Electric",
          "Electric",
          "Electric",
          "Electric",
          "Fairy",
          "Fairy",
          "Fairy",
          "Fairy",
          "Fighting",
          "Fighting",
          "Fighting",
          "Fighting",
          "Fighting",
          "Fighting",
          "Fighting",
          "Fighting",
          "Fighting",
          "Fire",
          "Fire",
          "Fire",
          "Fire",
          "Fire",
          "Fire",
          "Fire",
          "Fire",
          "Fire",
          "Fire",
          "Fire",
          "Fire",
          "Fire",
          "Flying",
          "Flying",
          "Flying",
          "Flying",
          "Flying",
          "Ghost",
          "Ghost",
          "Ghost",
          "Ghost",
          "Ghost",
          "Ghost",
          "Ghost",
          "Ghost",
          "Grass",
          "Grass",
          "Grass",
          "Grass",
          "Grass",
          "Grass",
          "Grass",
          "Grass",
          "Grass",
          "Grass",
          "Grass",
          "Grass",
          "Grass",
          "Ground",
          "Ground",
          "Ground",
          "Ground",
          "Ground",
          "Ground",
          "Ground",
          "Ground",
          "Ground",
          "Ground",
          "Ground",
          "Ice",
          "Ice",
          "Ice",
          "Ice",
          "Ice",
          "Ice",
          "Normal",
          "Normal",
          "Normal",
          "Normal",
          "Normal",
          "Normal",
          "Normal",
          "Normal",
          "Poison",
          "Poison",
          "Poison",
          "Poison",
          "Poison",
          "Poison",
          "Poison",
          "Poison",
          "Poison",
          "Poison",
          "Poison",
          "Poison",
          "Psychic",
          "Psychic",
          "Psychic",
          "Psychic",
          "Psychic",
          "Psychic",
          "Psychic",
          "Psychic",
          "Rock",
          "Rock",
          "Rock",
          "Rock",
          "Rock",
          "Rock",
          "Rock",
          "Rock",
          "Rock",
          "Rock",
          "Rock",
          "Rock",
          "Rock",
          "Rock",
          "Rock",
          "Steel",
          "Steel",
          "Steel",
          "Steel",
          "Steel",
          "Steel",
          "Steel",
          "Steel",
          "Steel",
          "Water",
          "Water",
          "Water",
          "Water",
          "Water",
          "Water",
          "Water",
          "Water",
          "Water",
          "Water",
          "Water",
          "Water",
          "Water",
          "Water",
          "Water",
          "",
          "",
          "",
          "",
          "",
          "",
          "",
          "",
          "",
          "",
          "",
          "",
          "",
          "",
          "",
          "",
          "",
          ""
         ],
         "type": "sunburst",
         "values": {
          "bdata": "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",
          "dtype": "f8"
         }
        }
       ],
       "layout": {
        "legend": {
         "tracegroupgap": 0
        },
        "template": {
         "data": {
          "bar": [
           {
            "error_x": {
             "color": "#2a3f5f"
            },
            "error_y": {
             "color": "#2a3f5f"
            },
            "marker": {
             "line": {
              "color": "#E5ECF6",
              "width": 0.5
             },
             "pattern": {
              "fillmode": "overlay",
              "size": 10,
              "solidity": 0.2
             }
            },
            "type": "bar"
           }
          ],
          "barpolar": [
           {
            "marker": {
             "line": {
              "color": "#E5ECF6",
              "width": 0.5
             },
             "pattern": {
              "fillmode": "overlay",
              "size": 10,
              "solidity": 0.2
             }
            },
            "type": "barpolar"
           }
          ],
          "carpet": [
           {
            "aaxis": {
             "endlinecolor": "#2a3f5f",
             "gridcolor": "white",
             "linecolor": "white",
             "minorgridcolor": "white",
             "startlinecolor": "#2a3f5f"
            },
            "baxis": {
             "endlinecolor": "#2a3f5f",
             "gridcolor": "white",
             "linecolor": "white",
             "minorgridcolor": "white",
             "startlinecolor": "#2a3f5f"
            },
            "type": "carpet"
           }
          ],
          "choropleth": [
           {
            "colorbar": {
             "outlinewidth": 0,
             "ticks": ""
            },
            "type": "choropleth"
           }
          ],
          "contour": [
           {
            "colorbar": {
             "outlinewidth": 0,
             "ticks": ""
            },
            "colorscale": [
             [
              0,
              "#0d0887"
             ],
             [
              0.1111111111111111,
              "#46039f"
             ],
             [
              0.2222222222222222,
              "#7201a8"
             ],
             [
              0.3333333333333333,
              "#9c179e"
             ],
             [
              0.4444444444444444,
              "#bd3786"
             ],
             [
              0.5555555555555556,
              "#d8576b"
             ],
             [
              0.6666666666666666,
              "#ed7953"
             ],
             [
              0.7777777777777778,
              "#fb9f3a"
             ],
             [
              0.8888888888888888,
              "#fdca26"
             ],
             [
              1,
              "#f0f921"
             ]
            ],
            "type": "contour"
           }
          ],
          "contourcarpet": [
           {
            "colorbar": {
             "outlinewidth": 0,
             "ticks": ""
            },
            "type": "contourcarpet"
           }
          ],
          "heatmap": [
           {
            "colorbar": {
             "outlinewidth": 0,
             "ticks": ""
            },
            "colorscale": [
             [
              0,
              "#0d0887"
             ],
             [
              0.1111111111111111,
              "#46039f"
             ],
             [
              0.2222222222222222,
              "#7201a8"
             ],
             [
              0.3333333333333333,
              "#9c179e"
             ],
             [
              0.4444444444444444,
              "#bd3786"
             ],
             [
              0.5555555555555556,
              "#d8576b"
             ],
             [
              0.6666666666666666,
              "#ed7953"
             ],
             [
              0.7777777777777778,
              "#fb9f3a"
             ],
             [
              0.8888888888888888,
              "#fdca26"
             ],
             [
              1,
              "#f0f921"
             ]
            ],
            "type": "heatmap"
           }
          ],
          "histogram": [
           {
            "marker": {
             "pattern": {
              "fillmode": "overlay",
              "size": 10,
              "solidity": 0.2
             }
            },
            "type": "histogram"
           }
          ],
          "histogram2d": [
           {
            "colorbar": {
             "outlinewidth": 0,
             "ticks": ""
            },
            "colorscale": [
             [
              0,
              "#0d0887"
             ],
             [
              0.1111111111111111,
              "#46039f"
             ],
             [
              0.2222222222222222,
              "#7201a8"
             ],
             [
              0.3333333333333333,
              "#9c179e"
             ],
             [
              0.4444444444444444,
              "#bd3786"
             ],
             [
              0.5555555555555556,
              "#d8576b"
             ],
             [
              0.6666666666666666,
              "#ed7953"
             ],
             [
              0.7777777777777778,
              "#fb9f3a"
             ],
             [
              0.8888888888888888,
              "#fdca26"
             ],
             [
              1,
              "#f0f921"
             ]
            ],
            "type": "histogram2d"
           }
          ],
          "histogram2dcontour": [
           {
            "colorbar": {
             "outlinewidth": 0,
             "ticks": ""
            },
            "colorscale": [
             [
              0,
              "#0d0887"
             ],
             [
              0.1111111111111111,
              "#46039f"
             ],
             [
              0.2222222222222222,
              "#7201a8"
             ],
             [
              0.3333333333333333,
              "#9c179e"
             ],
             [
              0.4444444444444444,
              "#bd3786"
             ],
             [
              0.5555555555555556,
              "#d8576b"
             ],
             [
              0.6666666666666666,
              "#ed7953"
             ],
             [
              0.7777777777777778,
              "#fb9f3a"
             ],
             [
              0.8888888888888888,
              "#fdca26"
             ],
             [
              1,
              "#f0f921"
             ]
            ],
            "type": "histogram2dcontour"
           }
          ],
          "mesh3d": [
           {
            "colorbar": {
             "outlinewidth": 0,
             "ticks": ""
            },
            "type": "mesh3d"
           }
          ],
          "parcoords": [
           {
            "line": {
             "colorbar": {
              "outlinewidth": 0,
              "ticks": ""
             }
            },
            "type": "parcoords"
           }
          ],
          "pie": [
           {
            "automargin": true,
            "type": "pie"
           }
          ],
          "scatter": [
           {
            "fillpattern": {
             "fillmode": "overlay",
             "size": 10,
             "solidity": 0.2
            },
            "type": "scatter"
           }
          ],
          "scatter3d": [
           {
            "line": {
             "colorbar": {
              "outlinewidth": 0,
              "ticks": ""
             }
            },
            "marker": {
             "colorbar": {
              "outlinewidth": 0,
              "ticks": ""
             }
            },
            "type": "scatter3d"
           }
          ],
          "scattercarpet": [
           {
            "marker": {
             "colorbar": {
              "outlinewidth": 0,
              "ticks": ""
             }
            },
            "type": "scattercarpet"
           }
          ],
          "scattergeo": [
           {
            "marker": {
             "colorbar": {
              "outlinewidth": 0,
              "ticks": ""
             }
            },
            "type": "scattergeo"
           }
          ],
          "scattergl": [
           {
            "marker": {
             "colorbar": {
              "outlinewidth": 0,
              "ticks": ""
             }
            },
            "type": "scattergl"
           }
          ],
          "scattermap": [
           {
            "marker": {
             "colorbar": {
              "outlinewidth": 0,
              "ticks": ""
             }
            },
            "type": "scattermap"
           }
          ],
          "scattermapbox": [
           {
            "marker": {
             "colorbar": {
              "outlinewidth": 0,
              "ticks": ""
             }
            },
            "type": "scattermapbox"
           }
          ],
          "scatterpolar": [
           {
            "marker": {
             "colorbar": {
              "outlinewidth": 0,
              "ticks": ""
             }
            },
            "type": "scatterpolar"
           }
          ],
          "scatterpolargl": [
           {
            "marker": {
             "colorbar": {
              "outlinewidth": 0,
              "ticks": ""
             }
            },
            "type": "scatterpolargl"
           }
          ],
          "scatterternary": [
           {
            "marker": {
             "colorbar": {
              "outlinewidth": 0,
              "ticks": ""
             }
            },
            "type": "scatterternary"
           }
          ],
          "surface": [
           {
            "colorbar": {
             "outlinewidth": 0,
             "ticks": ""
            },
            "colorscale": [
             [
              0,
              "#0d0887"
             ],
             [
              0.1111111111111111,
              "#46039f"
             ],
             [
              0.2222222222222222,
              "#7201a8"
             ],
             [
              0.3333333333333333,
              "#9c179e"
             ],
             [
              0.4444444444444444,
              "#bd3786"
             ],
             [
              0.5555555555555556,
              "#d8576b"
             ],
             [
              0.6666666666666666,
              "#ed7953"
             ],
             [
              0.7777777777777778,
              "#fb9f3a"
             ],
             [
              0.8888888888888888,
              "#fdca26"
             ],
             [
              1,
              "#f0f921"
             ]
            ],
            "type": "surface"
           }
          ],
          "table": [
           {
            "cells": {
             "fill": {
              "color": "#EBF0F8"
             },
             "line": {
              "color": "white"
             }
            },
            "header": {
             "fill": {
              "color": "#C8D4E3"
             },
             "line": {
              "color": "white"
             }
            },
            "type": "table"
           }
          ]
         },
         "layout": {
          "annotationdefaults": {
           "arrowcolor": "#2a3f5f",
           "arrowhead": 0,
           "arrowwidth": 1
          },
          "autotypenumbers": "strict",
          "coloraxis": {
           "colorbar": {
            "outlinewidth": 0,
            "ticks": ""
           }
          },
          "colorscale": {
           "diverging": [
            [
             0,
             "#8e0152"
            ],
            [
             0.1,
             "#c51b7d"
            ],
            [
             0.2,
             "#de77ae"
            ],
            [
             0.3,
             "#f1b6da"
            ],
            [
             0.4,
             "#fde0ef"
            ],
            [
             0.5,
             "#f7f7f7"
            ],
            [
             0.6,
             "#e6f5d0"
            ],
            [
             0.7,
             "#b8e186"
            ],
            [
             0.8,
             "#7fbc41"
            ],
            [
             0.9,
             "#4d9221"
            ],
            [
             1,
             "#276419"
            ]
           ],
           "sequential": [
            [
             0,
             "#0d0887"
            ],
            [
             0.1111111111111111,
             "#46039f"
            ],
            [
             0.2222222222222222,
             "#7201a8"
            ],
            [
             0.3333333333333333,
             "#9c179e"
            ],
            [
             0.4444444444444444,
             "#bd3786"
            ],
            [
             0.5555555555555556,
             "#d8576b"
            ],
            [
             0.6666666666666666,
             "#ed7953"
            ],
            [
             0.7777777777777778,
             "#fb9f3a"
            ],
            [
             0.8888888888888888,
             "#fdca26"
            ],
            [
             1,
             "#f0f921"
            ]
           ],
           "sequentialminus": [
            [
             0,
             "#0d0887"
            ],
            [
             0.1111111111111111,
             "#46039f"
            ],
            [
             0.2222222222222222,
             "#7201a8"
            ],
            [
             0.3333333333333333,
             "#9c179e"
            ],
            [
             0.4444444444444444,
             "#bd3786"
            ],
            [
             0.5555555555555556,
             "#d8576b"
            ],
            [
             0.6666666666666666,
             "#ed7953"
            ],
            [
             0.7777777777777778,
             "#fb9f3a"
            ],
            [
             0.8888888888888888,
             "#fdca26"
            ],
            [
             1,
             "#f0f921"
            ]
           ]
          },
          "colorway": [
           "#636efa",
           "#EF553B",
           "#00cc96",
           "#ab63fa",
           "#FFA15A",
           "#19d3f3",
           "#FF6692",
           "#B6E880",
           "#FF97FF",
           "#FECB52"
          ],
          "font": {
           "color": "#2a3f5f"
          },
          "geo": {
           "bgcolor": "white",
           "lakecolor": "white",
           "landcolor": "#E5ECF6",
           "showlakes": true,
           "showland": true,
           "subunitcolor": "white"
          },
          "hoverlabel": {
           "align": "left"
          },
          "hovermode": "closest",
          "mapbox": {
           "style": "light"
          },
          "paper_bgcolor": "white",
          "plot_bgcolor": "#E5ECF6",
          "polar": {
           "angularaxis": {
            "gridcolor": "white",
            "linecolor": "white",
            "ticks": ""
           },
           "bgcolor": "#E5ECF6",
           "radialaxis": {
            "gridcolor": "white",
            "linecolor": "white",
            "ticks": ""
           }
          },
          "scene": {
           "xaxis": {
            "backgroundcolor": "#E5ECF6",
            "gridcolor": "white",
            "gridwidth": 2,
            "linecolor": "white",
            "showbackground": true,
            "ticks": "",
            "zerolinecolor": "white"
           },
           "yaxis": {
            "backgroundcolor": "#E5ECF6",
            "gridcolor": "white",
            "gridwidth": 2,
            "linecolor": "white",
            "showbackground": true,
            "ticks": "",
            "zerolinecolor": "white"
           },
           "zaxis": {
            "backgroundcolor": "#E5ECF6",
            "gridcolor": "white",
            "gridwidth": 2,
            "linecolor": "white",
            "showbackground": true,
            "ticks": "",
            "zerolinecolor": "white"
           }
          },
          "shapedefaults": {
           "line": {
            "color": "#2a3f5f"
           }
          },
          "ternary": {
           "aaxis": {
            "gridcolor": "white",
            "linecolor": "white",
            "ticks": ""
           },
           "baxis": {
            "gridcolor": "white",
            "linecolor": "white",
            "ticks": ""
           },
           "bgcolor": "#E5ECF6",
           "caxis": {
            "gridcolor": "white",
            "linecolor": "white",
            "ticks": ""
           }
          },
          "title": {
           "x": 0.05
          },
          "xaxis": {
           "automargin": true,
           "gridcolor": "white",
           "linecolor": "white",
           "ticks": "",
           "title": {
            "standoff": 15
           },
           "zerolinecolor": "white",
           "zerolinewidth": 2
          },
          "yaxis": {
           "automargin": true,
           "gridcolor": "white",
           "linecolor": "white",
           "ticks": "",
           "title": {
            "standoff": 15
           },
           "zerolinecolor": "white",
           "zerolinewidth": 2
          }
         }
        },
        "title": {
         "text": "Relação entre tipos de pokémon"
        }
       }
      }
     },
     "metadata": {},
     "output_type": "display_data"
    }
   ],
   "source": [
    "fig_pokemon_by_type_type"
   ]
  },
  {
   "cell_type": "code",
   "execution_count": 53,
   "id": "107633ae",
   "metadata": {},
   "outputs": [],
   "source": [
    "legends_per_type = px.box(\n",
    "    df, \n",
    "    x=\"Is_Legendary\", \n",
    "    y=\"Base_Stats\", \n",
    "    color=\"Type 1\",\n",
    "    title=\"Estatísticas Base por Status Lendário\"\n",
    ")\n"
   ]
  },
  {
   "cell_type": "code",
   "execution_count": 54,
   "id": "bf38427e",
   "metadata": {},
   "outputs": [
    {
     "data": {
      "application/vnd.plotly.v1+json": {
       "config": {
        "plotlyServerURL": "https://plot.ly"
       },
       "data": [
        {
         "alignmentgroup": "True",
         "hovertemplate": "Type 1=Grass<br>Is_Legendary=%{x}<br>Base_Stats=%{y}<extra></extra>",
         "legendgroup": "Grass",
         "marker": {
          "color": "#636efa"
         },
         "name": "Grass",
         "notched": false,
         "offsetgroup": "Grass",
         "orientation": "v",
         "showlegend": true,
         "type": "box",
         "x": {
          "bdata": "AAAAAAAAAAAAAAAAAAAAAAAAAAAAAAAAAAAAAAAAAAAAAAAAAAAAAAAAAAAAAAAAAAAAAAAAAAAAAAAAAQAAAAAAAAAAAAAAAAAAAAAAAAAAAAAAAAAAAAAAAAAAAAAAAAAAAAABAA==",
          "dtype": "i1"
         },
         "x0": " ",
         "xaxis": "x",
         "y": {
          "bdata": "PgGVAQ0CQAGLAeoBLAGGAeoBRQESArMBPgGVAQ0C6gH6AFQBzAG0AKkBNgGVARIC3ABUAeABJwHMAZABTwHbAcwBPgGVAQ0CGAEDAhMBwgHGAU4B7gEXAg0CWAI0AZ0BEAI8AfIBGAHgARgB4AHNASYB0AExAekBRAI5AZUBEgJeARMCQAGkARIC+gDgAR0BlQHSACIB/gE6AjoCNgGkARIC+gDMAQQB5QHlATYBmgESAgQBYgH+ARMB4AEwAeYBOgJOAuUBNAH8ASYCHAI=",
          "dtype": "i2"
         },
         "y0": " ",
         "yaxis": "y"
        },
        {
         "alignmentgroup": "True",
         "hovertemplate": "Type 1=Fire<br>Is_Legendary=%{x}<br>Base_Stats=%{y}<extra></extra>",
         "legendgroup": "Fire",
         "marker": {
          "color": "#EF553B"
         },
         "name": "Fire",
         "notched": false,
         "offsetgroup": "Fire",
         "orientation": "v",
         "showlegend": true,
         "type": "box",
         "x": {
          "bdata": "AAAAAAAAAAAAAAABAAAAAAAAAQEAAAAAAAAAAAAAAQAAAAAAAAAAAAAAAAAAAAAAAAAAAAAAAAAAAAAAAAAAAAAA",
          "dtype": "i1"
         },
         "x0": " ",
         "xaxis": "x",
         "y": {
          "bdata": "NQGVARYCKwH5AV4BKwKaAfQB7wENAkQCNQGVARYC+gCuAW0BRAKoAjYBlQESAjEBzAHWATUBlQEWAhwCWAI0AaIBEAI8AfIBOwHgAeQBMwGZARYCfgHzAXEB+wFYAkABpAESAtwB5QE6AjYBpAESAjEBDQI2AZsBEgL/AA0CDQI6Ak4C",
          "dtype": "i2"
         },
         "y0": " ",
         "yaxis": "y"
        },
        {
         "alignmentgroup": "True",
         "hovertemplate": "Type 1=Water<br>Is_Legendary=%{x}<br>Base_Stats=%{y}<extra></extra>",
         "legendgroup": "Water",
         "marker": {
          "color": "#00cc96"
         },
         "name": "Water",
         "notched": false,
         "offsetgroup": "Water",
         "orientation": "v",
         "showlegend": true,
         "type": "box",
         "x": {
          "bdata": "AAAAAAAAAAAAAAAAAAAAAAAAAAAAAAAAAAAAAAAAAAAAAAAAAAAAAAAAAAAAAQAAAAAAAAAAAAAAAAAAAAAAAAAAAAAAAQAAAAAAAAAAAAABAAAAAAAAAAAAAAAAAAAAAAAAAAAAAAAAAAAAAAAAAAAAAAAAAAAAAAAAAAAAAAAAAAAAAAA=",
          "dtype": "i1"
         },
         "x0": " ",
         "xaxis": "x",
         "y": {
          "bdata": "OgGVARICQAH0ASwBgQH+AU8BAwI7AeoBRQHbATEBDQJFAdsBJwG4AUABwgFUAQgCyAAcAhcCDQI6AZUBEgJKAcwB+gCkAfQB0gCuAeoBuAGaASwB4AHlARwCRAI2AZUBFwLcAFQB4AEOAbgBMQHMAZAB9AEgAdQBNAHUAcgAHAJZAeUB5QHlAUoBngI6AZUBEgJKAe8BRQHbAUoBzAFZAagC4AFYAjQBnQEQAjwB8gEmAYAB/QHMAWMB7wExAdkBTwHgAdYBRAI6AZUBEgJKAfQBQAGkARICrwANAcYBmgHbAToCNgGkARICHAHlARgB6gH5AfkBEgI2AZoBEgL1AKkBOwHJAd4BEgJOAg==",
          "dtype": "i2"
         },
         "y0": " ",
         "yaxis": "y"
        },
        {
         "alignmentgroup": "True",
         "hovertemplate": "Type 1=Bug<br>Is_Legendary=%{x}<br>Base_Stats=%{y}<extra></extra>",
         "legendgroup": "Bug",
         "marker": {
          "color": "#ab63fa"
         },
         "name": "Bug",
         "notched": false,
         "offsetgroup": "Bug",
         "orientation": "v",
         "showlegend": true,
         "type": "box",
         "x": {
          "bdata": "AAAAAAAAAAAAAAAAAAAAAAAAAAAAAAAAAAAAAAAAAAAAAAAAAAAAAAAAAAAAAAAAAAAAAAAAAAAAAAAAAAAAAAAAAAAAAAAAAAAAAAAAAAAAAAA=",
          "dtype": "i1"
         },
         "x0": " ",
         "xaxis": "x",
         "y": {
          "bdata": "wwDNAIsBwwDNAIsBHQGVATEBwgH0AfQBCQGGAfoAkAGGASIB0QH0AfkB9AHDAM0AiwHNAIEBDQHGAQoByAHsAK4BrgHCAIAB4ACoAagB9ADaAQMCNgF8AfQBBAFoAeUBRQHlATsB7wE/AdgBMQHvAeQBaAEmAlgCyADVAJsBLAGQAfQBMAHQAeYAEgI6AjoCtABPAfkB9AHSAJQB0gDCAQ4B1gE6Ag==",
          "dtype": "i2"
         },
         "y0": " ",
         "yaxis": "y"
        },
        {
         "alignmentgroup": "True",
         "hovertemplate": "Type 1=Normal<br>Is_Legendary=%{x}<br>Base_Stats=%{y}<extra></extra>",
         "legendgroup": "Normal",
         "marker": {
          "color": "#FFA15A"
         },
         "name": "Normal",
         "notched": false,
         "offsetgroup": "Normal",
         "orientation": "v",
         "showlegend": true,
         "type": "box",
         "x": {
          "bdata": "AAAAAAAAAAAAAAAAAAAAAAAAAAAAAAAAAAAAAAAAAAAAAAAAAAAAAAAAAAAAAAAAAAAAAAAAAAAAAAAAAAAAAAAAAAAAAAEAAAAAAAAAAAAAAAAAAAAAAAAAAAAAAAAAAAAAAAAAAQAAAAAAAAAAAAAAAAAAAQ==",
          "dtype": "i1"
         },
         "x0": " ",
         "xaxis": "x",
         "y": {
          "bdata": "+wBdAd8B/QCdAQYBugEOAbMBIgG4AXkBNgHWAYEBwgHqAeoBIAFFAYsBHALXAJ8BBgHEAdIAaAHHAZ8BSgH0AQMC0QH6AOoBHALwAKQBDgHHARgBuAGeAvAAaAHqAb4ABAGQAWgBNgHKAaQBuAH1AFQB5QH6AJoB4gFeAeABNgHEAdwAmwGGAQMCFwKeAtAC/wCkARMBcgH0AQgBZgHoAb0BLAHWAU8B2wHqAV4B/gFYAu0ApwEWAdgBCQFjAeUB/QCiAVQB9AHqARYCOgLgAeUBEwHMAQ4B6gENAv4A6QExAdYBoQEIAggCwgE=",
          "dtype": "i2"
         },
         "y0": " ",
         "yaxis": "y"
        },
        {
         "alignmentgroup": "True",
         "hovertemplate": "Type 1=Poison<br>Is_Legendary=%{x}<br>Base_Stats=%{y}<extra></extra>",
         "legendgroup": "Poison",
         "marker": {
          "color": "#19d3f3"
         },
         "name": "Poison",
         "notched": false,
         "offsetgroup": "Poison",
         "orientation": "v",
         "showlegend": true,
         "type": "box",
         "x": {
          "bdata": "AAAAAAAAAAAAAAAAAAAAAAAAAAAAAAAAAAAAAAAAAAAAAAEAAAABAQEA",
          "dtype": "i1"
         },
         "x0": " ",
         "xaxis": "x",
         "y": {
          "bdata": "IAHAARMBbQH5AREBbQH5AfUAxwFFAfQBVAHqARcCLgHTAcoBSQHfAUoB9AEsAeoBSQHaAUAB7gExAe8BQAHgAaQBHAKyAiIB5QGuASsCKwIrAlgC",
          "dtype": "i2"
         },
         "y0": " ",
         "yaxis": "y"
        },
        {
         "alignmentgroup": "True",
         "hovertemplate": "Type 1=Electric<br>Is_Legendary=%{x}<br>Base_Stats=%{y}<extra></extra>",
         "legendgroup": "Electric",
         "marker": {
          "color": "#FF6692"
         },
         "name": "Electric",
         "notched": false,
         "offsetgroup": "Electric",
         "orientation": "v",
         "showlegend": true,
         "type": "box",
         "x": {
          "bdata": "AAAAAAAAAAABAAAAAAABAAAAAAAAAAAAAAAAAAAAAAABAAAAAAAAAAAAAAAAAAAAAQAAAAAAAAAAAQA=",
          "dtype": "i1"
         },
         "x0": " ",
         "xaxis": "x",
         "y": {
          "bdata": "QAHlAUUB0QFKAeoB6gENAkQCzQAYAW0B/gFoAUQCJwHbAZUBlQEHAWsBCwKVARcCHAK4AScB8QGsARMBlQEDAkQCIQHhAa8BswE6AjoCWAIOAeoB8gD2AbMBtAH5AfkBRALwAF4B6gEQAe8BGAHqAToCngJOAg==",
          "dtype": "i2"
         },
         "y0": " ",
         "yaxis": "y"
        },
        {
         "alignmentgroup": "True",
         "hovertemplate": "Type 1=Ground<br>Is_Legendary=%{x}<br>Base_Stats=%{y}<extra></extra>",
         "legendgroup": "Ground",
         "marker": {
          "color": "#B6E880"
         },
         "name": "Ground",
         "notched": false,
         "offsetgroup": "Ground",
         "orientation": "v",
         "showlegend": true,
         "type": "box",
         "x": {
          "bdata": "AAAAAAAAAAAAAAAAAAAAAAEAAAAAAAAAAAAAAAABAAAAAAAAAAAAAA==",
          "dtype": "i1"
         },
         "x0": " ",
         "xaxis": "x",
         "y": {
          "bdata": "LAHCAQkBqQFAAakBWQHlAa4BSgH0ASIBVAEIAiwB9AGeAkoBDQIXAv4BSAH8ASQBXwEHAtcBLwHjAVgCgQH0ATsB/gHjASYCTwEDAjoCOgI=",
          "dtype": "i2"
         },
         "y0": " ",
         "yaxis": "y"
        },
        {
         "alignmentgroup": "True",
         "hovertemplate": "Type 1=Fairy<br>Is_Legendary=%{x}<br>Base_Stats=%{y}<extra></extra>",
         "legendgroup": "Fairy",
         "marker": {
          "color": "#FF97FF"
         },
         "name": "Fairy",
         "notched": false,
         "offsetgroup": "Fairy",
         "orientation": "v",
         "showlegend": true,
         "type": "box",
         "x": {
          "bdata": "AAAAAAAAAAAAAAAAAAAAAAEAAAABAQAAAAAAAAA=",
          "dtype": "i1"
         },
         "x0": " ",
         "xaxis": "x",
         "y": {
          "bdata": "QwHjAdoA9QCVASwBwgEhAi8BcwEoAlUBzgFVAeABDQKoAuUBDgHvAZ4CRAI4Ad0BKQF8AfoBOgJOAg==",
          "dtype": "i2"
         },
         "y0": " ",
         "yaxis": "y"
        },
        {
         "alignmentgroup": "True",
         "hovertemplate": "Type 1=Fighting<br>Is_Legendary=%{x}<br>Base_Stats=%{y}<extra></extra>",
         "legendgroup": "Fighting",
         "marker": {
          "color": "#FECB52"
         },
         "name": "Fighting",
         "notched": false,
         "offsetgroup": "Fighting",
         "orientation": "v",
         "showlegend": true,
         "type": "box",
         "x": {
          "bdata": "AAAAAAAAAAAAAAAAAAAAAAAAAAAAAAAAAAAAAAAAAAAAAQEBAAAAAQ==",
          "dtype": "i1"
         },
         "x0": " ",
         "xaxis": "x",
         "y": {
          "bdata": "MQHHATEBlQH5AccBxwHSAMcB7QDaARgBmgEdAQ0CMQGVAfkB0QHRAV4B/gFcAe8B9AFSAd4B6gFYAjYB4AE+AdYBngKBASYC/gEXAjoCngI=",
          "dtype": "i2"
         },
         "y0": " ",
         "yaxis": "y"
        },
        {
         "alignmentgroup": "True",
         "hovertemplate": "Type 1=Psychic<br>Is_Legendary=%{x}<br>Base_Stats=%{y}<extra></extra>",
         "legendgroup": "Psychic",
         "marker": {
          "color": "#636efa"
         },
         "name": "Psychic",
         "notched": false,
         "offsetgroup": "Psychic",
         "orientation": "v",
         "showlegend": true,
         "type": "box",
         "x": {
          "bdata": "AAAAAAAAAQAAAAAAAAEAAAAAAAAAAAAAAAABAQEBAAAAAAAAAAAAAAAAAAAAAAAAAQEBAQEAAAAAAQAA",
          "dtype": "i1"
         },
         "x0": " ",
         "xaxis": "x",
         "y": {
          "bdata": "NgGQAfQBSAHjAcwBqAJYAkAB1gENAlABlQGoAlgCxgAWAQYCSgHWAccBBAFYAh0BNgEGAkQCRAJEAlgCWAIkAecBQwGpAeoBIgGGAeoBIgFyAeoBTwHlAWMB0gFYAjoCyACQAagCqAJYAgkBcgH+AdsB9AH/AOEB",
          "dtype": "i2"
         },
         "y0": " ",
         "yaxis": "y"
        },
        {
         "alignmentgroup": "True",
         "hovertemplate": "Type 1=Rock<br>Is_Legendary=%{x}<br>Base_Stats=%{y}<extra></extra>",
         "legendgroup": "Rock",
         "marker": {
          "color": "#EF553B"
         },
         "name": "Rock",
         "notched": false,
         "offsetgroup": "Rock",
         "orientation": "v",
         "showlegend": true,
         "type": "box",
         "x": {
          "bdata": "AAAAAAAAAAAAAAAAAAAAAAAAAAABAAAAAAAAAAAAAAABAAAAAAAAAAAAAAAAAAAAAAAAAAAAAAAAAA==",
          "dtype": "i1"
         },
         "x0": " ",
         "xaxis": "x",
         "y": {
          "bdata": "LAGGAe8BgQFjAe8BYwHvAQMCmgEsAZoBWAJ3AcwBzAFjAe8BYwHvAUQCXgHvAV4B7wEiAQ0CGAGGAQMCkQE3AkQCMgH0AWoBCQJqAQkC9AFYAhgB5wG4AToCOgLwAJoB/gHWARgBYwH0AcIBXgENAjoCTgI=",
          "dtype": "i2"
         },
         "y0": " ",
         "yaxis": "y"
        },
        {
         "alignmentgroup": "True",
         "hovertemplate": "Type 1=Ghost<br>Is_Legendary=%{x}<br>Base_Stats=%{y}<extra></extra>",
         "legendgroup": "Ghost",
         "marker": {
          "color": "#00cc96"
         },
         "name": "Ghost",
         "notched": false,
         "offsetgroup": "Ghost",
         "orientation": "v",
         "showlegend": true,
         "type": "box",
         "x": {
          "bdata": "AAAAAAAAAAAAAAAAAAEAAAAAAAAAAAAAAAAAAAAAAAAAAAA=",
          "dtype": "i1"
         },
         "x0": " ",
         "xaxis": "x",
         "y": {
          "bdata": "NgGVAfQBswEnAccBJwHHAVwB8gHvAeUBDQKoAi8B4wETAXIBCAI1AdoBTwHuAUAB4AHcAQUCNAH8Af4BRAIiAegBOgIsAQ==",
          "dtype": "i2"
         },
         "y0": " ",
         "yaxis": "y"
        },
        {
         "alignmentgroup": "True",
         "hovertemplate": "Type 1=Ice<br>Is_Legendary=%{x}<br>Base_Stats=%{y}<extra></extra>",
         "legendgroup": "Ice",
         "marker": {
          "color": "#ab63fa"
         },
         "name": "Ice",
         "notched": false,
         "offsetgroup": "Ice",
         "orientation": "v",
         "showlegend": true,
         "type": "box",
         "x": {
          "bdata": "AAEAAAAAAAAAAAABAAAAAAAAAAAAAAAAAAAAAAAAAA==",
          "dtype": "i1"
         },
         "x0": " ",
         "xaxis": "x",
         "y": {
          "bdata": "xwFEAvoAwgFKATEBLAHgASIBmgESAkQCDQISAuABMQGLARcCMQH5AQMCMAECAggCuQDbAdYBRAJOAQkCOgI=",
          "dtype": "i2"
         },
         "y0": " ",
         "yaxis": "y"
        },
        {
         "alignmentgroup": "True",
         "hovertemplate": "Type 1=Dragon<br>Is_Legendary=%{x}<br>Base_Stats=%{y}<extra></extra>",
         "legendgroup": "Dragon",
         "marker": {
          "color": "#FFA15A"
         },
         "name": "Dragon",
         "notched": false,
         "offsetgroup": "Dragon",
         "orientation": "v",
         "showlegend": true,
         "type": "box",
         "x": {
          "bdata": "AAAAAAAAAAEBAQAAAAAAAAABAQEAAAABAAAAAAAAAQAAAAAAAA==",
          "dtype": "i1"
         },
         "x0": " ",
         "xaxis": "x",
         "y": {
          "bdata": "LAGkAVgC6gEsAaQBWAJYAlgCqAIsAZoBWAJAAZoBHALlAagCqAKUAiwBxAFYAlgCLAGkAVgCDgGaAVgCRAL1AdsBQAGnAVgCTgI=",
          "dtype": "i2"
         },
         "y0": " ",
         "yaxis": "y"
        },
        {
         "alignmentgroup": "True",
         "hovertemplate": "Type 1=Dark<br>Is_Legendary=%{x}<br>Base_Stats=%{y}<extra></extra>",
         "legendgroup": "Dark",
         "marker": {
          "color": "#19d3f3"
         },
         "name": "Dark",
         "notched": false,
         "offsetgroup": "Dark",
         "orientation": "v",
         "showlegend": true,
         "type": "box",
         "x": {
          "bdata": "AAAAAAAAAAAAAAAAAAAAAAAAAAAAAAAAAAAAAQAAAAAAAAAAAAAAAAABAQEB",
          "dtype": "i1"
         },
         "x0": " ",
         "xaxis": "x",
         "y": {
          "bdata": "DQKVAa4BSgH0AdwApAF8AdEB+QH+AVgCGQG+AVwB6AFKAf4BVAHqAXIB/gEsAaQBWAIgAeIBqAI6AvUAxwEJAXIB/gEIAlgC/gFUAfkBJgI6AjoCOgI6AjoC",
          "dtype": "i2"
         },
         "y0": " ",
         "yaxis": "y"
        },
        {
         "alignmentgroup": "True",
         "hovertemplate": "Type 1=Steel<br>Is_Legendary=%{x}<br>Base_Stats=%{y}<extra></extra>",
         "legendgroup": "Steel",
         "marker": {
          "color": "#FF6692"
         },
         "name": "Steel",
         "notched": false,
         "offsetgroup": "Steel",
         "orientation": "v",
         "showlegend": true,
         "type": "box",
         "x": {
          "bdata": "AAAAAAAAAAAAAQAAAAEAAAABAAAAAAAAAAAAAAAAAAAAAAAA",
          "dtype": "i1"
         },
         "x0": " ",
         "xaxis": "x",
         "y": {
          "bdata": "/gHRAXwBSgGuARICLAGkAVgCRAJYAiwB9AGoAiwBuAEIAkQCRQHAAQgC1gE6AlgCLAFYArgBSgH0ARcCLAH0AeABJgJYAk4C",
          "dtype": "i2"
         },
         "y0": " ",
         "yaxis": "y"
        },
        {
         "alignmentgroup": "True",
         "hovertemplate": "Type 1=Flying<br>Is_Legendary=%{x}<br>Base_Stats=%{y}<extra></extra>",
         "legendgroup": "Flying",
         "marker": {
          "color": "#B6E880"
         },
         "name": "Flying",
         "notched": false,
         "offsetgroup": "Flying",
         "orientation": "v",
         "showlegend": true,
         "type": "box",
         "x": {
          "bdata": "AQAAAAAAAAAA",
          "dtype": "i1"
         },
         "x0": " ",
         "xaxis": "x",
         "y": {
          "bdata": "RAL1ABcC9QBtAe8B2wHlAfQB",
          "dtype": "i2"
         },
         "y0": " ",
         "yaxis": "y"
        }
       ],
       "layout": {
        "boxmode": "group",
        "legend": {
         "title": {
          "text": "Type 1"
         },
         "tracegroupgap": 0
        },
        "template": {
         "data": {
          "bar": [
           {
            "error_x": {
             "color": "#2a3f5f"
            },
            "error_y": {
             "color": "#2a3f5f"
            },
            "marker": {
             "line": {
              "color": "#E5ECF6",
              "width": 0.5
             },
             "pattern": {
              "fillmode": "overlay",
              "size": 10,
              "solidity": 0.2
             }
            },
            "type": "bar"
           }
          ],
          "barpolar": [
           {
            "marker": {
             "line": {
              "color": "#E5ECF6",
              "width": 0.5
             },
             "pattern": {
              "fillmode": "overlay",
              "size": 10,
              "solidity": 0.2
             }
            },
            "type": "barpolar"
           }
          ],
          "carpet": [
           {
            "aaxis": {
             "endlinecolor": "#2a3f5f",
             "gridcolor": "white",
             "linecolor": "white",
             "minorgridcolor": "white",
             "startlinecolor": "#2a3f5f"
            },
            "baxis": {
             "endlinecolor": "#2a3f5f",
             "gridcolor": "white",
             "linecolor": "white",
             "minorgridcolor": "white",
             "startlinecolor": "#2a3f5f"
            },
            "type": "carpet"
           }
          ],
          "choropleth": [
           {
            "colorbar": {
             "outlinewidth": 0,
             "ticks": ""
            },
            "type": "choropleth"
           }
          ],
          "contour": [
           {
            "colorbar": {
             "outlinewidth": 0,
             "ticks": ""
            },
            "colorscale": [
             [
              0,
              "#0d0887"
             ],
             [
              0.1111111111111111,
              "#46039f"
             ],
             [
              0.2222222222222222,
              "#7201a8"
             ],
             [
              0.3333333333333333,
              "#9c179e"
             ],
             [
              0.4444444444444444,
              "#bd3786"
             ],
             [
              0.5555555555555556,
              "#d8576b"
             ],
             [
              0.6666666666666666,
              "#ed7953"
             ],
             [
              0.7777777777777778,
              "#fb9f3a"
             ],
             [
              0.8888888888888888,
              "#fdca26"
             ],
             [
              1,
              "#f0f921"
             ]
            ],
            "type": "contour"
           }
          ],
          "contourcarpet": [
           {
            "colorbar": {
             "outlinewidth": 0,
             "ticks": ""
            },
            "type": "contourcarpet"
           }
          ],
          "heatmap": [
           {
            "colorbar": {
             "outlinewidth": 0,
             "ticks": ""
            },
            "colorscale": [
             [
              0,
              "#0d0887"
             ],
             [
              0.1111111111111111,
              "#46039f"
             ],
             [
              0.2222222222222222,
              "#7201a8"
             ],
             [
              0.3333333333333333,
              "#9c179e"
             ],
             [
              0.4444444444444444,
              "#bd3786"
             ],
             [
              0.5555555555555556,
              "#d8576b"
             ],
             [
              0.6666666666666666,
              "#ed7953"
             ],
             [
              0.7777777777777778,
              "#fb9f3a"
             ],
             [
              0.8888888888888888,
              "#fdca26"
             ],
             [
              1,
              "#f0f921"
             ]
            ],
            "type": "heatmap"
           }
          ],
          "histogram": [
           {
            "marker": {
             "pattern": {
              "fillmode": "overlay",
              "size": 10,
              "solidity": 0.2
             }
            },
            "type": "histogram"
           }
          ],
          "histogram2d": [
           {
            "colorbar": {
             "outlinewidth": 0,
             "ticks": ""
            },
            "colorscale": [
             [
              0,
              "#0d0887"
             ],
             [
              0.1111111111111111,
              "#46039f"
             ],
             [
              0.2222222222222222,
              "#7201a8"
             ],
             [
              0.3333333333333333,
              "#9c179e"
             ],
             [
              0.4444444444444444,
              "#bd3786"
             ],
             [
              0.5555555555555556,
              "#d8576b"
             ],
             [
              0.6666666666666666,
              "#ed7953"
             ],
             [
              0.7777777777777778,
              "#fb9f3a"
             ],
             [
              0.8888888888888888,
              "#fdca26"
             ],
             [
              1,
              "#f0f921"
             ]
            ],
            "type": "histogram2d"
           }
          ],
          "histogram2dcontour": [
           {
            "colorbar": {
             "outlinewidth": 0,
             "ticks": ""
            },
            "colorscale": [
             [
              0,
              "#0d0887"
             ],
             [
              0.1111111111111111,
              "#46039f"
             ],
             [
              0.2222222222222222,
              "#7201a8"
             ],
             [
              0.3333333333333333,
              "#9c179e"
             ],
             [
              0.4444444444444444,
              "#bd3786"
             ],
             [
              0.5555555555555556,
              "#d8576b"
             ],
             [
              0.6666666666666666,
              "#ed7953"
             ],
             [
              0.7777777777777778,
              "#fb9f3a"
             ],
             [
              0.8888888888888888,
              "#fdca26"
             ],
             [
              1,
              "#f0f921"
             ]
            ],
            "type": "histogram2dcontour"
           }
          ],
          "mesh3d": [
           {
            "colorbar": {
             "outlinewidth": 0,
             "ticks": ""
            },
            "type": "mesh3d"
           }
          ],
          "parcoords": [
           {
            "line": {
             "colorbar": {
              "outlinewidth": 0,
              "ticks": ""
             }
            },
            "type": "parcoords"
           }
          ],
          "pie": [
           {
            "automargin": true,
            "type": "pie"
           }
          ],
          "scatter": [
           {
            "fillpattern": {
             "fillmode": "overlay",
             "size": 10,
             "solidity": 0.2
            },
            "type": "scatter"
           }
          ],
          "scatter3d": [
           {
            "line": {
             "colorbar": {
              "outlinewidth": 0,
              "ticks": ""
             }
            },
            "marker": {
             "colorbar": {
              "outlinewidth": 0,
              "ticks": ""
             }
            },
            "type": "scatter3d"
           }
          ],
          "scattercarpet": [
           {
            "marker": {
             "colorbar": {
              "outlinewidth": 0,
              "ticks": ""
             }
            },
            "type": "scattercarpet"
           }
          ],
          "scattergeo": [
           {
            "marker": {
             "colorbar": {
              "outlinewidth": 0,
              "ticks": ""
             }
            },
            "type": "scattergeo"
           }
          ],
          "scattergl": [
           {
            "marker": {
             "colorbar": {
              "outlinewidth": 0,
              "ticks": ""
             }
            },
            "type": "scattergl"
           }
          ],
          "scattermap": [
           {
            "marker": {
             "colorbar": {
              "outlinewidth": 0,
              "ticks": ""
             }
            },
            "type": "scattermap"
           }
          ],
          "scattermapbox": [
           {
            "marker": {
             "colorbar": {
              "outlinewidth": 0,
              "ticks": ""
             }
            },
            "type": "scattermapbox"
           }
          ],
          "scatterpolar": [
           {
            "marker": {
             "colorbar": {
              "outlinewidth": 0,
              "ticks": ""
             }
            },
            "type": "scatterpolar"
           }
          ],
          "scatterpolargl": [
           {
            "marker": {
             "colorbar": {
              "outlinewidth": 0,
              "ticks": ""
             }
            },
            "type": "scatterpolargl"
           }
          ],
          "scatterternary": [
           {
            "marker": {
             "colorbar": {
              "outlinewidth": 0,
              "ticks": ""
             }
            },
            "type": "scatterternary"
           }
          ],
          "surface": [
           {
            "colorbar": {
             "outlinewidth": 0,
             "ticks": ""
            },
            "colorscale": [
             [
              0,
              "#0d0887"
             ],
             [
              0.1111111111111111,
              "#46039f"
             ],
             [
              0.2222222222222222,
              "#7201a8"
             ],
             [
              0.3333333333333333,
              "#9c179e"
             ],
             [
              0.4444444444444444,
              "#bd3786"
             ],
             [
              0.5555555555555556,
              "#d8576b"
             ],
             [
              0.6666666666666666,
              "#ed7953"
             ],
             [
              0.7777777777777778,
              "#fb9f3a"
             ],
             [
              0.8888888888888888,
              "#fdca26"
             ],
             [
              1,
              "#f0f921"
             ]
            ],
            "type": "surface"
           }
          ],
          "table": [
           {
            "cells": {
             "fill": {
              "color": "#EBF0F8"
             },
             "line": {
              "color": "white"
             }
            },
            "header": {
             "fill": {
              "color": "#C8D4E3"
             },
             "line": {
              "color": "white"
             }
            },
            "type": "table"
           }
          ]
         },
         "layout": {
          "annotationdefaults": {
           "arrowcolor": "#2a3f5f",
           "arrowhead": 0,
           "arrowwidth": 1
          },
          "autotypenumbers": "strict",
          "coloraxis": {
           "colorbar": {
            "outlinewidth": 0,
            "ticks": ""
           }
          },
          "colorscale": {
           "diverging": [
            [
             0,
             "#8e0152"
            ],
            [
             0.1,
             "#c51b7d"
            ],
            [
             0.2,
             "#de77ae"
            ],
            [
             0.3,
             "#f1b6da"
            ],
            [
             0.4,
             "#fde0ef"
            ],
            [
             0.5,
             "#f7f7f7"
            ],
            [
             0.6,
             "#e6f5d0"
            ],
            [
             0.7,
             "#b8e186"
            ],
            [
             0.8,
             "#7fbc41"
            ],
            [
             0.9,
             "#4d9221"
            ],
            [
             1,
             "#276419"
            ]
           ],
           "sequential": [
            [
             0,
             "#0d0887"
            ],
            [
             0.1111111111111111,
             "#46039f"
            ],
            [
             0.2222222222222222,
             "#7201a8"
            ],
            [
             0.3333333333333333,
             "#9c179e"
            ],
            [
             0.4444444444444444,
             "#bd3786"
            ],
            [
             0.5555555555555556,
             "#d8576b"
            ],
            [
             0.6666666666666666,
             "#ed7953"
            ],
            [
             0.7777777777777778,
             "#fb9f3a"
            ],
            [
             0.8888888888888888,
             "#fdca26"
            ],
            [
             1,
             "#f0f921"
            ]
           ],
           "sequentialminus": [
            [
             0,
             "#0d0887"
            ],
            [
             0.1111111111111111,
             "#46039f"
            ],
            [
             0.2222222222222222,
             "#7201a8"
            ],
            [
             0.3333333333333333,
             "#9c179e"
            ],
            [
             0.4444444444444444,
             "#bd3786"
            ],
            [
             0.5555555555555556,
             "#d8576b"
            ],
            [
             0.6666666666666666,
             "#ed7953"
            ],
            [
             0.7777777777777778,
             "#fb9f3a"
            ],
            [
             0.8888888888888888,
             "#fdca26"
            ],
            [
             1,
             "#f0f921"
            ]
           ]
          },
          "colorway": [
           "#636efa",
           "#EF553B",
           "#00cc96",
           "#ab63fa",
           "#FFA15A",
           "#19d3f3",
           "#FF6692",
           "#B6E880",
           "#FF97FF",
           "#FECB52"
          ],
          "font": {
           "color": "#2a3f5f"
          },
          "geo": {
           "bgcolor": "white",
           "lakecolor": "white",
           "landcolor": "#E5ECF6",
           "showlakes": true,
           "showland": true,
           "subunitcolor": "white"
          },
          "hoverlabel": {
           "align": "left"
          },
          "hovermode": "closest",
          "mapbox": {
           "style": "light"
          },
          "paper_bgcolor": "white",
          "plot_bgcolor": "#E5ECF6",
          "polar": {
           "angularaxis": {
            "gridcolor": "white",
            "linecolor": "white",
            "ticks": ""
           },
           "bgcolor": "#E5ECF6",
           "radialaxis": {
            "gridcolor": "white",
            "linecolor": "white",
            "ticks": ""
           }
          },
          "scene": {
           "xaxis": {
            "backgroundcolor": "#E5ECF6",
            "gridcolor": "white",
            "gridwidth": 2,
            "linecolor": "white",
            "showbackground": true,
            "ticks": "",
            "zerolinecolor": "white"
           },
           "yaxis": {
            "backgroundcolor": "#E5ECF6",
            "gridcolor": "white",
            "gridwidth": 2,
            "linecolor": "white",
            "showbackground": true,
            "ticks": "",
            "zerolinecolor": "white"
           },
           "zaxis": {
            "backgroundcolor": "#E5ECF6",
            "gridcolor": "white",
            "gridwidth": 2,
            "linecolor": "white",
            "showbackground": true,
            "ticks": "",
            "zerolinecolor": "white"
           }
          },
          "shapedefaults": {
           "line": {
            "color": "#2a3f5f"
           }
          },
          "ternary": {
           "aaxis": {
            "gridcolor": "white",
            "linecolor": "white",
            "ticks": ""
           },
           "baxis": {
            "gridcolor": "white",
            "linecolor": "white",
            "ticks": ""
           },
           "bgcolor": "#E5ECF6",
           "caxis": {
            "gridcolor": "white",
            "linecolor": "white",
            "ticks": ""
           }
          },
          "title": {
           "x": 0.05
          },
          "xaxis": {
           "automargin": true,
           "gridcolor": "white",
           "linecolor": "white",
           "ticks": "",
           "title": {
            "standoff": 15
           },
           "zerolinecolor": "white",
           "zerolinewidth": 2
          },
          "yaxis": {
           "automargin": true,
           "gridcolor": "white",
           "linecolor": "white",
           "ticks": "",
           "title": {
            "standoff": 15
           },
           "zerolinecolor": "white",
           "zerolinewidth": 2
          }
         }
        },
        "title": {
         "text": "Estatísticas Base por Status Lendário"
        },
        "xaxis": {
         "anchor": "y",
         "domain": [
          0,
          1
         ],
         "title": {
          "text": "Is_Legendary"
         }
        },
        "yaxis": {
         "anchor": "x",
         "domain": [
          0,
          1
         ],
         "title": {
          "text": "Base_Stats"
         }
        }
       }
      }
     },
     "metadata": {},
     "output_type": "display_data"
    }
   ],
   "source": [
    "legends_per_type"
   ]
  },
  {
   "cell_type": "markdown",
   "id": "ee7ce767",
   "metadata": {},
   "source": [
    "## Combate"
   ]
  },
  {
   "cell_type": "code",
   "execution_count": 55,
   "id": "8a5e1ac2",
   "metadata": {},
   "outputs": [],
   "source": [
    "# Visualizando a relação peso x defesa, \n",
    "weight_defense = px.scatter(\n",
    "    df, \n",
    "    x=\"weight_kilograms\", \n",
    "    y=\"Defense\", \n",
    "    color=\"Type 1\",\n",
    "    trendline=\"lowess\", # ative essa linha caso queira ver a trendline\n",
    "    title=\"Peso vs. Defesa\")"
   ]
  },
  {
   "cell_type": "markdown",
   "id": "2f8dc9fd",
   "metadata": {},
   "source": [
    "## Relação Peso x Defesa"
   ]
  },
  {
   "cell_type": "code",
   "execution_count": 56,
   "id": "03b6d556",
   "metadata": {},
   "outputs": [
    {
     "data": {
      "application/vnd.plotly.v1+json": {
       "config": {
        "plotlyServerURL": "https://plot.ly"
       },
       "data": [
        {
         "hovertemplate": "Type 1=Grass<br>weight_kilograms=%{x}<br>Defense=%{y}<extra></extra>",
         "legendgroup": "Grass",
         "marker": {
          "color": "#636efa",
          "symbol": "circle"
         },
         "mode": "markers",
         "name": "Grass",
         "showlegend": true,
         "type": "scattergl",
         "x": {
          "bdata": "mpmZmZmZG0AAAAAAAAAqQAAAAAAAAFlAmpmZmZmZFUAzMzMzMzMhQJqZmZmZmTJAAAAAAAAAEECamZmZmZkZQAAAAAAAAC9AAAAAAAAABEAAAAAAAABeQAAAAAAAgEFAmpmZmZmZGUCamZmZmZkvQAAAAAAAIFlAMzMzMzMzF0AAAAAAAADgPwAAAAAAAPA/AAAAAAAACEDNzMzMzMz8PwAAAAAAACFAAAAAAAAAFECamZmZmZk1QJqZmZmZGUpAAAAAAAAAEEAAAAAAAAA8QM3MzMzMzE1AAAAAAAAAEkCamZmZmZlDQAAAAAAAAABAZmZmZmamSUCamZmZmVlTQAAAAAAAAFlAZmZmZmZmJEAAAAAAAEBYQAAAAAAAYHNAMzMzMzMz8z8AAAAAAAAtQGZmZmZmZgpAmpmZmZmZIkAAAAAAAAA7QAAAAAAAQElAAAAAAADwYEAzMzMzMxNgQAAAAAAAgDlAzczMzMzMAEAzMzMzMzMgQAAAAAAAADBAAAAAAACAT0AAAAAAAAAlQAAAAAAAgD5AMzMzMzMz4z9mZmZmZmYaQGZmZmZmZhpAzczMzMxMMEAAAAAAAAA8QAAAAAAAAPA/AAAAAAAAJUDNzMzMzMwyQAAAAAAAgFtAAAAAAAAAaUAAAAAAAAAiQAAAAAAAAD1AAAAAAACAVkAAAAAAAAA/QAAAAAAAwFZAAAAAAAAA+D8AAAAAAAAwQM3MzMzMTEJAAAAAAAAA+D8AAAAAAIAyQAAAAAAAAPg/AAAAAAAAJ0CamZmZmZkJQGZmZmZmZiBAZmZmZmZmNUAAAAAAAMBGQJqZmZmZmbk/AAAAAAAAFEAAAAAAAAAsQAAAAAAAgFZAmpmZmZmZAUAAAAAAAAAEQAAAAAAAAOA/AAAAAAAA8D8AAAAAAAAqQGZmZmZmZhBAZmZmZmZmKEAzMzMzMzM/QAAAAAAAABpAzczMzMzMJ0CamZmZmRlIQDMzMzMzM+M/AAAAAAAAGEAAAAAAAAAIQAAAAAAAAC5AAAAAAAAANUAAAAAAAEBfQJqZmZmZmRFAmpmZmZmZ8T+amZmZmZkBQGZmZmZm5kNAAAAAAABAV0A=",
          "dtype": "f8"
         },
         "xaxis": "x",
         "y": {
          "bdata": "MQA/AFMANwBGAFUAIwAyAEEAUABVAHMAQQBQAGQAXwAoADIARgAeADcAIwAtAEEAMgAoADwAPABQAC0AKAA8AFMAQABVAGkAIwBBAC0ARgBIADIASwB9AIIAZAA3AEsAXwAwAD8APABVADIASwBDAC0ARgBbAIMASABBAF8AegAwAD4ANwBLAEsAIwBaADcAUAAmADAAYgBzAIMAMgBGAFoAPABaAFAAUABQADYAPwBGAC0APABaAB4ARgAoAEEAYwBYAG4ALQBqAFQAbgA=",
          "dtype": "i2"
         },
         "yaxis": "y"
        },
        {
         "hovertemplate": "<b>LOWESS trendline</b><br><br>Type 1=Grass<br>weight_kilograms=%{x}<br>Defense=%{y} <b>(trend)</b><extra></extra>",
         "legendgroup": "Grass",
         "marker": {
          "color": "#636efa",
          "symbol": "circle"
         },
         "mode": "lines",
         "name": "Grass",
         "showlegend": false,
         "type": "scattergl",
         "x": {
          "bdata": "mpmZmZmZuT8AAAAAAADgPwAAAAAAAOA/MzMzMzMz4z8zMzMzMzPjPwAAAAAAAPA/AAAAAAAA8D8AAAAAAADwP5qZmZmZmfE/MzMzMzMz8z8AAAAAAAD4PwAAAAAAAPg/AAAAAAAA+D/NzMzMzMz8PwAAAAAAAABAzczMzMzMAECamZmZmZkBQJqZmZmZmQFAAAAAAAAABEAAAAAAAAAEQAAAAAAAAAhAAAAAAAAACECamZmZmZkJQGZmZmZmZgpAAAAAAAAAEEAAAAAAAAAQQGZmZmZmZhBAmpmZmZmZEUAAAAAAAAASQAAAAAAAABRAAAAAAAAAFECamZmZmZkVQDMzMzMzMxdAAAAAAAAAGECamZmZmZkZQJqZmZmZmRlAAAAAAAAAGkBmZmZmZmYaQGZmZmZmZhpAmpmZmZmZG0AzMzMzMzMgQGZmZmZmZiBAAAAAAAAAIUAzMzMzMzMhQAAAAAAAACJAmpmZmZmZIkBmZmZmZmYkQAAAAAAAACVAAAAAAAAAJUAAAAAAAAAnQM3MzMzMzCdAZmZmZmZmKEAAAAAAAAAqQAAAAAAAACpAAAAAAAAALEAAAAAAAAAtQAAAAAAAAC5AAAAAAAAAL0CamZmZmZkvQAAAAAAAADBAAAAAAAAAMEDNzMzMzEwwQAAAAAAAgDJAmpmZmZmZMkDNzMzMzMwyQAAAAAAAADVAZmZmZmZmNUCamZmZmZk1QAAAAAAAgDlAAAAAAAAAO0AAAAAAAAA8QAAAAAAAADxAAAAAAAAAPUAAAAAAAIA+QAAAAAAAAD9AMzMzMzMzP0AAAAAAAIBBQM3MzMzMTEJAmpmZmZmZQ0BmZmZmZuZDQAAAAAAAwEZAmpmZmZkZSEAAAAAAAEBJQGZmZmZmpklAmpmZmZkZSkDNzMzMzMxNQAAAAAAAgE9AmpmZmZlZU0AAAAAAAIBWQAAAAAAAgFZAAAAAAADAVkAAAAAAAEBXQAAAAAAAQFhAAAAAAAAAWUAAAAAAAABZQAAAAAAAIFlAAAAAAACAW0AAAAAAAABeQAAAAAAAQF9AMzMzMzMTYEAAAAAAAPBgQAAAAAAAAGlAAAAAAABgc0A=",
          "dtype": "f8"
         },
         "xaxis": "x",
         "y": {
          "bdata": "1MBqcx0mSEC9HSR+h3FIQL0dJH6HcUhAkoo902qESECSij3TaoRIQK6b8sIb0EhArpvywhvQSECum/LCG9BIQKgVqOgQ40hAwkp+jAn2SEATNu8qCC9JQBM27yoIL0lAEzbvKggvSUB3zN1lJmhJQHeNI9xMjklAXMxX9GWhSUBcf4Yvg7RJQFx/hi+DtElAMO9VxfTtSUAw71XF9O1JQErvT7wHTkpASu9PvAdOSkBT1o+fkHRKQFmaZSTah0pAE2xpgzEPS0ATbGmDMQ9LQDvqVjmSIktAYst4E8RcS0Bs2ptWL3BLQD62smFv0UtAPrayYW/RS0D/PrIWbB9MQJev2AaabUxAPeYNh8aUTECbmhVRTuNMQJuaFVFO40xA0dw2Ifr2TEB2zRjtqQpNQHbNGO2pCk1AxbK4xdFFTUCySyjMATROQH42EOL7R05ASP653Q2ETkAm4roLIZhOQPlvG0i86E5ALVgB+5ElT0Amm1FK2N5PQC2QXYIAD1BALZBdggAPUEBP609GuI5QQEuoSIB3xVBAZspN8pXtUEBGwcjcEFRRQEbByNwQVFFApH3B8j3SUUDD9A7L7g1SQB+CgPRKRVJA3g++uNJoUkBfC6hSA3ZSQAsmgJgvfFJACyaAmC98UkA1eFR1qIVSQHZvV69gTlJAHzaPBtBLUkC4rS3fW0dSQGEpuDTWRVJAxP+1PuZJUkDIHw4WbExSQETmYKB7p1JAu9bTRSHZUkCEgaiPFvNSQISBqI8W81JA/bI0hdz4UkB6jM43K+dSQH1LoiTE4FJAqWFG+j3eUkCG+KA9VoxSQCh4rYc4eVJA5/ncP2tvUkAHL/b+Ym9SQCaHwEF1YlJAXbZQ0pdRUkD6LD5bj11SQJjBfMY6b1JASlx1femBUkA1rn2bsXZTQPcD+DkRy1NABgbstZTKVEDfQasKq2xVQN9BqwqrbFVAaXEl5IJ5VUBkTYplcpNVQGjD075gyFVALKu4OPXwVUAsq7g49fBVQDMZuSDK91VAv8msihFrVkAtMJ/80YBWQGC/HyBpd1ZASmzm0x9vVkC8PXhsXWBWQMFaqockA1dAn5cEW6frWEA=",
          "dtype": "f8"
         },
         "yaxis": "y"
        },
        {
         "hovertemplate": "Type 1=Fire<br>weight_kilograms=%{x}<br>Defense=%{y}<extra></extra>",
         "legendgroup": "Fire",
         "marker": {
          "color": "#EF553B",
          "symbol": "circle"
         },
         "mode": "markers",
         "name": "Fire",
         "showlegend": true,
         "type": "scattergl",
         "x": {
          "bdata": "AAAAAAAAIUAAAAAAAAAzQAAAAAAAoFZAzczMzMzMI0BmZmZmZuYzQAAAAAAAADNAAAAAAABgY0AAAAAAAAA+QAAAAAAAwFdAAAAAAABARkAAAAAAAAA5QAAAAAAAAE5AmpmZmZmZH0AAAAAAAAAzQAAAAAAA4FNAAAAAAACAQUAAAAAAAIBLQGZmZmZmZjVAAAAAAADAaEAAAAAAAOBoQAAAAAAAAARAAAAAAACAM0AAAAAAAABKQAAAAAAAADhAAAAAAACAa0CamZmZmRlUQM3MzMzMzBhAAAAAAAAANkAAAAAAAIBLQAAAAAAAAFFAAAAAAADgekDNzMzMzMwjQAAAAAAAwEtAAAAAAADAYkAAAAAAAAAmQAAAAAAAADxAAAAAAADAQkCamZmZmTlXQAAAAAAAAE1AzczMzMzMIkAAAAAAAAAtQAAAAAAAgENAAAAAAAAAMEAAAAAAAIA4QAAAAAAAACtAAAAAAABgVEAAAAAAAGBoQDMzMzMzMxFAAAAAAAAAOUAAAAAAAMBUQDMzMzMzMwtAAAAAAACAakAAAAAAAAAqQAAAAAAAABJAAAAAAAAAIkAAAAAAAIBAQAAAAAAAAPA/AAAAAAAAXkCamZmZmZkjQDMzMzMzsz5AAAAAAABodEAAAAAAAAAlQAAAAAAAQFVAAAAAAAAAT0AAAAAAAABCQAAAAAAAcIJA",
          "dtype": "f8"
         },
         "xaxis": "x",
         "y": {
          "bdata": "KwA6AE4AKABLAC0AUAA3AEYAOQA8AFoAKwA6AE4AKAB4ACUAVQBaACgAPABGACgARgCMACwANABHAEMAagAtADcAQQAwAD8ALQA3AEIAKAA6AEgANwBHADoASAB4ACgAMgBaAEYAhwA1ACgAPABLAC0AQQA7AE4AZAAoAGQAUAA8AHkA",
          "dtype": "i2"
         },
         "yaxis": "y"
        },
        {
         "hovertemplate": "<b>LOWESS trendline</b><br><br>Type 1=Fire<br>weight_kilograms=%{x}<br>Defense=%{y} <b>(trend)</b><extra></extra>",
         "legendgroup": "Fire",
         "marker": {
          "color": "#EF553B",
          "symbol": "circle"
         },
         "mode": "lines",
         "name": "Fire",
         "showlegend": false,
         "type": "scattergl",
         "x": {
          "bdata": "AAAAAAAA8D8AAAAAAAAEQDMzMzMzMwtAMzMzMzMzEUAAAAAAAAASQM3MzMzMzBhAmpmZmZmZH0AAAAAAAAAhQAAAAAAAACJAzczMzMzMIkCamZmZmZkjQM3MzMzMzCNAzczMzMzMI0AAAAAAAAAlQAAAAAAAACZAAAAAAAAAKkAAAAAAAAArQAAAAAAAAC1AAAAAAAAAMEAAAAAAAAAzQAAAAAAAADNAAAAAAAAAM0AAAAAAAIAzQGZmZmZm5jNAZmZmZmZmNUAAAAAAAAA2QAAAAAAAADhAAAAAAACAOEAAAAAAAAA5QAAAAAAAADlAAAAAAAAAPEAAAAAAAAA+QDMzMzMzsz5AAAAAAACAQEAAAAAAAIBBQAAAAAAAAEJAAAAAAADAQkAAAAAAAIBDQAAAAAAAQEZAAAAAAAAASkAAAAAAAIBLQAAAAAAAgEtAAAAAAADAS0AAAAAAAABNQAAAAAAAAE5AAAAAAAAAT0AAAAAAAABRQAAAAAAA4FNAmpmZmZkZVEAAAAAAAGBUQAAAAAAAwFRAAAAAAABAVUAAAAAAAKBWQJqZmZmZOVdAAAAAAADAV0AAAAAAAABeQAAAAAAAwGJAAAAAAABgY0AAAAAAAGBoQAAAAAAAwGhAAAAAAADgaEAAAAAAAIBqQAAAAAAAgGtAAAAAAABodEAAAAAAAOB6QAAAAAAAcIJA",
          "dtype": "f8"
         },
         "xaxis": "x",
         "y": {
          "bdata": "sw5NjSSFRUAkoLQ09PdFQNaecR14PEZAk6h74q6ARkAco5ZDzI9GQOe7eGeVD0dA7qshgRGOR0BQPuCTYrpHQJ15Bxkv30dAIRgNeYn8R0C3kMcX0BlIQA/KS6ceIUhAD8pLpx4hSEAokoD320xIQHLpFigtcUhA7li5HE0BSUDT1OqVECVJQCgDZltLbElA3f3go2nWSUCk2L3v5adKQKTYve/lp0pApNi97+WnSkDtnoZdaMpKQHBauePq5UpAbGcXDCFMS0DqB06NeHRLQIvq8EGU90tAzX+T8EEXTEBs4YPgWTZMQGzhg+BZNkxAKmgMKFjeTEAAzwZE6jNNQBOfg9MxUE1ALGvJEl6qTUBd5/koAg1OQKcHXKPLSU5AlQjeAISnTkDDnvIoGANPQD94/ZDUE1BAa//yxdTRUEDpuxYy8BVRQOm7FjLwFVFACc/iWIoeUUA2Yu85WUNRQBKcMSgyXlFA4jSVSF15UUCDu62IaM5RQIIRKcL0IlJAUwwfZ5ooUkCyveop0i5SQFwW3mRUNVJA05N/2O09UkBO6JtTJDVSQHswc4MVL1JA7ZKNkp8rUkA4UlPj6nlSQDUz3amMNlNACtuzJORIU0A+QpqI6yNUQNUjJb3NP1RA31XNLh9JVEDX9b5iOr9UQE6QdY2tA1VAmmZzVZP0V0Cjvttm731aQBfPWVVogl5A",
          "dtype": "f8"
         },
         "yaxis": "y"
        },
        {
         "hovertemplate": "Type 1=Water<br>weight_kilograms=%{x}<br>Defense=%{y}<extra></extra>",
         "legendgroup": "Water",
         "marker": {
          "color": "#00cc96",
          "symbol": "circle"
         },
         "mode": "markers",
         "name": "Water",
         "showlegend": true,
         "type": "scattergl",
         "x": {
          "bdata": "AAAAAAAAIkAAAAAAAIA2QAAAAAAAYFVAmpmZmZmZM0BmZmZmZiZTQM3MzMzMzChAAAAAAAAANEAAAAAAAABLQAAAAAAAwEZAAAAAAACAS0AAAAAAAABCQAAAAAAAoFNAAAAAAACAVkAAAAAAAABeQAAAAAAAABBAAAAAAACQYEAAAAAAAAAaQAAAAAAAAE5AAAAAAAAAIEAAAAAAAAA5QAAAAAAAAC5AAAAAAACAQ0AAAAAAAEBBQAAAAAAAAFRAAAAAAAAAJEAAAAAAAGBtQAAAAAAAgGtAAAAAAAAAPUAAAAAAAAAjQAAAAAAAADlAMzMzMzMzVkAAAAAAAAAoQAAAAAAAgDZAAAAAAAAAIUAAAAAAAIA8QDMzMzMz80BAAAAAAAAAIUAAAAAAAMBSQAAAAAAA4FNAMzMzMzMzD0AAAAAAAAAUQAAAAAAAAChAAAAAAACAPEAAAAAAAIBrQAAAAAAAAGNAAAAAAABgZ0BmZmZmZmYeQAAAAAAAADxAmpmZmZl5VEDNzMzMzMwEQAAAAAAAQEBAAAAAAACAS0AAAAAAAAAjQAAAAAAAADxAzczMzMzMNEAzMzMzMzNWQAAAAAAAQGBAAAAAAADgeEBmZmZmZmb+P5qZmZmZmTdAAAAAAAAAJ0BmZmZmZmZAQJqZmZmZmR1AAAAAAABAZEAAAAAAAEBKQAAAAAAAADtAmpmZmZmZNkBmZmZmZmY3QGZmZmZmZiFAAAAAAAAAdkDNzMzMzMwUQAAAAAAAADdAAAAAAAAgVUAAAAAAAIA9QAAAAAAAwEBAMzMzMzMzGUBmZmZmZuY9QAAAAAAAABxAAAAAAAAAOEAAAAAAAEBQQAAAAAAAAHVAzczMzMzMCEBmZmZmZmb2P5qZmZmZmRdAAAAAAACAOEBmZmZmZqZXQAAAAAAAACtAAAAAAAAAPUAAAAAAAAASQAAAAAAAADFAAAAAAAAAT0AAAAAAAAAyQAAAAAAAgDBAAAAAAABAVEAAAAAAAAAWQDMzMzMzMzhAAAAAAACAQEAAAAAAAOBgQJqZmZmZmT9AAAAAAABASEAAAAAAAAAcQM3MzMzMzCVAAAAAAAAARECamZmZmZkgQGZmZmZmpkFAAAAAAAAAHkAAAAAAAIAxQAAAAAAAAEZAMzMzMzMz0z8AAAAAAAAQQAAAAAAAgFRAMzMzMzMz8z8AAAAAAAAzQDMzMzMzMzVAAAAAAAAAEEAAAAAAAAAnQJqZmZmZmUZAAAAAAAAAIUAAAAAAAOBcQAAAAAAAAPA/AAAAAAAAPkAAAAAAAOBqQAAAAAAA4GVAAAAAAACAW0BmZmZmZmYYQAAAAAAAgDVAMzMzMzPzTkDNzMzMzMz8P5qZmZmZmRVAmpmZmZkZTkCamZmZmRlOQAAAAAAAgFZAAAAAAACAa0AAAAAAAIBxQA==",
          "dtype": "f8"
         },
         "xaxis": "x",
         "y": {
          "bdata": "QQBQAGQAMABOACgAQQBfACMAQQBBAG4ANwBQAGQAtABaAHMARgBfADwAQQA3AFUANwBPAFAAPABAAFAAZAAmADoAMgBQAEsALQBVAFAAVQBfACMASwBGAF8AcwAyAEYAWgAeADIARgAeAGQAFAAoACMALQArAEkAQQBVABQATwBVAGkAaQCCADcAWgA1AEQAWAAjADcAMABEADgATAAyAGQAUABkAC0APABVADAAPwAoADcASwBBAGcAhQAyAD8AMgBGAFAAWgAoADQAQwA+AFgANgBFAEoAFAA0AFwAggBGAHMAKAA3AEEAMgBaACgAPABkAGQAQQAtAEEAUAAZADIAKABIAEkAcwBbAA==",
          "dtype": "i2"
         },
         "yaxis": "y"
        },
        {
         "hovertemplate": "<b>LOWESS trendline</b><br><br>Type 1=Water<br>weight_kilograms=%{x}<br>Defense=%{y} <b>(trend)</b><extra></extra>",
         "legendgroup": "Water",
         "marker": {
          "color": "#00cc96",
          "symbol": "circle"
         },
         "mode": "lines",
         "name": "Water",
         "showlegend": false,
         "type": "scattergl",
         "x": {
          "bdata": "MzMzMzMz0z8AAAAAAADwPzMzMzMzM/M/ZmZmZmZm9j/NzMzMzMz8P2ZmZmZmZv4/zczMzMzMBEDNzMzMzMwIQDMzMzMzMw9AAAAAAAAAEEAAAAAAAAAQQAAAAAAAABBAAAAAAAAAEkAAAAAAAAAUQM3MzMzMzBRAmpmZmZmZFUAAAAAAAAAWQJqZmZmZmRdAZmZmZmZmGEAzMzMzMzMZQAAAAAAAABpAAAAAAAAAHEAAAAAAAAAcQJqZmZmZmR1AAAAAAAAAHkBmZmZmZmYeQAAAAAAAACBAmpmZmZmZIEAAAAAAAAAhQAAAAAAAACFAAAAAAAAAIUBmZmZmZmYhQAAAAAAAACJAAAAAAAAAI0AAAAAAAAAjQAAAAAAAACRAzczMzMzMJUAAAAAAAAAnQAAAAAAAACdAAAAAAAAAKEAAAAAAAAAoQM3MzMzMzChAAAAAAAAAK0AAAAAAAAAuQAAAAAAAgDBAAAAAAAAAMUAAAAAAAIAxQAAAAAAAADJAAAAAAAAAM0CamZmZmZkzQAAAAAAAADRAzczMzMzMNEAzMzMzMzM1QAAAAAAAgDVAAAAAAACANkAAAAAAAIA2QJqZmZmZmTZAAAAAAAAAN0BmZmZmZmY3QJqZmZmZmTdAAAAAAAAAOEAzMzMzMzM4QAAAAAAAgDhAAAAAAAAAOUAAAAAAAAA5QAAAAAAAADtAAAAAAAAAPEAAAAAAAAA8QAAAAAAAgDxAAAAAAACAPEAAAAAAAAA9QAAAAAAAAD1AAAAAAACAPUBmZmZmZuY9QAAAAAAAAD5AmpmZmZmZP0AAAAAAAEBAQGZmZmZmZkBAAAAAAACAQEAAAAAAAMBAQDMzMzMz80BAAAAAAABAQUBmZmZmZqZBQAAAAAAAAEJAAAAAAACAQ0AAAAAAAABEQAAAAAAAAEZAmpmZmZmZRkAAAAAAAMBGQAAAAAAAQEhAAAAAAABASkAAAAAAAABLQAAAAAAAgEtAAAAAAACAS0AAAAAAAABOQJqZmZmZGU5AmpmZmZkZTkAzMzMzM/NOQAAAAAAAAE9AAAAAAABAUEAAAAAAAMBSQGZmZmZmJlNAAAAAAACgU0AAAAAAAOBTQAAAAAAAAFRAAAAAAABAVECamZmZmXlUQAAAAAAAgFRAAAAAAAAgVUAAAAAAAGBVQDMzMzMzM1ZAMzMzMzMzVkAAAAAAAIBWQAAAAAAAgFZAZmZmZmamV0AAAAAAAIBbQAAAAAAA4FxAAAAAAAAAXkAAAAAAAEBgQAAAAAAAkGBAAAAAAADgYEAAAAAAAABjQAAAAAAAQGRAAAAAAADgZUAAAAAAAGBnQAAAAAAA4GpAAAAAAACAa0AAAAAAAIBrQAAAAAAAgGtAAAAAAABgbUAAAAAAAIBxQAAAAAAAAHVAAAAAAAAAdkAAAAAAAOB4QA==",
          "dtype": "f8"
         },
         "xaxis": "x",
         "y": {
          "bdata": "wFQeHS1zRUDmNCnDidBFQHM5UwIn60VAcZnnYr0FRkAAiDGZ1TpGQEoRF2EXSEZA3ZCx/bSkRkAR/MP2q+ZGQOzzPafoT0dAC5YArAldR0ALlgCsCV1HQAuWAKwJXUdAUnv6H5meR0DpA1tTBOBHQD8m3wol+kdA3Z486T8USEA2d9UhSyFIQA9CigRpVUhAMy6fzG5vSEBQdN5bbolIQFklwZ9no0hAW0N0njrkSEBbQ3SeOuRIQBa90Ib4F0lANQR2ruMkSUAp1JAUzTFJQIwK2uVgZUlA/YjsuvyLSUBWuySZsKVJQFa7JJmwpUlAVrskmbClSUAExSm+XL9JQJ7VCAjQ5UlA82MNurslSkDzYw26uyVKQJEBUFxvZUpASVgAxXzXSkDchgRaCSNLQNyGBFoJI0tARP0k0qlhS0BE/STSqWFLQCTdDHeHk0tA0FKrsXsbTEBUEb3ByNFMQK8IQ68MhE1AbNeoY32+TUBJxic+afhNQP84xcnMMU5AKH5l1u+iTkClP+UZweVOQOOoAGPbEU9AMGKi0gppT0Cxno2nKJRPQLdl46BPtE9AumQw3FMPUEC6ZDDcUw9QQMfmV0OhFFBAvIwBWfYnUEAoz8LTXTVQQIgBRZPkO1BAYn/o54BIUECo0hLDk05QQC+8M2WEWVBARJpKKAptUEBEmkooCm1QQA7EO0sfolBAY8v6qnW8UEBjy/qqdbxQQL51GlA6zFBAvnUaUDrMUECjFX7SvdhQQKMVftK92FBAyXUtuH3lUEA9/LW+ve9QQGwKPuVN8lBAgLTHg3wcUUBhroCd5jFRQF5w4qDfOFFAc806WV09UUBZWIZxnEhRQDUQc5BOUVFAiWcc0NNdUUChWlYwZ21RQMoF8keKeVFAwGSEvWahUUA6nZ04Qq1RQMfFyauL2VFAa5AO1WDsUUAXD25RTPFRQMu/eT4sOVJAPNIOxguqUkCochavU8xSQFFbYarZ4FJAUVthqtngUkDqUvFI/TpTQNLygG1YPlNA0vKAbVg+U0DR7nRShVlTQLvfielKW1NAk8mv1ACFU0D1eYMr2OZTQBYaLE8h8VNABLCPfW77U0AW/YmqRABUQGUj/8WUAlRAccxKstoIVEDUaB+ssAxUQKjKba4cDVRAoXY+vMIXVEBdilSyQBxUQBuch5nbK1RAG5yHmdsrVEDsuNacVjFUQOy41pxWMVRAe1p31cNFVEAqWnhPtrlUQPZ+1l7791RAejkVg1kqVUCyTbm63W5VQIry2NeRdlVACTms/498VUB696SpjaRVQPpT8R0MvlVAgmnCcejjVUATzXAAbwxWQOB3y6sNYVZAN8RGuHVrVkA3xEa4dWtWQDfERrh1a1ZAWRWxvIV+VkB/tyG1bplWQBmy8HP/vVZAAIh6MFjIVkBNgSnxKd1WQA==",
          "dtype": "f8"
         },
         "yaxis": "y"
        },
        {
         "hovertemplate": "Type 1=Bug<br>weight_kilograms=%{x}<br>Defense=%{y}<extra></extra>",
         "legendgroup": "Bug",
         "marker": {
          "color": "#ab63fa",
          "symbol": "circle"
         },
         "mode": "markers",
         "name": "Bug",
         "showlegend": true,
         "type": "scattergl",
         "x": {
          "bdata": "MzMzMzMzB0DNzMzMzMwjQAAAAAAAAEBAmpmZmZmZCUAAAAAAAAAkQAAAAAAAgD1AmpmZmZmZFUAAAAAAAIA9QAAAAAAAAD5AAAAAAAAAKUAAAAAAAABMQAAAAAAAgEtAmpmZmZmZJUDNzMzMzMxBQAAAAAAAACFAAAAAAADAQEAAAAAAAABDQM3MzMzMzBxAMzMzMzNzX0AAAAAAAIBdQAAAAAAAgDRAAAAAAAAAS0DNzMzMzMwMQAAAAAAAACRAZmZmZmZmPEAAAAAAAAAnQJqZmZmZmT9AMzMzMzMz+z/NzMzMzMwMQAAAAAAAABZAAAAAAAAAKEAzMzMzMzPzPzMzMzMzszFAMzMzMzOzMUCamZmZmZkBQAAAAAAAgDlAMzMzMzMzC0AAAAAAAAAaQM3MzMzMTDdAAAAAAAAAFkAAAAAAAEBDQAAAAAAAwElAAAAAAAAABEAzMzMzMzMdQAAAAAAAgDRAMzMzMzMzFUAAAAAAAEBNQAAAAAAAEGlAAAAAAAAALUAAAAAAAABpQJqZmZmZmRdAAAAAAACAQEAzMzMzMzPjP5qZmZmZmSxAzczMzMzMHkDNzMzMzEw5QAAAAAAAgEBAzczMzMzMPEAAAAAAAABHQAAAAAAAoFRAAAAAAAAABEDNzMzMzMwgQAAAAAAAADFAmpmZmZmZEUAAAAAAAAAlQAAAAAAAgEZAmpmZmZmZyT8AAAAAAADgPwAAAAAAAChAAAAAAAAAW0CamZmZmdl0QAAAAAAAADlAAAAAAAAAIEAAAAAAAIAzQGZmZmZmZkRAAAAAAABAVkAAAAAAAAAQQAAAAAAAgDBAAAAAAAAA8D8AAAAAAIAxQAAAAAAAAPA/AAAAAAAADEAAAAAAAABXQA==",
          "dtype": "f8"
         },
         "xaxis": "x",
         "y": {
          "bdata": "IwA3ADIAHgAyACgANwBQADIAPABQAGQAHgAyACgARgAtAFoAjABkAOYASwAjADcAMgA3AEYAIAA+AFoALQAtAEsASwApADMALQBVADIAKgBmAFYARgBaAFAAOwBjAFkAVQB9AC0AaQAyADwAVQAoAHAANwBBAF8AKAA8ADIALQBfAFoAKAA8ACgAjACLACUAFABQAG4AXwAtAFwAKABOADwAVQBPAA==",
          "dtype": "i2"
         },
         "yaxis": "y"
        },
        {
         "hovertemplate": "<b>LOWESS trendline</b><br><br>Type 1=Bug<br>weight_kilograms=%{x}<br>Defense=%{y} <b>(trend)</b><extra></extra>",
         "legendgroup": "Bug",
         "marker": {
          "color": "#ab63fa",
          "symbol": "circle"
         },
         "mode": "lines",
         "name": "Bug",
         "showlegend": false,
         "type": "scattergl",
         "x": {
          "bdata": "mpmZmZmZyT8AAAAAAADgPzMzMzMzM+M/AAAAAAAA8D8AAAAAAADwPzMzMzMzM/M/MzMzMzMz+z+amZmZmZkBQAAAAAAAAARAAAAAAAAABEAzMzMzMzMHQJqZmZmZmQlAMzMzMzMzC0AAAAAAAAAMQM3MzMzMzAxAzczMzMzMDEAAAAAAAAAQQJqZmZmZmRFAMzMzMzMzFUCamZmZmZkVQAAAAAAAABZAAAAAAAAAFkCamZmZmZkXQAAAAAAAABpAzczMzMzMHEAzMzMzMzMdQM3MzMzMzB5AAAAAAAAAIEDNzMzMzMwgQAAAAAAAACFAzczMzMzMI0AAAAAAAAAkQAAAAAAAACRAAAAAAAAAJUCamZmZmZklQAAAAAAAACdAAAAAAAAAKEAAAAAAAAAoQAAAAAAAAClAmpmZmZmZLEAAAAAAAAAtQAAAAAAAgDBAAAAAAAAAMUAAAAAAAIAxQDMzMzMzszFAMzMzMzOzMUAAAAAAAIAzQAAAAAAAgDRAAAAAAACANEDNzMzMzEw3QAAAAAAAADlAzczMzMxMOUAAAAAAAIA5QGZmZmZmZjxAzczMzMzMPEAAAAAAAIA9QAAAAAAAgD1AAAAAAAAAPkCamZmZmZk/QAAAAAAAAEBAAAAAAACAQEAAAAAAAIBAQAAAAAAAwEBAzczMzMzMQUAAAAAAAABDQAAAAAAAQENAZmZmZmZmREAAAAAAAIBGQAAAAAAAAEdAAAAAAADASUAAAAAAAABLQAAAAAAAgEtAAAAAAAAATEAAAAAAAEBNQAAAAAAAoFRAAAAAAABAVkAAAAAAAABXQAAAAAAAAFtAAAAAAACAXUAzMzMzM3NfQAAAAAAAAGlAAAAAAAAQaUCamZmZmdl0QA==",
          "dtype": "f8"
         },
         "xaxis": "x",
         "y": {
          "bdata": "vPS2h1ZbR0Bje0mwtIxHQJzs6UclnUdAZeM9TtLeR0Bl4z1O0t5HQISGdmGb/0dACv3QlmdRSEDmdfM786JIQHBiHTfB00hAcGIdN8HTSEBt2ETrrxRJQP7UHERIRUlAH+ruoaFlSUAEfSfiynVJQDaBZfjxhUlANoFl+PGFSUAODJvIecZJQPfmy5rjBkpAmmXCb36XSkArACW4iqdKQMoyJl2Wt0pAyjImXZa3SkD6NXfQv/dKQKwMf0z0V0tAtOUDoS7IS0CwFMe6NthLQKtEhSJTGExAxKbe/F1ITEDsKvbPTohMQEJF5YVDmExAsx9CNV51TUBqlYQq64RNQGqVhCrrhE1A+JZTou7RTUDp0Ls7b/9NQCrstOTTZk5A5RpWDYytTkDlGlYNjK1OQBW5PKDN8E5AZOmxKee4T0BIiOj+BspPQOtIlH64/05A77uOXZDJTkBbX1RACsBOQJiNBfRptE5AmI0F9Gm0TkCx+GaUzoNOQPn6tlIIrk5A+fq2UgiuTkBM3UiJ7kBPQJYHmT1IuU9Awqrm39XRT0Bjs4aRsuJPQCuKhaHIcFBAnx8Eth2CUECLhN1pu5xQQIuE3Wm7nFBAQ9dPj+OuUEAhZ2O0DfBQQElwBOWDAlFAk11gMY80UUCTXWAxjzRRQKkMwTNyTlFAZOj7jNq9UUBBve5F8j1SQPWAG/i9WFJAfVKybT7VUkCuAJJ0vb5TQBss1BCb9FNAueRTo9nNVEAbqKAqmu1UQOxCfqkM+FRA8ZcxxHEDVUCE9RYEMy5VQJpBxemAiVhA/hTHnx2BWUAgz7rO7/BZQFcNwQzqF1xAc9viUl6nW0BJ3Y4mJ0pbQNTMSn3zbl1Asfi2OdRyXUBb4V4NFSdhQA==",
          "dtype": "f8"
         },
         "yaxis": "y"
        },
        {
         "hovertemplate": "Type 1=Normal<br>weight_kilograms=%{x}<br>Defense=%{y}<extra></extra>",
         "legendgroup": "Normal",
         "marker": {
          "color": "#FFA15A",
          "symbol": "circle"
         },
         "mode": "markers",
         "name": "Normal",
         "showlegend": true,
         "type": "scattergl",
         "x": {
          "bdata": "zczMzMzM/D8AAAAAAAA+QAAAAAAAwENAAAAAAAAADEAAAAAAAIAyQAAAAAAAAABAAAAAAAAAQ0AAAAAAAAAWQAAAAAAAAChAzczMzMzMEEAAAAAAAABAQAAAAAAAAC5AmpmZmZmZQ0DNzMzMzExVQAAAAAAAYFBAzczMzMxMQUAAAAAAAABUQJqZmZmZGVZAAAAAAAAAEEAAAAAAAAAaQAAAAAAAQEJAAAAAAADAfEAAAAAAAAAYQAAAAAAAQEBAMzMzMzMzNUBmZmZmZmZEQAAAAAAAAPA/AAAAAAAAJ0AAAAAAAMBEQAAAAAAAACxAmpmZmZmZIUAzMzMzM3NfQAAAAAAAQEBAzczMzMzMUUAAAAAAAABNQAAAAAAA4FJAZmZmZmZmR0AAAAAAAIAxQAAAAAAAQEBAZmZmZmZmAkDNzMzMzMwzQAAAAAAAADhAAAAAAABAR0AAAAAAAFBgQM3MzMzMTDBAAAAAAABAREAAAAAAAABVQAAAAAAAAABAAAAAAAAAJkDNzMzMzExAQAAAAAAAABRAMzMzMzMz8z9mZmZmZiZEQJqZmZmZmek/AAAAAAAANkAAAAAAAAAAQAAAAAAAAC9AZmZmZmbmOEAAAAAAAAA0QAAAAAAAgD9AzczMzMxMNEAAAAAAAAAWQGZmZmZmpkBAMzMzMzMzD0BmZmZmZuZFQGZmZmZmZjhAZmZmZmZm/j8AAAAAAEBaQAAAAAAAgGFAAAAAAAAAQUAAAAAAAEB6QAAAAAAAAHRAMzMzMzMzJ0AAAAAAAAA7QGZmZmZmZhBAZmZmZmZmLUAAAAAAAIBOQM3MzMzMzABAAAAAAAAALkAAAAAAAAA9QAAAAAAAAD9AMzMzMzMzF0AAAAAAAAAeQAAAAAAAgDNAAAAAAAAgV0BmZmZmZqZXQAAAAAAAACVAAAAAAACAREAAAAAAAAAaQAAAAAAAABRAMzMzMzMzRUAzMzMzMzP7PwAAAAAAADxAMzMzMzMz8z+amZmZmZktQAAAAAAAADpAAAAAAAAAGEBmZmZmZmYsQDMzMzMzMxtAAAAAAADgYEAAAAAAAABTQAAAAAAAIF5AAAAAAAAgWUBmZmZmZuYzQAAAAAAAIGdAAAAAAAAABEAAAAAAAAAYQAAAAAAAABhAAAAAAACARUBmZmZmZsZXQGZmZmZmZiRAAAAAAAAAXkDNzMzMzMz8P2ZmZmZmZgJAMzMzMzMzA0AAAAAAAABkQJqZmZmZmUNAAAAAAAAAGkA=",
          "dtype": "f8"
         },
         "xaxis": "x",
         "y": {
          "bdata": "KDdLIzweQRQtIzw3LUZLBVBfMDJGQSJAHjIPN0FGMktaPiNpCik9Hjw8UGQXKz8oLUE8PDxGRh4yRig8QixUKkAFLShfRm54J0UtQVoyPlBWKDwyRl8yS00mTSs8HjJLHjwyUFBfX0FVN183ZEgoSy1GM0ZQVQ==",
          "dtype": "i1"
         },
         "yaxis": "y"
        },
        {
         "hovertemplate": "<b>LOWESS trendline</b><br><br>Type 1=Normal<br>weight_kilograms=%{x}<br>Defense=%{y} <b>(trend)</b><extra></extra>",
         "legendgroup": "Normal",
         "marker": {
          "color": "#FFA15A",
          "symbol": "circle"
         },
         "mode": "lines",
         "name": "Normal",
         "showlegend": false,
         "type": "scattergl",
         "x": {
          "bdata": "mpmZmZmZ6T8AAAAAAADwPzMzMzMzM/M/MzMzMzMz8z8zMzMzMzP7P83MzMzMzPw/zczMzMzM/D9mZmZmZmb+PwAAAAAAAABAAAAAAAAAAEAAAAAAAAAAQM3MzMzMzABAZmZmZmZmAkBmZmZmZmYCQDMzMzMzMwNAAAAAAAAABEAAAAAAAAAMQDMzMzMzMw9AAAAAAAAAEEBmZmZmZmYQQM3MzMzMzBBAAAAAAAAAFEAAAAAAAAAUQAAAAAAAABZAAAAAAAAAFkAzMzMzMzMXQAAAAAAAABhAAAAAAAAAGEAAAAAAAAAYQAAAAAAAABhAAAAAAAAAGkAAAAAAAAAaQAAAAAAAABpAMzMzMzMzG0AAAAAAAAAeQJqZmZmZmSFAZmZmZmZmJEAAAAAAAAAlQAAAAAAAACZAAAAAAAAAJ0AzMzMzMzMnQAAAAAAAAChAAAAAAAAALEBmZmZmZmYsQGZmZmZmZi1AmpmZmZmZLUAAAAAAAAAuQAAAAAAAAC5AAAAAAAAAL0DNzMzMzEwwQAAAAAAAgDFAAAAAAACAMkAAAAAAAIAzQM3MzMzMzDNAZmZmZmbmM0AAAAAAAAA0QM3MzMzMTDRAMzMzMzMzNUAAAAAAAAA2QAAAAAAAADhAZmZmZmZmOEBmZmZmZuY4QAAAAAAAADpAAAAAAAAAO0AAAAAAAAA8QAAAAAAAAD1AAAAAAAAAPkAAAAAAAAA/QAAAAAAAgD9AAAAAAAAAQEAAAAAAAEBAQAAAAAAAQEBAAAAAAABAQEDNzMzMzExAQGZmZmZmpkBAAAAAAAAAQUDNzMzMzExBQAAAAAAAQEJAAAAAAAAAQ0CamZmZmZlDQJqZmZmZmUNAAAAAAADAQ0BmZmZmZiZEQAAAAAAAQERAZmZmZmZmREAAAAAAAIBEQAAAAAAAwERAMzMzMzMzRUAAAAAAAIBFQGZmZmZm5kVAAAAAAABAR0BmZmZmZmZHQAAAAAAAAE1AAAAAAACATkAAAAAAAGBQQM3MzMzMzFFAAAAAAADgUkAAAAAAAABTQAAAAAAAAFRAAAAAAAAAVUDNzMzMzExVQJqZmZmZGVZAAAAAAAAgV0BmZmZmZqZXQGZmZmZmxldAAAAAAAAgWUAAAAAAAEBaQAAAAAAAAF5AAAAAAAAgXkAzMzMzM3NfQAAAAAAAUGBAAAAAAADgYEAAAAAAAIBhQAAAAAAAAGRAAAAAAAAgZ0AAAAAAAAB0QAAAAAAAQHpAAAAAAADAfEA=",
          "dtype": "f8"
         },
         "xaxis": "x",
         "y": {
          "bdata": "Fe7gTbm0REDmoLvOcMpEQIP6RWcq4ERAg/pFZyrgRED5zyuugxZFQNwWUfJjIUVA3BZR8mMhRUCRowDBRCxFQGTrXBomN0VAZOtcGiY3RUBk61waJjdFQPbTMf8HQkVAaQ1Jf81XRUBpDUl/zVdFQMUF0yOxYkVA0u91ZZVtRUCDNnTxoNpFQEyxYB5PBkZAM0miDzwRRkDOqY2RKRxGQLKoaqQXJ0ZAyEg7YZ1+RkDISDthnX5GQGgRm1xltUZAaBGbXGW1RkCl/Gy9S9ZGQO4ZYkM+7EZA7hliQz7sRkDuGWJDPuxGQO4ZYkM+7EZAEHReDCsjR0AQdF4MKyNHQBB0XgwrI0dASf0yCytER0DKf/nYUJFHQMvpVeUwIUhAhXhbZw29SEAC67dqk95IQJhjVfSLFklAqvsVkaROSUBGd1Gi4FlJQJBpcm7ehklA/ii97FRpSkBeJUNcJYBKQALb8xFWuUpAUcVq9MzESkBqKiM/wdtKQGoqIz/B20pA+F7ABUcVS0Ahb7gznXFLQP/Q9oBL/EtAiX3YrJtvTEAcwzJB++JMQOrvidgfBU1ASgtD0msQTUBPn7t0qxtNQA35vC1MPU1AGsm1aPefTUC/jNAqtu9NQOL7r4Iegk5A1iWwB1qaTkCcWn/pt7pOQDMjTn5zAE9AqUZFcThET0DYqqtDaItPQPiiEBD61E9AZ3AkUAwQUEBJppXhLTZQQDknrIHaSFBA8O2JtH9cUECTB/H1vm9QQJMH8fW+b1BAkwfx9b5vUEAxeXyuSXNQQNGDDDmxi1BACwUlEIujUEBm9YEw/7dQQIb6NVrs9FBAKf3UfrogUUC7N3hdbT9RQLs3eF1tP1FAhY1WrC5GUUBNIlVm4VZRQJYcyG2hWlFA5o9CSA1gUUAG9zKljGNRQGjhjW78a1FA/M13oDx7UUDCI42YuYRRQB8uRy41kVFApxNHNfS6UUCT26w20b5RQJHfb1P7MlJAUt7KzzRcUkBvuv31GJxSQBOKw2zD5FJAxMKj9k8WU0CWIGUsuRtTQHMc3PNUSFNAyelbKhF4U0DdtD+1pYdTQOuiLD71rVNAFSzXhsjYU0AH21l7LuxTQMpC0+Gc8FNA7joXSJ4dVEDXZXZduDxUQBEDKnOhk1RAy8kZ84+WVEAzG+gTSLZUQOV+phRJ01RAm1RPyqbvVECy2rbliw9VQCistemnjFVACbXp8zRhVkCrVBMoggJZQNvrITygp1pAhVEgGS5WW0A=",
          "dtype": "f8"
         },
         "yaxis": "y"
        },
        {
         "hovertemplate": "Type 1=Poison<br>weight_kilograms=%{x}<br>Defense=%{y}<extra></extra>",
         "legendgroup": "Poison",
         "marker": {
          "color": "#19d3f3",
          "symbol": "circle"
         },
         "mode": "markers",
         "name": "Poison",
         "showlegend": true,
         "type": "scattergl",
         "x": {
          "bdata": "mpmZmZmZG0AAAAAAAEBQQAAAAAAAABxAAAAAAAAANEAAAAAAAABOQAAAAAAAACJAAAAAAACAM0AAAAAAAABPQAAAAAAAAB5AAAAAAACAS0AAAAAAAAA+QAAAAAAAAD5AAAAAAAAA8D8AAAAAAAAjQAAAAAAAwFJAmpmZmZmZJEAAAAAAAABUQAAAAAAAQEpAMzMzMzMzM0AAAAAAAABDQAAAAAAAAChAAAAAAADATkAAAAAAAAA3QDMzMzMzM0ZAAAAAAAAAP0AzMzMzM9NaQDMzMzMzMx1AAAAAAABgVEAAAAAAAAAgQAAAAAAAAC1AMzMzMzMzE0AzMzMzMzM2QM3MzMzMzPw/AAAAAADAYkAAAAAAALCNQGZmZmZmZuY/MzMzMzMzO0AAAAAAAOBrQM3MzMzMDFdAZmZmZmZmKECamZmZmRk+QDMzMzMzM9M/",
          "dtype": "f8"
         },
         "xaxis": "x",
         "y": {
          "bdata": "LABFADQAQwBXACgAOQBNACMARgAyAEsAXwB4AFAANQBTADwALwBDAFoAbgAoAEEAPgBSADwAWgA+AJgAKAA8AEMASQBfACMAQQA8AHMAQgBSAKAA",
          "dtype": "i2"
         },
         "yaxis": "y"
        },
        {
         "hovertemplate": "<b>LOWESS trendline</b><br><br>Type 1=Poison<br>weight_kilograms=%{x}<br>Defense=%{y} <b>(trend)</b><extra></extra>",
         "legendgroup": "Poison",
         "marker": {
          "color": "#19d3f3",
          "symbol": "circle"
         },
         "mode": "lines",
         "name": "Poison",
         "showlegend": false,
         "type": "scattergl",
         "x": {
          "bdata": "MzMzMzMz0z9mZmZmZmbmPwAAAAAAAPA/zczMzMzM/D8zMzMzMzMTQJqZmZmZmRtAAAAAAAAAHEAzMzMzMzMdQAAAAAAAAB5AAAAAAAAAIEAAAAAAAAAiQAAAAAAAACNAmpmZmZmZJEAAAAAAAAAoQGZmZmZmZihAAAAAAAAALUAzMzMzMzMzQAAAAAAAgDNAAAAAAAAANEAzMzMzMzM2QAAAAAAAADdAMzMzMzMzO0AAAAAAAAA+QAAAAAAAAD5AmpmZmZkZPkAAAAAAAAA/QAAAAAAAAENAMzMzMzMzRkAAAAAAAEBKQAAAAAAAgEtAAAAAAAAATkAAAAAAAMBOQAAAAAAAAE9AAAAAAABAUEAAAAAAAMBSQAAAAAAAAFRAAAAAAABgVEDNzMzMzAxXQDMzMzMz01pAAAAAAADAYkAAAAAAAOBrQAAAAAAAsI1A",
          "dtype": "f8"
         },
         "xaxis": "x",
         "y": {
          "bdata": "kbyo+WvrSEAvOep1HQFJQLtENIFnEUlApVxa5PI8SUC0JuMx2eBJQB+pxWsuUkpAJru59IZXSkCi2fcUiWdKQDqTFh8vckpAeol4XbqMSkDDw0sbjsFKQLnDhKXg20pAlD/8lfwFS0At2a5bcmBLQAnlarNHa0tA3FWkIfzsS0AF+dPecCxNQLudf3JBRU1Ag77H6FVtTUAOz+Vnww1OQOigBnIDRE5A0tIPhtAiT0CZ3VTLaYJPQJndVMtpgk9AoewPwDuET0AChTplrJVPQKJsMOA/eFBAeL5OabVbUUC7ln4dC0FSQICB/ilqj1JA1gr5IDI8U0CrwfTqrm9TQMAsZC3jf1NAzCZyAa3WU0BnoUjxy7xUQFdYcrFmK1VAV7tv4QtOVUAOL9hSQE5VQMCdVWZw4FRAYKhAYb6wUkD7LNP0a55PQKHtHjjKsFdA",
          "dtype": "f8"
         },
         "yaxis": "y"
        },
        {
         "hovertemplate": "Type 1=Electric<br>weight_kilograms=%{x}<br>Defense=%{y}<extra></extra>",
         "legendgroup": "Electric",
         "marker": {
          "color": "#FF6692",
          "symbol": "circle"
         },
         "mode": "markers",
         "name": "Electric",
         "showlegend": true,
         "type": "scattergl",
         "x": {
          "bdata": "AAAAAAAAGEAAAAAAAAA1QAAAAAAAABhAAAAAAAAATkDNzMzMzMwkQGZmZmZmplBAAAAAAAAAPkAAAAAAAIA4QM3MzMzMTEpAAAAAAAAAAEAzMzMzMzMfQJqZmZmZmSpAAAAAAADATkAAAAAAAIA3QAAAAAAAQGZAZmZmZmZmLkCamZmZmRlEQM3MzMzMzBBAzczMzMzMEEAAAAAAAAAjQAAAAAAAgD5AAAAAAAAARUAzMzMzMzMPQAAAAAAAgGZAMzMzMzNTYUAzMzMzMzPTP83MzMzMzD1AAAAAAADgU0AAAAAAAAAUQDMzMzMzM9M/AAAAAAAANkAAAAAAACBUQAAAAAAAgE5AAAAAAAAAGEAAAAAAAAA1QJqZmZmZmQFAZmZmZmZmCkAAAAAAAIA0QAAAAAAAAFlAAAAAAABARkAAAAAAAAArQAAAAAAAAEFAAAAAAAAAJkAAAAAAAABEQAAAAAAAAPA/AAAAAAAACEAAAAAAAMBnQAAAAAAAwGJAAAAAAAAgYkAAAAAAAAAEQAAAAAAAABpAAAAAAACARECamZmZmZnZPwAAAAAAQFxAzczMzMzMDEDNzMzMzExDQAAAAAAAAE5AAAAAAAAAbkAAAAAAAAB+QA==",
          "dtype": "f8"
         },
         "xaxis": "x",
         "y": {
          "bdata": "KDdGXzJGOTxVDyg3VSVLKDwoMiIxT0ZzQ00gPzwoRlBGITQ5P1VHSzI8I0ZfOlpaMhQoRilbIzxhZFs=",
          "dtype": "i1"
         },
         "yaxis": "y"
        },
        {
         "hovertemplate": "<b>LOWESS trendline</b><br><br>Type 1=Electric<br>weight_kilograms=%{x}<br>Defense=%{y} <b>(trend)</b><extra></extra>",
         "legendgroup": "Electric",
         "marker": {
          "color": "#FF6692",
          "symbol": "circle"
         },
         "mode": "lines",
         "name": "Electric",
         "showlegend": false,
         "type": "scattergl",
         "x": {
          "bdata": "MzMzMzMz0z8zMzMzMzPTP5qZmZmZmdk/AAAAAAAA8D8AAAAAAAAAQJqZmZmZmQFAAAAAAAAABEAAAAAAAAAIQGZmZmZmZgpAzczMzMzMDEAzMzMzMzMPQM3MzMzMzBBAzczMzMzMEEAAAAAAAAAUQAAAAAAAABhAAAAAAAAAGEAAAAAAAAAYQAAAAAAAABpAMzMzMzMzH0AAAAAAAAAjQM3MzMzMzCRAAAAAAAAAJkCamZmZmZkqQAAAAAAAACtAZmZmZmZmLkAAAAAAAIA0QAAAAAAAADVAAAAAAAAANUAAAAAAAAA2QAAAAAAAgDdAAAAAAACAOEDNzMzMzMw9QAAAAAAAAD5AAAAAAACAPkAAAAAAAABBQM3MzMzMTENAAAAAAAAARECamZmZmRlEQAAAAAAAgERAAAAAAAAARUAAAAAAAEBGQM3MzMzMTEpAAAAAAAAATkAAAAAAAABOQAAAAAAAgE5AAAAAAADATkBmZmZmZqZQQAAAAAAA4FNAAAAAAAAgVEAAAAAAAABZQAAAAAAAQFxAMzMzMzNTYUAAAAAAACBiQAAAAAAAwGJAAAAAAABAZkAAAAAAAIBmQAAAAAAAwGdAAAAAAAAAbkAAAAAAAAB+QA==",
          "dtype": "f8"
         },
         "xaxis": "x",
         "y": {
          "bdata": "Fwc/7nvqRkAXBz/ue+pGQIBiL77X7UZAm+FYJCYCR0B9faMZjyRHQHWWNWOFK0dAETDPNAM2R0A+MxNmoEdHQDnKKfJFUkdAEiCdc/pcR0Ctb7pvvWdHQFEOg3eOckdAUQ6Dd45yR0A9Y0YspY9HQFoujuxqtEdAWi6O7Gq0R0BaLo7sarRHQFBWp9/rxkdAUpNXbS73R0AdRECyDzZIQBVBGbH5VkhAFbjUkbRsSEAXHX7DKb5IQIdTQGIdxUhAggpRU4z/SECqVJmVa8FJQDDbjUum10lAMNuNS6bXSUAk8XMrdhdKQJ/zsO80p0pAZRYo4dIVS0BowWSdO0ZNQJeMC+H7W01ArkdX/XSSTUC5ItVaPA5PQDksjvuZglBAKecqhPXDUEAXIjiYIM1QQN9PnCKT8VBA+3ci8DcfUUCoM1D0CYNRQPj57VOeRlJAItltf724UkAi2W1/vbhSQDOl1+Yiw1JAzCFmYzPIUkCcPtfhHABTQOzpjiAOf1NAfR3QPch4U0AJpS/H1iBTQO3cCFHFjFNAodHKrEl2VEDzSYu0K7NUQJiCQJ4L4lRAJUKUxbfeVUCqI0ffo/BVQO2M2NICS1ZAWOig6EUqWECI5XvACaJXQA==",
          "dtype": "f8"
         },
         "yaxis": "y"
        },
        {
         "hovertemplate": "Type 1=Ground<br>weight_kilograms=%{x}<br>Defense=%{y}<extra></extra>",
         "legendgroup": "Ground",
         "marker": {
          "color": "#B6E880",
          "symbol": "circle"
         },
         "mode": "markers",
         "name": "Ground",
         "showlegend": true,
         "type": "scattergl",
         "x": {
          "bdata": "AAAAAAAAKEAAAAAAAIA9QJqZmZmZmek/ZmZmZmamQEAAAAAAAAAaQAAAAAAAAEFAAAAAAADAXEAAAAAAAABeQDMzMzMzM1BAAAAAAADAQEAAAAAAAABeQAAAAAAAAC5AmpmZmZmZLkAAAAAAAIBUQAAAAAAAgDVAAAAAAAAAW0AAAAAAALCNQAAAAAAAwEhAAAAAAADAckDNzMzMzKxxQAAAAAAAQEVAAAAAAAAAIUAzMzMzMzNEQGZmZmZmZi5AMzMzMzOzQEAzMzMzMxNYQAAAAAAAACZAAAAAAAAAV0AAAAAAAKB0QAAAAAAAAFFAAAAAAACAW0AAAAAAAMCMQGZmZmZmZh5AAAAAAABgUEBmZmZmZqZQQAAAAAAAIHJAAAAAAACAQEAAAAAAAABNQAAAAAAAAHRAAAAAAAAAbkA=",
          "dtype": "f8"
         },
         "xaxis": "x",
         "y": {
          "bdata": "VQBuABkAMgBfAG4AXwB4AGkAPAB4AC0AMgBQADcAaQCMAE4AdgCCAH0AKAA8ACMALQBQAFQAMgBQAFoARgBkAEsAfQCRAGkAIwBBAIMAeAA=",
          "dtype": "i2"
         },
         "yaxis": "y"
        },
        {
         "hovertemplate": "<b>LOWESS trendline</b><br><br>Type 1=Ground<br>weight_kilograms=%{x}<br>Defense=%{y} <b>(trend)</b><extra></extra>",
         "legendgroup": "Ground",
         "marker": {
          "color": "#B6E880",
          "symbol": "circle"
         },
         "mode": "lines",
         "name": "Ground",
         "showlegend": false,
         "type": "scattergl",
         "x": {
          "bdata": "mpmZmZmZ6T8AAAAAAAAaQGZmZmZmZh5AAAAAAAAAIUAAAAAAAAAmQAAAAAAAAChAAAAAAAAALkBmZmZmZmYuQJqZmZmZmS5AAAAAAACANUAAAAAAAIA9QAAAAAAAgEBAZmZmZmamQEAzMzMzM7NAQAAAAAAAwEBAAAAAAAAAQUAzMzMzMzNEQAAAAAAAQEVAAAAAAADASEAAAAAAAABNQDMzMzMzM1BAAAAAAABgUEBmZmZmZqZQQAAAAAAAAFFAAAAAAACAVEAAAAAAAABXQDMzMzMzE1hAAAAAAAAAW0AAAAAAAIBbQAAAAAAAwFxAAAAAAAAAXkAAAAAAAABeQAAAAAAAAG5AzczMzMyscUAAAAAAACByQAAAAAAAwHJAAAAAAAAAdEAAAAAAAKB0QAAAAAAAwIxAAAAAAACwjUA=",
          "dtype": "f8"
         },
         "xaxis": "x",
         "y": {
          "bdata": "2xIexC9cSUC6RlFgSCdLQCMZOd2sgUtAVedjsSHMS0AyTmSXUZ1MQA2WWOL58UxAgTDZSRPzTUCh5fQ8XQROQNzkNdIDDU5Ar8ICKIAWUEDPDBI8kH5RQBmlEr06HlJA3kd7cO4rUkCBZ7CcfzBSQEpYIcAQNVJAJGvdFOZLUkBGz3ibCnFTQLYl1rL70lNA8baWd8EnVUB9CYDCyL9VQP4CHXorrFVAVmHSaD6kVUDURpZ+brxVQEZ2aonUylVAcsIPilirVkCZkBLRcWVXQIyzFb2bqVdAaSDO2v9OWEBylkwVE2pYQCET3RgprlhACjjIQL70WEAKOMhAvvRYQJXlz7GTjltAO1TYkZJHXED8R7B8XGZcQNZHzdkKkFxA/KbzGSDeXEDeXlr6xgFdQN7LBJPQD15A8IznkrAoXkA=",
          "dtype": "f8"
         },
         "yaxis": "y"
        },
        {
         "hovertemplate": "Type 1=Fairy<br>weight_kilograms=%{x}<br>Defense=%{y}<extra></extra>",
         "legendgroup": "Fairy",
         "marker": {
          "color": "#FF97FF",
          "symbol": "circle"
         },
         "mode": "markers",
         "name": "Fairy",
         "showlegend": true,
         "type": "scattergl",
         "x": {
          "bdata": "AAAAAAAAHkAAAAAAAABEQAAAAAAAAAhAAAAAAAAA+D+amZmZmZkJQDMzMzMzMx9AmpmZmZlZSEAAAAAAAABDQJqZmZmZmbk/zczMzMzM7D8AAAAAAAAkQAAAAAAAAOA/AAAAAAAAL0AAAAAAAAAMQAAAAAAAABRAAAAAAACAN0AAAAAAAOBqQDMzMzMzM9M/MzMzMzMz0z8AAAAAAADgPwAAAAAAgFtAAAAAAAAASEDNzMzMzMwlQM3MzMzMzC1AzczMzMzMIUDNzMzMzIxNQDMzMzMzM1xAAAAAAAAAIEAAAAAAAIBBQA==",
          "dtype": "f8"
         },
         "xaxis": "x",
         "y": {
          "bdata": "MEkcQVUyS18nL0Q8SEJWQV9aKEtzRkZzLTdNY1o=",
          "dtype": "i1"
         },
         "yaxis": "y"
        },
        {
         "hovertemplate": "<b>LOWESS trendline</b><br><br>Type 1=Fairy<br>weight_kilograms=%{x}<br>Defense=%{y} <b>(trend)</b><extra></extra>",
         "legendgroup": "Fairy",
         "marker": {
          "color": "#FF97FF",
          "symbol": "circle"
         },
         "mode": "lines",
         "name": "Fairy",
         "showlegend": false,
         "type": "scattergl",
         "x": {
          "bdata": "mpmZmZmZuT8zMzMzMzPTPzMzMzMzM9M/AAAAAAAA4D8AAAAAAADgP83MzMzMzOw/AAAAAAAA+D8AAAAAAAAIQJqZmZmZmQlAAAAAAAAADEAAAAAAAAAUQAAAAAAAAB5AMzMzMzMzH0AAAAAAAAAgQM3MzMzMzCFAAAAAAAAAJEDNzMzMzMwlQM3MzMzMzC1AAAAAAAAAL0AAAAAAAIA3QAAAAAAAgEFAAAAAAAAAQ0AAAAAAAABEQAAAAAAAAEhAmpmZmZlZSEDNzMzMzIxNQAAAAAAAgFtAMzMzMzMzXEAAAAAAAOBqQA==",
          "dtype": "f8"
         },
         "xaxis": "x",
         "y": {
          "bdata": "iJ6O9GCuTUBuAoQX2cFNQG4ChBfZwU1A7rWVJgnVTUDutZUmCdVNQJ+nr3eY+k1Apy7Eh+EwTkDt7n0UVa9OQD8pMupfv05ABxAIwzrXTkDgcFnePk5PQLo6yBZWEVBA+3eJyQcXUECCBSe+kCFQQK+CgQGBrlBAcNNJN0xjUUDznLOLAeZRQP2+EZfGX1JACFoDl8BTUkCYfA9dpHZTQMWThW+OZVNA2lbWtT4dU0CKJMNzJOxSQFR/YbYtEFJA4rHETC/6UUC7veIWK6pQQIpjbJjX51ZA+Uc8zG8YV0DER7mXXIBYQA==",
          "dtype": "f8"
         },
         "yaxis": "y"
        },
        {
         "hovertemplate": "Type 1=Fighting<br>weight_kilograms=%{x}<br>Defense=%{y}<extra></extra>",
         "legendgroup": "Fighting",
         "marker": {
          "color": "#FECB52",
          "symbol": "circle"
         },
         "mode": "markers",
         "name": "Fighting",
         "showlegend": true,
         "type": "scattergl",
         "x": {
          "bdata": "AAAAAAAAPEAAAAAAAABAQAAAAAAAgDNAAAAAAACgUUAAAAAAAEBgQGZmZmZm5khAmpmZmZkZSUAAAAAAAAA1QAAAAAAAAEhAmpmZmZmZVUCamZmZmblvQGZmZmZmZiZAAAAAAACAP0AzMzMzMzM0QAAAAAAAAEtAAAAAAAAAKUAAAAAAAABEQAAAAAAAwFVAAAAAAADAS0AAAAAAAIBJQAAAAAAAADRAAAAAAADAQUAAAAAAAAAgQAAAAAAAAGFAAAAAAACANUAAAAAAAAAcQAAAAAAAgGZAMzMzMzOzVEAzMzMzMzM2QAAAAAAAABBAAAAAAACAQ0AAAAAAAEBdQAAAAAAAAE9AAAAAAABAakAAAAAAAAAoQAAAAAAAQFpAAAAAAACARUAAAAAAAABMQDMzMzMzy3dAAAAAAADwckA=",
          "dtype": "f8"
         },
         "xaxis": "x",
         "y": {
          "bdata": "IzwyRlA1TyNfHjw3SyhGN1VfVUsyPD5OSzlNWlA8Wl9kczxkPFBscw==",
          "dtype": "i1"
         },
         "yaxis": "y"
        },
        {
         "hovertemplate": "<b>LOWESS trendline</b><br><br>Type 1=Fighting<br>weight_kilograms=%{x}<br>Defense=%{y} <b>(trend)</b><extra></extra>",
         "legendgroup": "Fighting",
         "marker": {
          "color": "#FECB52",
          "symbol": "circle"
         },
         "mode": "lines",
         "name": "Fighting",
         "showlegend": false,
         "type": "scattergl",
         "x": {
          "bdata": "AAAAAAAAEEAAAAAAAAAcQAAAAAAAACBAZmZmZmZmJkAAAAAAAAAoQAAAAAAAAClAAAAAAACAM0AAAAAAAAA0QDMzMzMzMzRAAAAAAAAANUAAAAAAAIA1QDMzMzMzMzZAAAAAAAAAPEAAAAAAAIA/QAAAAAAAAEBAAAAAAADAQUAAAAAAAIBDQAAAAAAAAERAAAAAAACARUAAAAAAAABIQGZmZmZm5khAmpmZmZkZSUAAAAAAAIBJQAAAAAAAAEtAAAAAAADAS0AAAAAAAABMQAAAAAAAAE9AAAAAAACgUUAzMzMzM7NUQJqZmZmZmVVAAAAAAADAVUAAAAAAAEBaQAAAAAAAQF1AAAAAAABAYEAAAAAAAABhQAAAAAAAgGZAAAAAAABAakCamZmZmblvQAAAAAAA8HJAMzMzMzPLd0A=",
          "dtype": "f8"
         },
         "xaxis": "x",
         "y": {
          "bdata": "7aMF2jD9SkBoh+WI7GJLQBaNW8G0h0tArFQkYyoHTEAmfM11RSlMQM/zHxgGP0xAai3btamNTUAvBdShOadNQPJD0z99sU1Ag4IpncPaTUAmusntv/RNQFNUjhNrGU5A8NBNgxxdT0BSwP1j0yhQQG6y5B+BOlBANDIXQjO+UEBx5cWqkVhRQGAIJYkViFFAs96GO+0OUkBvRmZj8NVSQO+24ERAE1NAlrEknGseU0Bq4a1B7zNTQLreZ6N+gVNAhtrXqqqpU0BmgwX1YbdTQJFu4PO1W1RA3p5HAwBIVUCqxDDcH+BVQHfULpzdwVVASmi6rGa9VUBkCsREWq9VQAj099VmflVAOgDSfOajVUCFcFVJad5VQFNQThm/g1ZAa2V1RITCV0AayCcU/eRYQP8gYKJDAFpA3gZc567nW0A=",
          "dtype": "f8"
         },
         "yaxis": "y"
        },
        {
         "hovertemplate": "Type 1=Psychic<br>weight_kilograms=%{x}<br>Defense=%{y}<extra></extra>",
         "legendgroup": "Psychic",
         "marker": {
          "color": "#636efa",
          "symbol": "circle"
         },
         "mode": "markers",
         "name": "Psychic",
         "showlegend": true,
         "type": "scattergl",
         "x": {
          "bdata": "AAAAAACAM0AAAAAAAEBMQAAAAAAAAEhAMzMzMzMzQEBmZmZmZuZSQAAAAAAAQEtAAAAAAACAXkAAAAAAAAAQQAAAAAAAAABAAAAAAAAALkAAAAAAAIA6QAAAAAAAABRAAAAAAACAPEAAAAAAAABrQAAAAAAAABRAZmZmZmZmGkAzMzMzMzM0QDMzMzMzM0hAmpmZmZmZPkAAAAAAAOBRQAAAAAAAAPA/AAAAAAAALEBmZmZmZmZOQDMzMzMzM+M/AAAAAAAAKkAAAAAAAABKQDMzMzMzM9M/MzMzMzMz0z8zMzMzMzPTP2ZmZmZmZlVAAAAAAAAAEEDNzMzMzEw3QAAAAAAAQE5AzczMzMzMAEAAAAAAAAAlQAAAAAAAACxAMzMzMzMzF0AAAAAAAAAyQAAAAAAAAEZAAAAAAAAA8D8AAAAAAAAgQJqZmZmZGTRAAAAAAAAAIkAAAAAAAEBBQAAAAAAAAAxAAAAAAAAAIUAAAAAAAAAiQJqZmZmZmTJAmpmZmZmZuT8zMzMzMz+PQAAAAAAAwGxAAAAAAAAAXkAAAAAAAMBsQDMzMzMzMwtAMzMzMzMzE0BmZmZmZmYUQAAAAAAAADxAzczMzMzMHkAAAAAAAAD4PwAAAAAAgFZA",
          "dtype": "f8"
         },
         "xaxis": "x",
         "y": {
          "bdata": "DwAeAC0ALQBGAEEAWgBkAC0ARgA8ADAAOgCCAGQAGQAjAEEAIwBBAFAAMAAyADIALQBBAIIAaQBGAHgAZAAtAFUAKwA3AFAAMgBGAF8AKAAyAEsANwBLADYATAA8AEsAHwCDAGsAWQBlAC0AQQBfADcAUAAeADwA",
          "dtype": "i2"
         },
         "yaxis": "y"
        },
        {
         "hovertemplate": "<b>LOWESS trendline</b><br><br>Type 1=Psychic<br>weight_kilograms=%{x}<br>Defense=%{y} <b>(trend)</b><extra></extra>",
         "legendgroup": "Psychic",
         "marker": {
          "color": "#636efa",
          "symbol": "circle"
         },
         "mode": "lines",
         "name": "Psychic",
         "showlegend": false,
         "type": "scattergl",
         "x": {
          "bdata": "mpmZmZmZuT8zMzMzMzPTPzMzMzMzM9M/MzMzMzMz0z8zMzMzMzPjPwAAAAAAAPA/AAAAAAAA8D8AAAAAAAD4PwAAAAAAAABAzczMzMzMAEAzMzMzMzMLQAAAAAAAAAxAAAAAAAAAEEAAAAAAAAAQQDMzMzMzMxNAAAAAAAAAFEAAAAAAAAAUQGZmZmZmZhRAMzMzMzMzF0BmZmZmZmYaQM3MzMzMzB5AAAAAAAAAIEAAAAAAAAAhQAAAAAAAACJAAAAAAAAAIkAAAAAAAAAlQAAAAAAAACpAAAAAAAAALEAAAAAAAAAsQAAAAAAAAC5AAAAAAAAAMkCamZmZmZkyQAAAAAAAgDNAmpmZmZkZNEAzMzMzMzM0QM3MzMzMTDdAAAAAAACAOkAAAAAAAAA8QAAAAAAAgDxAmpmZmZmZPkAzMzMzMzNAQAAAAAAAQEFAAAAAAAAARkAAAAAAAABIQDMzMzMzM0hAAAAAAAAASkAAAAAAAEBLQAAAAAAAQExAAAAAAABATkBmZmZmZmZOQAAAAAAA4FFAZmZmZmbmUkBmZmZmZmZVQAAAAAAAgFZAAAAAAAAAXkAAAAAAAIBeQAAAAAAAAGtAAAAAAADAbEAAAAAAAMBsQDMzMzMzP49A",
          "dtype": "f8"
         },
         "xaxis": "x",
         "y": {
          "bdata": "/apeKNWeTkCtUpDRZJ5OQK1SkNFknk5ArVKQ0WSeTkBzTriGlp1OQDtoAL03nE5AO2gAvTecTkDQAP2G/ZlOQLTYsFQnl05ANTNXK4OWTkBMh0h6KYxOQAcwtjQ7i05AHsKev1uGTkAewp6/W4ZOQE7mbDf8fU5API2L0Mx7TkA8jYvQzHtOQAPsvfCxek5AIufVd7VyTkCMeCM75mhOQKd8Sf7UWU5A4wec5FpVTkAUqvhneU1OQJ/mWBT7RE5An+ZYFPtETkDOeAu9EyZOQE1rODbrzU1AhMNiJqmRTUCEw2ImqZFNQKKLZem7QU1A91JcZ4KLTEBEEbrvwGZMQEC4Mgz+PExAenOSD74mTED3HIXmSiNMQD1fg0zeyEtA0+wOEAU8TEDcCMC1VpFMQDsAjDJzpExARv6+nqUITUCmznqNqCFNQK5bT343KU1AdvrrAbnBTUAgDFA+LkVOQHi5isCEWE5A8/wWwnUcT0DRM+lA9qJPQMriQ0PxA1BAY9ZMTahhUEBczrxsa2hQQMBezHR5Z1FAW/ORm33QUUAxpiOXCMxSQPpOLLapOlNA3JwVjgVHVkAKiBpnPXRWQG13sD3skFtAVqN5Fgl5XEBWo3kWCXlcQHexc/Zva2BA",
          "dtype": "f8"
         },
         "yaxis": "y"
        },
        {
         "hovertemplate": "Type 1=Rock<br>weight_kilograms=%{x}<br>Defense=%{y}<extra></extra>",
         "legendgroup": "Rock",
         "marker": {
          "color": "#EF553B",
          "symbol": "circle"
         },
         "mode": "markers",
         "name": "Rock",
         "showlegend": true,
         "type": "scattergl",
         "x": {
          "bdata": "AAAAAAAANEAAAAAAAEBaQAAAAAAAwHJAAAAAAABAakAAAAAAAAAeQAAAAAAAgEFAAAAAAAAAJ0AAAAAAAEBEQAAAAAAAgE1AAAAAAAAAQ0AAAAAAAABSQAAAAAAAAGNAAAAAAABAaUAAAAAAAEBYQAAAAAAAAGVAAAAAAABAY0DNzMzMzMw3QDMzMzMzM05AAAAAAAAAKUDNzMzMzAxRQAAAAAAAwGxAAAAAAACAP0AAAAAAAKBZQAAAAAAAgExAAAAAAACwYkAAAAAAAAAuQAAAAAAAQHVAAAAAAAAAMkAAAAAAAIBZQAAAAAAAQHBAAAAAAAAAI0AAAAAAAABAQAAAAAAAQHBAAAAAAAAAP0AAAAAAAABYQAAAAAAAADpAAAAAAADgcEAzMzMzMzM5QAAAAAAAIGxAzczMzMzMFkCamZmZmZkhQGZmZmZmZiJAAAAAAAAAOUAAAAAAAABEQAAAAAAAwEtAAAAAAACgiUAAAAAAAAAoQAAAAAAAgFNAAAAAAABoc0AAAAAAAECAQAAAAAAAADBAAAAAAABAWkAAAAAAAABuQAAAAAAAwFNAAAAAAAAAIEAAAAAAAIBGQAAAAAAA8HJAAAAAAABQZEA=",
          "dtype": "f8"
         },
         "xaxis": "x",
         "y": {
          "bdata": "ZABzAIIAoABkAH0AWgBpAEEAcwAyAEYAbgCHAEEAVQBNAGEAMgBkAMgAKAA8AHYAqABfAJEAVQBpAIIALQBBAFoAQwBzAE0AdwAyAEgAlgCWACgAQQBkAC8A0wAyAFoAeACHAEsAZACCAHMAKgBaAG4AUAA=",
          "dtype": "i2"
         },
         "yaxis": "y"
        },
        {
         "hovertemplate": "<b>LOWESS trendline</b><br><br>Type 1=Rock<br>weight_kilograms=%{x}<br>Defense=%{y} <b>(trend)</b><extra></extra>",
         "legendgroup": "Rock",
         "marker": {
          "color": "#EF553B",
          "symbol": "circle"
         },
         "mode": "lines",
         "name": "Rock",
         "showlegend": false,
         "type": "scattergl",
         "x": {
          "bdata": "zczMzMzMFkAAAAAAAAAeQAAAAAAAACBAmpmZmZmZIUBmZmZmZmYiQAAAAAAAACNAAAAAAAAAJ0AAAAAAAAAoQAAAAAAAAClAAAAAAAAALkAAAAAAAAAwQAAAAAAAADJAAAAAAAAANEDNzMzMzMw3QAAAAAAAADlAMzMzMzMzOUAAAAAAAAA6QAAAAAAAAD9AAAAAAACAP0AAAAAAAABAQAAAAAAAgEFAAAAAAAAAQ0AAAAAAAABEQAAAAAAAQERAAAAAAACARkAAAAAAAMBLQAAAAAAAgExAAAAAAACATUAzMzMzMzNOQM3MzMzMDFFAAAAAAAAAUkAAAAAAAIBTQAAAAAAAwFNAAAAAAAAAWEAAAAAAAEBYQAAAAAAAgFlAAAAAAACgWUAAAAAAAEBaQAAAAAAAQFpAAAAAAACwYkAAAAAAAABjQAAAAAAAQGNAAAAAAABQZEAAAAAAAABlQAAAAAAAQGlAAAAAAABAakAAAAAAACBsQAAAAAAAwGxAAAAAAAAAbkAAAAAAAEBwQAAAAAAAQHBAAAAAAADgcEAAAAAAAMByQAAAAAAA8HJAAAAAAABoc0AAAAAAAEB1QAAAAAAAQIBAAAAAAACgiUA=",
          "dtype": "f8"
         },
         "xaxis": "x",
         "y": {
          "bdata": "BkNmWW+4UUBv9lZdfOJRQHW+lAYj7lFAmBWN3r4AUkDgtxuQCApSQFzHm9L9EFJA0wcz9DE/UkBGgCfBsUpSQHCiqP4rVlJAdK3uWTyPUkBxaISA6qVSQPhYOdUH01JAoQV788//UkCVYGvk5VNTQO1/SFEkblNA7wDX/39yU0BqBy3m4oNTQMcYUTvy7lNAqwfQ7YL5U0Chr/vqDQRUQL6TvtD+QlRA16c1KvKBVEBk/VyCVKxUQCWvVq4Dt1RAIETl9lsZVUAnM6SOWQxWQAjZr4MmNlZAmC9zNsJ1VkACpNwRO51WQPFbc5SySFdANsJoVv6RV0Cus03XGwNYQG6oT94LFlhAx/x54AF3WEDLeN7r6mdYQPHYObQ0IFhAuOp4b88ZWEDHXf4kOfxXQMdd/iQ5/FdAxTjAzgECWUDPGN1p+iVZQJlljCRIQVlA8X8ORRKlWUBGDiJfeNlZQA1eNPnX8FpAQuB9UVQ8W0CEHc3mb9JbQKHJIKMIBlxA8hVEcfluXEA73YPP50VdQDvdg8/nRV1AgZGfB+WyXUClABLJuNJeQEngO02k5l5Ae0aIh2QTX0BFT7hQxK5fQJ7+Se9KLmNASFOFzTN6aUA=",
          "dtype": "f8"
         },
         "yaxis": "y"
        },
        {
         "hovertemplate": "Type 1=Ghost<br>weight_kilograms=%{x}<br>Defense=%{y}<extra></extra>",
         "legendgroup": "Ghost",
         "marker": {
          "color": "#00cc96",
          "symbol": "circle"
         },
         "mode": "markers",
         "name": "Ghost",
         "showlegend": true,
         "type": "scattergl",
         "x": {
          "bdata": "mpmZmZmZuT+amZmZmZm5PwAAAAAAQERAAAAAAAAA8D9mZmZmZmYCQAAAAAAAAClAAAAAAAAALkCamZmZmZk+QDMzMzMzM/M/AAAAAAAALkCamZmZmZkRQAAAAAAAAFtAZmZmZmamWkAAAAAAAHCHQAAAAAAAAPg/AAAAAAAgU0DNzMzMzMwIQAAAAAAAACpAZmZmZmYmQUAAAAAAAAAcQAAAAAAAwFFAAAAAAAAAFEAAAAAAAAApQAAAAAAAgFFAAAAAAABAb0BmZmZmZmbmPwAAAAAAQGpAmpmZmZmZyT+amZmZmZnZP5qZmZmZmdk/AAAAAABARkAAAAAAAIBBQAAAAAAAAC5AAAAAAAAAEEAAAAAAAAAUQA==",
          "dtype": "f8"
         },
         "xaxis": "x",
         "y": {
          "bdata": "HgAtADwAPAAjAEEAWgCCACIALAA8AGwAhwB4AFUAkQA3ADwAWgAwAEwARgB6AFAAbgBQAGQALQBBADIAPAA8AGQANwBGAA==",
          "dtype": "i2"
         },
         "yaxis": "y"
        },
        {
         "hovertemplate": "<b>LOWESS trendline</b><br><br>Type 1=Ghost<br>weight_kilograms=%{x}<br>Defense=%{y} <b>(trend)</b><extra></extra>",
         "legendgroup": "Ghost",
         "marker": {
          "color": "#00cc96",
          "symbol": "circle"
         },
         "mode": "lines",
         "name": "Ghost",
         "showlegend": false,
         "type": "scattergl",
         "x": {
          "bdata": "mpmZmZmZuT+amZmZmZm5P5qZmZmZmck/mpmZmZmZ2T+amZmZmZnZP2ZmZmZmZuY/AAAAAAAA8D8zMzMzMzPzPwAAAAAAAPg/ZmZmZmZmAkDNzMzMzMwIQAAAAAAAABBAmpmZmZmZEUAAAAAAAAAUQAAAAAAAABRAAAAAAAAAHEAAAAAAAAApQAAAAAAAAClAAAAAAAAAKkAAAAAAAAAuQAAAAAAAAC5AAAAAAAAALkCamZmZmZk+QGZmZmZmJkFAAAAAAACAQUAAAAAAAEBEQAAAAAAAQEZAAAAAAACAUUAAAAAAAMBRQAAAAAAAIFNAZmZmZmamWkAAAAAAAABbQAAAAAAAQGpAAAAAAABAb0AAAAAAAHCHQA==",
          "dtype": "f8"
         },
         "xaxis": "x",
         "y": {
          "bdata": "fYhHRNlqSUB9iEdE2WpJQG16uvQPg0lAnusfS3+zSUCe6x9Lf7NJQK94ef4s/ElA4BlnnORESkCKclLMZHVKQEuNkrktvkpAkvBTTHiAS0Dh2W4NAkNMQNVf93csHk1AMat+D7N/TUCfqjPwJBJOQJ+qM/AkEk5ApIP3XnT7T0DuNirINptSQO42Ksg2m1JAOPXC6wrYUkDMnkH8+t5TQMyeQfz63lNAzJ5B/PreU0AvEhvyFQNSQAQWlCalnlFAiMASPQ6MUUD4FICciLFRQF7A3sjEalJAbYTBTn7QVkCA3zeGMABXQAbH0VN7/1dArRm2P0yqXUBom0PnGe1dQOQ4pESzBVtA/edltfNUW0AOcAAwRf9dQA==",
          "dtype": "f8"
         },
         "yaxis": "y"
        },
        {
         "hovertemplate": "Type 1=Ice<br>weight_kilograms=%{x}<br>Defense=%{y}<extra></extra>",
         "legendgroup": "Ice",
         "marker": {
          "color": "#ab63fa",
          "symbol": "circle"
         },
         "mode": "markers",
         "name": "Ice",
         "showlegend": true,
         "type": "scattergl",
         "x": {
          "bdata": "zczMzMxMREAzMzMzM7NLQAAAAAAAABpAZmZmZmbmS0AAAAAAAAAwQAAAAAAAABhAzczMzMzMMEAAAAAAAAhwQAAAAAAAwENAZmZmZmbmVUAzMzMzM9NiQAAAAAAA4GVAZmZmZmbmOUAAAAAAADByQJqZmZmZmTpAzczMzMzMFkAAAAAAAIBEQAAAAAAAwExAAAAAAAAAIUAAAAAAAEBwQAAAAAAAgGJAAAAAAADgWEAAAAAAAJB/QJqZmZmZGU1AZmZmZmZmDkAAAAAAAABFQAAAAAAAQFZAAAAAAAAAiUAAAAAAAIBGQAAAAAAA4IVAAAAAAAAAJkA=",
          "dtype": "f8"
         },
         "xaxis": "x",
         "y": {
          "bdata": "IwBkACgAUAAtAA8AMgBQADIARgBaAGQAbgBQAEYAMgBBAFUAKABQADIAVQC4AEsAIwA8AG4AggAtAEEAcgA=",
          "dtype": "i2"
         },
         "yaxis": "y"
        },
        {
         "hovertemplate": "<b>LOWESS trendline</b><br><br>Type 1=Ice<br>weight_kilograms=%{x}<br>Defense=%{y} <b>(trend)</b><extra></extra>",
         "legendgroup": "Ice",
         "marker": {
          "color": "#ab63fa",
          "symbol": "circle"
         },
         "mode": "lines",
         "name": "Ice",
         "showlegend": false,
         "type": "scattergl",
         "x": {
          "bdata": "ZmZmZmZmDkDNzMzMzMwWQAAAAAAAABhAAAAAAAAAGkAAAAAAAAAhQAAAAAAAACZAAAAAAAAAMEDNzMzMzMwwQGZmZmZm5jlAmpmZmZmZOkAAAAAAAMBDQM3MzMzMTERAAAAAAACAREAAAAAAAABFQAAAAAAAgEZAMzMzMzOzS0BmZmZmZuZLQAAAAAAAwExAmpmZmZkZTUBmZmZmZuZVQAAAAAAAQFZAAAAAAADgWEAAAAAAAIBiQDMzMzMz02JAAAAAAADgZUAAAAAAAAhwQAAAAAAAQHBAAAAAAAAwckAAAAAAAJB/QAAAAAAA4IVAAAAAAAAAiUA=",
          "dtype": "f8"
         },
         "xaxis": "x",
         "y": {
          "bdata": "wt5E8HMaQkB7sz1nSMNCQN6Sknr13UJAqYjQh24KQ0DkdepwhrxDQNcRuhrHm0RAzr5zHqhdRkCm8aVzNKZGQKSkQ8Sl70lAI4TPJeAxSkBWhT0gshNPQMWNZbl5fE9AYeNqDSGiT0A+0fg2+/5PQMVrvdQlhVBAVw+xNQUoUkB2byMyDTJSQD9PA6maW1JA20MuQM5sUkDu3hXZ27VUQAgtbNlIllRAS5Lhgfs7VEDYWhmvrW5VQF6g3yvSVFVAc+y2fcLhVEAjNpMrWmVUQPjo4t+kX1RAQ/Jm1ugkVEA4n3D7SvtXQE6HFKGSRFxAiDsMqXsoXkA=",
          "dtype": "f8"
         },
         "yaxis": "y"
        },
        {
         "hovertemplate": "Type 1=Dragon<br>weight_kilograms=%{x}<br>Defense=%{y}<extra></extra>",
         "legendgroup": "Dragon",
         "marker": {
          "color": "#FFA15A",
          "symbol": "circle"
         },
         "mode": "markers",
         "name": "Dragon",
         "showlegend": true,
         "type": "scattergl",
         "x": {
          "bdata": "ZmZmZmZmCkAAAAAAAIAwQAAAAAAAQGpAmpmZmZmZNEDNzMzMzAxFQAAAAAAAoFtAZmZmZmamWUAAAAAAAABEQAAAAAAAAE5AAAAAAADQaUAAAAAAAIA0QAAAAAAAAExAAAAAAADAV0AAAAAAAAAyQAAAAAAAAEJAAAAAAABgWkAAAAAAAGBhQAAAAAAAoHRAAAAAAACQdUAAAAAAAFB0QGZmZmZmZgZAAAAAAACAMUAAAAAAANBiQAAAAAAAwEBAMzMzMzOzPUAAAAAAAIBHQM3MzMzMjFNAAAAAAAAAAEAAAAAAAAAmQAAAAAAAAElAAAAAAAAAaUAAAAAAAIBPQAAAAAAAACBAAAAAAAAAMUAAAAAAAAA+QAAAAAAAQGpAAAAAAADAd0A=",
          "dtype": "f8"
         },
         "xaxis": "x",
         "y": {
          "bdata": "LUFfWjxkUFpQWi1BXzxGWlpkeFojNUZ5QVp9HjJLMkE8LUJcRw==",
          "dtype": "i1"
         },
         "yaxis": "y"
        },
        {
         "hovertemplate": "<b>LOWESS trendline</b><br><br>Type 1=Dragon<br>weight_kilograms=%{x}<br>Defense=%{y} <b>(trend)</b><extra></extra>",
         "legendgroup": "Dragon",
         "marker": {
          "color": "#FFA15A",
          "symbol": "circle"
         },
         "mode": "lines",
         "name": "Dragon",
         "showlegend": false,
         "type": "scattergl",
         "x": {
          "bdata": "AAAAAAAAAEBmZmZmZmYGQGZmZmZmZgpAAAAAAAAAIEAAAAAAAAAmQAAAAAAAgDBAAAAAAAAAMUAAAAAAAIAxQAAAAAAAADJAAAAAAACANECamZmZmZk0QDMzMzMzsz1AAAAAAAAAPkAAAAAAAMBAQAAAAAAAAEJAAAAAAAAAREDNzMzMzAxFQAAAAAAAgEdAAAAAAAAASUAAAAAAAABMQAAAAAAAAE5AAAAAAACAT0DNzMzMzIxTQAAAAAAAwFdAZmZmZmamWUAAAAAAAGBaQAAAAAAAoFtAAAAAAABgYUAAAAAAANBiQAAAAAAAAGlAAAAAAADQaUAAAAAAAEBqQAAAAAAAQGpAAAAAAABQdEAAAAAAAKB0QAAAAAAAkHVAAAAAAADAd0A=",
          "dtype": "f8"
         },
         "xaxis": "x",
         "y": {
          "bdata": "KXDQ41kbRkAbeEvmmGNGQJUSMcugkEZAgfXw1IkzSEAcUbkZGjtJQAkGhEIIF0tAouYutNdBS0B4mn2zk2xLQAT9QzQ8l0tA2XZiql9rTEBYt5OU0XNMQGEx7Y81ZU9AAWtVg3B9T0BiGjDxF0pQQLyTnN7iqlBA/iLTGNM+UUD50yhmvIdRQHUbrClrIFJAeksd0x18UkAKGb7dQzVTQAIgizqYi1NAwi1mdgC1U0D838ZKCNBUQBNQma+uZ1VALv17jRdsVUBO4ECdVXFVQN92ar+sflVATNujOcSDVUCQSHe8bqJVQEoO2hOzHVZAcu75Gy1FVkDXogMSNF1WQNeiAxI0XVZAbfoxbhM8V0CgKNs1P0VXQEjpWyniYVdAD9u8MiKmV0A=",
          "dtype": "f8"
         },
         "yaxis": "y"
        },
        {
         "hovertemplate": "Type 1=Dark<br>weight_kilograms=%{x}<br>Defense=%{y}<extra></extra>",
         "legendgroup": "Dark",
         "marker": {
          "color": "#19d3f3",
          "symbol": "circle"
         },
         "mode": "markers",
         "name": "Dark",
         "showlegend": true,
         "type": "scattergl",
         "x": {
          "bdata": "AAAAAAAAO0DNzMzMzMwAQAAAAAAAADxAmpmZmZmZJUAAAAAAAIBBQDMzMzMzMytAAAAAAACAQkAAAAAAAAAmQAAAAAAAgEdAzczMzMxMO0AAAAAAAABBQAAAAAAAQElAMzMzMzMzJEAAAAAAAMBCQJqZmZmZmSdAAAAAAAAAPkAAAAAAAAApQGZmZmZmRlRAZmZmZmZmJEAAAAAAAIBRQAAAAAAAACJAAAAAAADAQ0DNzMzMzEwxQAAAAAAAAElAAAAAAAAAZEAAAAAAAAAMQAAAAAAAgEdAAAAAAABgaUAAAAAAAMCLQM3MzMzMzCFAZmZmZmbmM0AAAAAAAAAWQAAAAAAAAClAAAAAAACATkAAAAAAAABHQAAAAAAAgFFAAAAAAABATkAAAAAAAAAwQAAAAAAAgE5AAAAAAAAAXkAAAAAAAMBbQM3MzMzMjFJAZmZmZmYGY0CamZmZmd2FQJqZmZmZmRNA",
          "dtype": "f8"
         },
         "xaxis": "x",
         "y": {
          "bdata": "bio3HjIjRks8NEFaJTJGcyg8RmRLaTJGWjVYXzUcOh4tQWVpXzxaeFZkUH1Q",
          "dtype": "i1"
         },
         "yaxis": "y"
        },
        {
         "hovertemplate": "<b>LOWESS trendline</b><br><br>Type 1=Dark<br>weight_kilograms=%{x}<br>Defense=%{y} <b>(trend)</b><extra></extra>",
         "legendgroup": "Dark",
         "marker": {
          "color": "#19d3f3",
          "symbol": "circle"
         },
         "mode": "lines",
         "name": "Dark",
         "showlegend": false,
         "type": "scattergl",
         "x": {
          "bdata": "zczMzMzMAEAAAAAAAAAMQJqZmZmZmRNAAAAAAAAAFkDNzMzMzMwhQAAAAAAAACJAMzMzMzMzJEBmZmZmZmYkQJqZmZmZmSVAAAAAAAAAJkCamZmZmZknQAAAAAAAAClAAAAAAAAAKUAzMzMzMzMrQAAAAAAAADBAzczMzMxMMUBmZmZmZuYzQAAAAAAAADtAzczMzMxMO0AAAAAAAAA8QAAAAAAAAD5AAAAAAAAAQUAAAAAAAIBBQAAAAAAAgEJAAAAAAADAQkAAAAAAAMBDQAAAAAAAAEdAAAAAAACAR0AAAAAAAIBHQAAAAAAAAElAAAAAAABASUAAAAAAAEBOQAAAAAAAgE5AAAAAAACATkAAAAAAAIBRQAAAAAAAgFFAzczMzMyMUkBmZmZmZkZUQAAAAAAAwFtAAAAAAAAAXkBmZmZmZgZjQAAAAAAAAGRAAAAAAABgaUCamZmZmd2FQAAAAAAAwItA",
          "dtype": "f8"
         },
         "xaxis": "x",
         "y": {
          "bdata": "viY3CO8HR0Ard7RhP39HQEr0gwAs+EdAnESbNn0sSEB5V9KJZ1lJQM+DPE1ZYklAqlGbyf/ESUDKRfb8/M1JQEUfWTD7A0pA8Wppc/8VSkCEwJhvIl5KQP87vNdKnUpA/zu810qdSkC6uylJaQBLQHqzag9N10tA6/mmp7VKTEA6cCqDii9NQI3ArNBo3k9Apbc1mJr+T0BBA6qELShQQLZIlcwXoFBAeXzeqwCAUUBAf2lXV71RQDMY0gUpG1JAhG0qOsEvUkBYXYLf7ntSQBOx01iQlFNArHZBMbTEU0CsdkExtMRTQKRdK3NuQVRA2ao9VRNTVEAGGiII7GxVQG9aaarLeVVAb1ppqst5VUCPCxnFxf5VQI8LGcXF/lVA0qlKg7k8VkCBtG8hFNFWQIV1l6L6qlZA0QFPJeioVkAxBjjutf5WQDMPmch5E1dAdPcowMJoV0Cv/0gnPr1UQAYdVPqmdVJA",
          "dtype": "f8"
         },
         "yaxis": "y"
        },
        {
         "hovertemplate": "Type 1=Steel<br>weight_kilograms=%{x}<br>Defense=%{y}<extra></extra>",
         "legendgroup": "Steel",
         "marker": {
          "color": "#FF6692",
          "symbol": "circle"
         },
         "mode": "markers",
         "name": "Steel",
         "showlegend": true,
         "type": "scattergl",
         "x": {
          "bdata": "AAAAAAAAeUAAAAAAAEBJQAAAAAAAACdAAAAAAAAATkAAAAAAAABeQAAAAAAAgHZAzczMzMzMV0AAAAAAAFBpQAAAAAAAMIFAAAAAAACgaUCamZmZmZnxPwAAAAAAQE5AAAAAAABgZ0AAAAAAAFiFQAAAAAAAADVAAAAAAACASUAAAAAAAEBUQAAAAAAAQG9AAAAAAAAAAEAAAAAAAAASQAAAAAAAgEpAAAAAAAAACEAzMzMzMz+PQAAAAAAAIFRAAAAAAAAAIEAAAAAAAACJQAAAAAAAADxAAAAAAAAAWUAAAAAAAFCEQAAAAAAAAERAAAAAAACAQUAAAAAAAABeQAAAAAAAYHNAAAAAAAAAPkAAAAAAAABOQAAAAAAAgGNA",
          "dtype": "f8"
         },
         "xaxis": "x",
         "y": {
          "bdata": "yACMAFUAZACMALQAUABkAIIAlgBkAFYAdAB4AEYAXwBzAIEAZACWAJYAWwBnAHMAQQCPAGQAMQBFAHMAPwBaAJEAXwCCAGQA",
          "dtype": "i2"
         },
         "yaxis": "y"
        },
        {
         "hovertemplate": "<b>LOWESS trendline</b><br><br>Type 1=Steel<br>weight_kilograms=%{x}<br>Defense=%{y} <b>(trend)</b><extra></extra>",
         "legendgroup": "Steel",
         "marker": {
          "color": "#FF6692",
          "symbol": "circle"
         },
         "mode": "lines",
         "name": "Steel",
         "showlegend": false,
         "type": "scattergl",
         "x": {
          "bdata": "mpmZmZmZ8T8AAAAAAAAAQAAAAAAAAAhAAAAAAAAAEkAAAAAAAAAgQAAAAAAAACdAAAAAAAAANUAAAAAAAAA8QAAAAAAAAD5AAAAAAACAQUAAAAAAAABEQAAAAAAAQElAAAAAAACASUAAAAAAAIBKQAAAAAAAAE5AAAAAAAAATkAAAAAAAEBOQAAAAAAAIFRAAAAAAABAVEDNzMzMzMxXQAAAAAAAAFlAAAAAAAAAXkAAAAAAAABeQAAAAAAAgGNAAAAAAABgZ0AAAAAAAFBpQAAAAAAAoGlAAAAAAABAb0AAAAAAAGBzQAAAAAAAgHZAAAAAAAAAeUAAAAAAADCBQAAAAAAAUIRAAAAAAABYhUAAAAAAAACJQDMzMzMzP49A",
          "dtype": "f8"
         },
         "xaxis": "x",
         "y": {
          "bdata": "d9NGsVJ3VkAxJJN1RIhWQKnqx5Ugm1ZAo3kKn3e3VkAh8oo5qflWQEfZ91iKO1dAIXm447jpV0B7e2Vgv2JYQHhcwczkg1hAH0ZtEcXTWEDO6Xvilx9ZQGJ7rabmullATHTQE6nCWUBR5ctkneJZQOZS42keW1pA5lLjaR5bWkAE5MYzrWJaQIosXM9+BFpAKKeEdqMEWkAKbD29tO1ZQAbIvWxL41lAeGkBQ511WkB4aQFDnXVaQJO9aDIh/1tAf4s2sphSXUDGV3Rj1yFeQPoxwldDS15Ae1WfJYjwYEAOLYxmxSVjQEr1pZayi2JAep3mE0XDYUATuiLtUqZgQDAYjFT7CmBAFjXYeSKgX0D/dNOhewFeQNp+EJ31UVtA",
          "dtype": "f8"
         },
         "yaxis": "y"
        },
        {
         "hovertemplate": "Type 1=Flying<br>weight_kilograms=%{x}<br>Defense=%{y}<extra></extra>",
         "legendgroup": "Flying",
         "marker": {
          "color": "#B6E880",
          "symbol": "circle"
         },
         "mode": "markers",
         "name": "Flying",
         "showlegend": true,
         "type": "scattergl",
         "x": {
          "bdata": "AAAAAACAT0AAAAAAAAAgQAAAAAAAQFVAzczMzMzM/D8AAAAAAAAwQAAAAAAAwFJAAAAAAAAAMkAzMzMzM3NFQAAAAAAAgEJA",
          "dtype": "f8"
         },
         "xaxis": "x",
         "y": {
          "bdata": "RiNQIzdpN1VK",
          "dtype": "i1"
         },
         "yaxis": "y"
        },
        {
         "hovertemplate": "<b>LOWESS trendline</b><br><br>Type 1=Flying<br>weight_kilograms=%{x}<br>Defense=%{y} <b>(trend)</b><extra></extra>",
         "legendgroup": "Flying",
         "marker": {
          "color": "#B6E880",
          "symbol": "circle"
         },
         "mode": "lines",
         "name": "Flying",
         "showlegend": false,
         "type": "scattergl",
         "x": {
          "bdata": "zczMzMzM/D8AAAAAAAAgQAAAAAAAADBAAAAAAAAAMkAAAAAAAIBCQDMzMzMzc0VAAAAAAACAT0AAAAAAAMBSQAAAAAAAQFVA",
          "dtype": "f8"
         },
         "xaxis": "x",
         "y": {
          "bdata": "Lfe0gMYBQECn59Qj/2dEQHwyFykpRkpA4AiAkd1BTEA2V/ebyAxTQGTNnMObnlNA8wB11GMjUkBTmv5VJBJTQJzjz9xB5lNA",
          "dtype": "f8"
         },
         "yaxis": "y"
        }
       ],
       "layout": {
        "legend": {
         "title": {
          "text": "Type 1"
         },
         "tracegroupgap": 0
        },
        "template": {
         "data": {
          "bar": [
           {
            "error_x": {
             "color": "#2a3f5f"
            },
            "error_y": {
             "color": "#2a3f5f"
            },
            "marker": {
             "line": {
              "color": "#E5ECF6",
              "width": 0.5
             },
             "pattern": {
              "fillmode": "overlay",
              "size": 10,
              "solidity": 0.2
             }
            },
            "type": "bar"
           }
          ],
          "barpolar": [
           {
            "marker": {
             "line": {
              "color": "#E5ECF6",
              "width": 0.5
             },
             "pattern": {
              "fillmode": "overlay",
              "size": 10,
              "solidity": 0.2
             }
            },
            "type": "barpolar"
           }
          ],
          "carpet": [
           {
            "aaxis": {
             "endlinecolor": "#2a3f5f",
             "gridcolor": "white",
             "linecolor": "white",
             "minorgridcolor": "white",
             "startlinecolor": "#2a3f5f"
            },
            "baxis": {
             "endlinecolor": "#2a3f5f",
             "gridcolor": "white",
             "linecolor": "white",
             "minorgridcolor": "white",
             "startlinecolor": "#2a3f5f"
            },
            "type": "carpet"
           }
          ],
          "choropleth": [
           {
            "colorbar": {
             "outlinewidth": 0,
             "ticks": ""
            },
            "type": "choropleth"
           }
          ],
          "contour": [
           {
            "colorbar": {
             "outlinewidth": 0,
             "ticks": ""
            },
            "colorscale": [
             [
              0,
              "#0d0887"
             ],
             [
              0.1111111111111111,
              "#46039f"
             ],
             [
              0.2222222222222222,
              "#7201a8"
             ],
             [
              0.3333333333333333,
              "#9c179e"
             ],
             [
              0.4444444444444444,
              "#bd3786"
             ],
             [
              0.5555555555555556,
              "#d8576b"
             ],
             [
              0.6666666666666666,
              "#ed7953"
             ],
             [
              0.7777777777777778,
              "#fb9f3a"
             ],
             [
              0.8888888888888888,
              "#fdca26"
             ],
             [
              1,
              "#f0f921"
             ]
            ],
            "type": "contour"
           }
          ],
          "contourcarpet": [
           {
            "colorbar": {
             "outlinewidth": 0,
             "ticks": ""
            },
            "type": "contourcarpet"
           }
          ],
          "heatmap": [
           {
            "colorbar": {
             "outlinewidth": 0,
             "ticks": ""
            },
            "colorscale": [
             [
              0,
              "#0d0887"
             ],
             [
              0.1111111111111111,
              "#46039f"
             ],
             [
              0.2222222222222222,
              "#7201a8"
             ],
             [
              0.3333333333333333,
              "#9c179e"
             ],
             [
              0.4444444444444444,
              "#bd3786"
             ],
             [
              0.5555555555555556,
              "#d8576b"
             ],
             [
              0.6666666666666666,
              "#ed7953"
             ],
             [
              0.7777777777777778,
              "#fb9f3a"
             ],
             [
              0.8888888888888888,
              "#fdca26"
             ],
             [
              1,
              "#f0f921"
             ]
            ],
            "type": "heatmap"
           }
          ],
          "histogram": [
           {
            "marker": {
             "pattern": {
              "fillmode": "overlay",
              "size": 10,
              "solidity": 0.2
             }
            },
            "type": "histogram"
           }
          ],
          "histogram2d": [
           {
            "colorbar": {
             "outlinewidth": 0,
             "ticks": ""
            },
            "colorscale": [
             [
              0,
              "#0d0887"
             ],
             [
              0.1111111111111111,
              "#46039f"
             ],
             [
              0.2222222222222222,
              "#7201a8"
             ],
             [
              0.3333333333333333,
              "#9c179e"
             ],
             [
              0.4444444444444444,
              "#bd3786"
             ],
             [
              0.5555555555555556,
              "#d8576b"
             ],
             [
              0.6666666666666666,
              "#ed7953"
             ],
             [
              0.7777777777777778,
              "#fb9f3a"
             ],
             [
              0.8888888888888888,
              "#fdca26"
             ],
             [
              1,
              "#f0f921"
             ]
            ],
            "type": "histogram2d"
           }
          ],
          "histogram2dcontour": [
           {
            "colorbar": {
             "outlinewidth": 0,
             "ticks": ""
            },
            "colorscale": [
             [
              0,
              "#0d0887"
             ],
             [
              0.1111111111111111,
              "#46039f"
             ],
             [
              0.2222222222222222,
              "#7201a8"
             ],
             [
              0.3333333333333333,
              "#9c179e"
             ],
             [
              0.4444444444444444,
              "#bd3786"
             ],
             [
              0.5555555555555556,
              "#d8576b"
             ],
             [
              0.6666666666666666,
              "#ed7953"
             ],
             [
              0.7777777777777778,
              "#fb9f3a"
             ],
             [
              0.8888888888888888,
              "#fdca26"
             ],
             [
              1,
              "#f0f921"
             ]
            ],
            "type": "histogram2dcontour"
           }
          ],
          "mesh3d": [
           {
            "colorbar": {
             "outlinewidth": 0,
             "ticks": ""
            },
            "type": "mesh3d"
           }
          ],
          "parcoords": [
           {
            "line": {
             "colorbar": {
              "outlinewidth": 0,
              "ticks": ""
             }
            },
            "type": "parcoords"
           }
          ],
          "pie": [
           {
            "automargin": true,
            "type": "pie"
           }
          ],
          "scatter": [
           {
            "fillpattern": {
             "fillmode": "overlay",
             "size": 10,
             "solidity": 0.2
            },
            "type": "scatter"
           }
          ],
          "scatter3d": [
           {
            "line": {
             "colorbar": {
              "outlinewidth": 0,
              "ticks": ""
             }
            },
            "marker": {
             "colorbar": {
              "outlinewidth": 0,
              "ticks": ""
             }
            },
            "type": "scatter3d"
           }
          ],
          "scattercarpet": [
           {
            "marker": {
             "colorbar": {
              "outlinewidth": 0,
              "ticks": ""
             }
            },
            "type": "scattercarpet"
           }
          ],
          "scattergeo": [
           {
            "marker": {
             "colorbar": {
              "outlinewidth": 0,
              "ticks": ""
             }
            },
            "type": "scattergeo"
           }
          ],
          "scattergl": [
           {
            "marker": {
             "colorbar": {
              "outlinewidth": 0,
              "ticks": ""
             }
            },
            "type": "scattergl"
           }
          ],
          "scattermap": [
           {
            "marker": {
             "colorbar": {
              "outlinewidth": 0,
              "ticks": ""
             }
            },
            "type": "scattermap"
           }
          ],
          "scattermapbox": [
           {
            "marker": {
             "colorbar": {
              "outlinewidth": 0,
              "ticks": ""
             }
            },
            "type": "scattermapbox"
           }
          ],
          "scatterpolar": [
           {
            "marker": {
             "colorbar": {
              "outlinewidth": 0,
              "ticks": ""
             }
            },
            "type": "scatterpolar"
           }
          ],
          "scatterpolargl": [
           {
            "marker": {
             "colorbar": {
              "outlinewidth": 0,
              "ticks": ""
             }
            },
            "type": "scatterpolargl"
           }
          ],
          "scatterternary": [
           {
            "marker": {
             "colorbar": {
              "outlinewidth": 0,
              "ticks": ""
             }
            },
            "type": "scatterternary"
           }
          ],
          "surface": [
           {
            "colorbar": {
             "outlinewidth": 0,
             "ticks": ""
            },
            "colorscale": [
             [
              0,
              "#0d0887"
             ],
             [
              0.1111111111111111,
              "#46039f"
             ],
             [
              0.2222222222222222,
              "#7201a8"
             ],
             [
              0.3333333333333333,
              "#9c179e"
             ],
             [
              0.4444444444444444,
              "#bd3786"
             ],
             [
              0.5555555555555556,
              "#d8576b"
             ],
             [
              0.6666666666666666,
              "#ed7953"
             ],
             [
              0.7777777777777778,
              "#fb9f3a"
             ],
             [
              0.8888888888888888,
              "#fdca26"
             ],
             [
              1,
              "#f0f921"
             ]
            ],
            "type": "surface"
           }
          ],
          "table": [
           {
            "cells": {
             "fill": {
              "color": "#EBF0F8"
             },
             "line": {
              "color": "white"
             }
            },
            "header": {
             "fill": {
              "color": "#C8D4E3"
             },
             "line": {
              "color": "white"
             }
            },
            "type": "table"
           }
          ]
         },
         "layout": {
          "annotationdefaults": {
           "arrowcolor": "#2a3f5f",
           "arrowhead": 0,
           "arrowwidth": 1
          },
          "autotypenumbers": "strict",
          "coloraxis": {
           "colorbar": {
            "outlinewidth": 0,
            "ticks": ""
           }
          },
          "colorscale": {
           "diverging": [
            [
             0,
             "#8e0152"
            ],
            [
             0.1,
             "#c51b7d"
            ],
            [
             0.2,
             "#de77ae"
            ],
            [
             0.3,
             "#f1b6da"
            ],
            [
             0.4,
             "#fde0ef"
            ],
            [
             0.5,
             "#f7f7f7"
            ],
            [
             0.6,
             "#e6f5d0"
            ],
            [
             0.7,
             "#b8e186"
            ],
            [
             0.8,
             "#7fbc41"
            ],
            [
             0.9,
             "#4d9221"
            ],
            [
             1,
             "#276419"
            ]
           ],
           "sequential": [
            [
             0,
             "#0d0887"
            ],
            [
             0.1111111111111111,
             "#46039f"
            ],
            [
             0.2222222222222222,
             "#7201a8"
            ],
            [
             0.3333333333333333,
             "#9c179e"
            ],
            [
             0.4444444444444444,
             "#bd3786"
            ],
            [
             0.5555555555555556,
             "#d8576b"
            ],
            [
             0.6666666666666666,
             "#ed7953"
            ],
            [
             0.7777777777777778,
             "#fb9f3a"
            ],
            [
             0.8888888888888888,
             "#fdca26"
            ],
            [
             1,
             "#f0f921"
            ]
           ],
           "sequentialminus": [
            [
             0,
             "#0d0887"
            ],
            [
             0.1111111111111111,
             "#46039f"
            ],
            [
             0.2222222222222222,
             "#7201a8"
            ],
            [
             0.3333333333333333,
             "#9c179e"
            ],
            [
             0.4444444444444444,
             "#bd3786"
            ],
            [
             0.5555555555555556,
             "#d8576b"
            ],
            [
             0.6666666666666666,
             "#ed7953"
            ],
            [
             0.7777777777777778,
             "#fb9f3a"
            ],
            [
             0.8888888888888888,
             "#fdca26"
            ],
            [
             1,
             "#f0f921"
            ]
           ]
          },
          "colorway": [
           "#636efa",
           "#EF553B",
           "#00cc96",
           "#ab63fa",
           "#FFA15A",
           "#19d3f3",
           "#FF6692",
           "#B6E880",
           "#FF97FF",
           "#FECB52"
          ],
          "font": {
           "color": "#2a3f5f"
          },
          "geo": {
           "bgcolor": "white",
           "lakecolor": "white",
           "landcolor": "#E5ECF6",
           "showlakes": true,
           "showland": true,
           "subunitcolor": "white"
          },
          "hoverlabel": {
           "align": "left"
          },
          "hovermode": "closest",
          "mapbox": {
           "style": "light"
          },
          "paper_bgcolor": "white",
          "plot_bgcolor": "#E5ECF6",
          "polar": {
           "angularaxis": {
            "gridcolor": "white",
            "linecolor": "white",
            "ticks": ""
           },
           "bgcolor": "#E5ECF6",
           "radialaxis": {
            "gridcolor": "white",
            "linecolor": "white",
            "ticks": ""
           }
          },
          "scene": {
           "xaxis": {
            "backgroundcolor": "#E5ECF6",
            "gridcolor": "white",
            "gridwidth": 2,
            "linecolor": "white",
            "showbackground": true,
            "ticks": "",
            "zerolinecolor": "white"
           },
           "yaxis": {
            "backgroundcolor": "#E5ECF6",
            "gridcolor": "white",
            "gridwidth": 2,
            "linecolor": "white",
            "showbackground": true,
            "ticks": "",
            "zerolinecolor": "white"
           },
           "zaxis": {
            "backgroundcolor": "#E5ECF6",
            "gridcolor": "white",
            "gridwidth": 2,
            "linecolor": "white",
            "showbackground": true,
            "ticks": "",
            "zerolinecolor": "white"
           }
          },
          "shapedefaults": {
           "line": {
            "color": "#2a3f5f"
           }
          },
          "ternary": {
           "aaxis": {
            "gridcolor": "white",
            "linecolor": "white",
            "ticks": ""
           },
           "baxis": {
            "gridcolor": "white",
            "linecolor": "white",
            "ticks": ""
           },
           "bgcolor": "#E5ECF6",
           "caxis": {
            "gridcolor": "white",
            "linecolor": "white",
            "ticks": ""
           }
          },
          "title": {
           "x": 0.05
          },
          "xaxis": {
           "automargin": true,
           "gridcolor": "white",
           "linecolor": "white",
           "ticks": "",
           "title": {
            "standoff": 15
           },
           "zerolinecolor": "white",
           "zerolinewidth": 2
          },
          "yaxis": {
           "automargin": true,
           "gridcolor": "white",
           "linecolor": "white",
           "ticks": "",
           "title": {
            "standoff": 15
           },
           "zerolinecolor": "white",
           "zerolinewidth": 2
          }
         }
        },
        "title": {
         "text": "Peso vs. Defesa"
        },
        "xaxis": {
         "anchor": "y",
         "domain": [
          0,
          1
         ],
         "title": {
          "text": "weight_kilograms"
         }
        },
        "yaxis": {
         "anchor": "x",
         "domain": [
          0,
          1
         ],
         "title": {
          "text": "Defense"
         }
        }
       }
      }
     },
     "metadata": {},
     "output_type": "display_data"
    }
   ],
   "source": [
    "weight_defense\n",
    "\n",
    "# Visualizando a imagem, além da relação com peso, podemos ver uma relação com tipos, Rock, Ground, Steel e Bug como destaque"
   ]
  },
  {
   "cell_type": "code",
   "execution_count": 57,
   "id": "b070816c",
   "metadata": {},
   "outputs": [],
   "source": [
    "# Visualizando a relação peso x ataque, \n",
    "weight_attack = px.scatter(\n",
    "    df, \n",
    "    x=\"weight_kilograms\", \n",
    "    y=\"Attack\", \n",
    "    color=\"Type 1\",\n",
    "    trendline=\"lowess\", # ative essa linha caso queira ver a trendline\n",
    "    title=\"Peso vs. Ataque\")"
   ]
  },
  {
   "cell_type": "markdown",
   "id": "8ff824bb",
   "metadata": {},
   "source": [
    "## Relação Peso x Ataque"
   ]
  },
  {
   "cell_type": "code",
   "execution_count": 58,
   "id": "93f90ad4",
   "metadata": {},
   "outputs": [
    {
     "data": {
      "application/vnd.plotly.v1+json": {
       "config": {
        "plotlyServerURL": "https://plot.ly"
       },
       "data": [
        {
         "hovertemplate": "Type 1=Grass<br>weight_kilograms=%{x}<br>Attack=%{y}<extra></extra>",
         "legendgroup": "Grass",
         "marker": {
          "color": "#636efa",
          "symbol": "circle"
         },
         "mode": "markers",
         "name": "Grass",
         "showlegend": true,
         "type": "scattergl",
         "x": {
          "bdata": "mpmZmZmZG0AAAAAAAAAqQAAAAAAAAFlAmpmZmZmZFUAzMzMzMzMhQJqZmZmZmTJAAAAAAAAAEECamZmZmZkZQAAAAAAAAC9AAAAAAAAABEAAAAAAAABeQAAAAAAAgEFAmpmZmZmZGUCamZmZmZkvQAAAAAAAIFlAMzMzMzMzF0AAAAAAAADgPwAAAAAAAPA/AAAAAAAACEDNzMzMzMz8PwAAAAAAACFAAAAAAAAAFECamZmZmZk1QJqZmZmZGUpAAAAAAAAAEEAAAAAAAAA8QM3MzMzMzE1AAAAAAAAAEkCamZmZmZlDQAAAAAAAAABAZmZmZmamSUCamZmZmVlTQAAAAAAAAFlAZmZmZmZmJEAAAAAAAEBYQAAAAAAAYHNAMzMzMzMz8z8AAAAAAAAtQGZmZmZmZgpAmpmZmZmZIkAAAAAAAAA7QAAAAAAAQElAAAAAAADwYEAzMzMzMxNgQAAAAAAAgDlAzczMzMzMAEAzMzMzMzMgQAAAAAAAADBAAAAAAACAT0AAAAAAAAAlQAAAAAAAgD5AMzMzMzMz4z9mZmZmZmYaQGZmZmZmZhpAzczMzMxMMEAAAAAAAAA8QAAAAAAAAPA/AAAAAAAAJUDNzMzMzMwyQAAAAAAAgFtAAAAAAAAAaUAAAAAAAAAiQAAAAAAAAD1AAAAAAACAVkAAAAAAAAA/QAAAAAAAwFZAAAAAAAAA+D8AAAAAAAAwQM3MzMzMTEJAAAAAAAAA+D8AAAAAAIAyQAAAAAAAAPg/AAAAAAAAJ0CamZmZmZkJQGZmZmZmZiBAZmZmZmZmNUAAAAAAAMBGQJqZmZmZmbk/AAAAAAAAFEAAAAAAAAAsQAAAAAAAgFZAmpmZmZmZAUAAAAAAAAAEQAAAAAAAAOA/AAAAAAAA8D8AAAAAAAAqQGZmZmZmZhBAZmZmZmZmKEAzMzMzMzM/QAAAAAAAABpAzczMzMzMJ0CamZmZmRlIQDMzMzMzM+M/AAAAAAAAGEAAAAAAAAAIQAAAAAAAAC5AAAAAAAAANUAAAAAAAEBfQJqZmZmZmRFAmpmZmZmZ8T+amZmZmZkBQGZmZmZm5kNAAAAAAABAV0A=",
          "dtype": "f8"
         },
         "xaxis": "x",
         "y": {
          "bdata": "MQA+AFIAMgBBAFAASwBaAGkAKABfADcAMQA+AFIAUAAjAC0ANwAeAEsALQBBAFUAKABGAGQAKACCADwAVQBzAEQARABZAG0AHgBGACMAPABkAD4AXABkAG4AZAAtADwASwA1AGIAGwBDACMAPABWADcAVQAyAF4AWgA9AE4AawBBAGQANwBLAGsANwBpACMALQAeACgAeACCALUAQQBVAH0AKAAyACgAbgBVAD0AUABuACMANQBFAEEAcwA+AGwAfwCCAFAALQA8AHgAUAA=",
          "dtype": "i2"
         },
         "yaxis": "y"
        },
        {
         "hovertemplate": "<b>LOWESS trendline</b><br><br>Type 1=Grass<br>weight_kilograms=%{x}<br>Attack=%{y} <b>(trend)</b><extra></extra>",
         "legendgroup": "Grass",
         "marker": {
          "color": "#636efa",
          "symbol": "circle"
         },
         "mode": "lines",
         "name": "Grass",
         "showlegend": false,
         "type": "scattergl",
         "x": {
          "bdata": "mpmZmZmZuT8AAAAAAADgPwAAAAAAAOA/MzMzMzMz4z8zMzMzMzPjPwAAAAAAAPA/AAAAAAAA8D8AAAAAAADwP5qZmZmZmfE/MzMzMzMz8z8AAAAAAAD4PwAAAAAAAPg/AAAAAAAA+D/NzMzMzMz8PwAAAAAAAABAzczMzMzMAECamZmZmZkBQJqZmZmZmQFAAAAAAAAABEAAAAAAAAAEQAAAAAAAAAhAAAAAAAAACECamZmZmZkJQGZmZmZmZgpAAAAAAAAAEEAAAAAAAAAQQGZmZmZmZhBAmpmZmZmZEUAAAAAAAAASQAAAAAAAABRAAAAAAAAAFECamZmZmZkVQDMzMzMzMxdAAAAAAAAAGECamZmZmZkZQJqZmZmZmRlAAAAAAAAAGkBmZmZmZmYaQGZmZmZmZhpAmpmZmZmZG0AzMzMzMzMgQGZmZmZmZiBAAAAAAAAAIUAzMzMzMzMhQAAAAAAAACJAmpmZmZmZIkBmZmZmZmYkQAAAAAAAACVAAAAAAAAAJUAAAAAAAAAnQM3MzMzMzCdAZmZmZmZmKEAAAAAAAAAqQAAAAAAAACpAAAAAAAAALEAAAAAAAAAtQAAAAAAAAC5AAAAAAAAAL0CamZmZmZkvQAAAAAAAADBAAAAAAAAAMEDNzMzMzEwwQAAAAAAAgDJAmpmZmZmZMkDNzMzMzMwyQAAAAAAAADVAZmZmZmZmNUCamZmZmZk1QAAAAAAAgDlAAAAAAAAAO0AAAAAAAAA8QAAAAAAAADxAAAAAAAAAPUAAAAAAAIA+QAAAAAAAAD9AMzMzMzMzP0AAAAAAAIBBQM3MzMzMTEJAmpmZmZmZQ0BmZmZmZuZDQAAAAAAAwEZAmpmZmZkZSEAAAAAAAEBJQGZmZmZmpklAmpmZmZkZSkDNzMzMzMxNQAAAAAAAgE9AmpmZmZlZU0AAAAAAAIBWQAAAAAAAgFZAAAAAAADAVkAAAAAAAEBXQAAAAAAAQFhAAAAAAAAAWUAAAAAAAABZQAAAAAAAIFlAAAAAAACAW0AAAAAAAABeQAAAAAAAQF9AMzMzMzMTYEAAAAAAAPBgQAAAAAAAAGlAAAAAAABgc0A=",
          "dtype": "f8"
         },
         "xaxis": "x",
         "y": {
          "bdata": "9AwolUIpRkCJCyZigY9GQIkLJmKBj0ZAAqH+lw+pRkACof6XD6lGQMd33h9FD0dAx3feH0UPR0DHd94fRQ9HQGgT6UTSKEdABwwRel9CR0BuYHVACI9HQG5gdUAIj0dAbmB1QAiPR0B7fzJRtdtHQA9sz2HXDkhAwmy0ImooSECGm6k8/kFIQIabqTz+QUhAoYu6HsOOSEChi7oew45IQDKzKzvVDklAMrMrO9UOSUCpBe4SHEJJQKjrCULCW0lAlXXXE4sPSkCVddcTiw9KQAoOr6JEKUpA06rhAIR2SkCjhx0/SpBKQBTSijFaEUtAFNKKMVoRS0Dag6JO1HhLQO6xIUWA4EtAtXXbFGgUTEC0IMRIVHxMQLQgxEhUfExA218iblOWTEC/IQZhU7BMQL8hBmFTsExAGDqs/lP+TEABYqxQlzVOQKygMidoT05A7PuggqucTkC0qIivW7ZOQOx0jFq6HE9A4DPhCAlpT0A2RPLgYSVQQF6IsLhWSlBAXoiwuFZKUEBYLA7zi8ZQQBMUhGyt+1BAJnX0/X0kUUApu454lJFRQCm7jniUkVFA2DEZ+mcjUkATw4yDXm9SQKm1Q3otuVJAg5X0Ffr6UkAGm36/UxtTQEpFlLZALlNASkWUtkAuU0BnSzMQ7klTQCWMFT2kyVNAoDl/K0HPU0CUDzRmXdpTQOWdifVJVFRAb9U0XqdrVEBmpX5IMHhUQB1RDKApvFVA+i3O+Ys8VkCwrVZHjnFWQLCtVkeOcVZAu5NJ6GF/VkAW0kRnYXBWQJlWANesb1ZAcHaVzepvVkDpBhe1u1FWQLqpBc3/SlZAEavX7RNLVkCV4+q59ExWQCj5vbMPilZAAPAn1sC8VkD4rrSC0+9WQFv43AvtA1dAQBIGYsAUV0D6OSIoHBZXQN/Toe49/FZAZ/o0/TwWV0Dj7MXSl2xXQOPsxdKXbFdAz3vN2x1zV0BefGsY9n9XQJ9t8eG3mFdASQzpVmyqV0BJDOlWbKpXQJ0B3FlNrVdAesTWYiPaV0BT5cV64+JXQDSoPzzL4FdA+wgoDFrfV0AaLyAeNt5XQKzr0KO/vFhAr/QMQ7Z9WkA=",
          "dtype": "f8"
         },
         "yaxis": "y"
        },
        {
         "hovertemplate": "Type 1=Fire<br>weight_kilograms=%{x}<br>Attack=%{y}<extra></extra>",
         "legendgroup": "Fire",
         "marker": {
          "color": "#EF553B",
          "symbol": "circle"
         },
         "mode": "markers",
         "name": "Fire",
         "showlegend": true,
         "type": "scattergl",
         "x": {
          "bdata": "AAAAAAAAIUAAAAAAAAAzQAAAAAAAoFZAzczMzMzMI0BmZmZmZuYzQAAAAAAAADNAAAAAAABgY0AAAAAAAAA+QAAAAAAAwFdAAAAAAABARkAAAAAAAAA5QAAAAAAAAE5AmpmZmZmZH0AAAAAAAAAzQAAAAAAA4FNAAAAAAACAQUAAAAAAAIBLQGZmZmZmZjVAAAAAAADAaEAAAAAAAOBoQAAAAAAAAARAAAAAAACAM0AAAAAAAABKQAAAAAAAADhAAAAAAACAa0CamZmZmRlUQM3MzMzMzBhAAAAAAAAANkAAAAAAAIBLQAAAAAAAAFFAAAAAAADgekDNzMzMzMwjQAAAAAAAwEtAAAAAAADAYkAAAAAAAAAmQAAAAAAAADxAAAAAAADAQkCamZmZmTlXQAAAAAAAAE1AzczMzMzMIkAAAAAAAAAtQAAAAAAAgENAAAAAAAAAMEAAAAAAAIA4QAAAAAAAACtAAAAAAABgVEAAAAAAAGBoQDMzMzMzMxFAAAAAAAAAOUAAAAAAAMBUQDMzMzMzMwtAAAAAAACAakAAAAAAAAAqQAAAAAAAABJAAAAAAAAAIkAAAAAAAIBAQAAAAAAAAPA/AAAAAAAAXkCamZmZmZkjQDMzMzMzsz5AAAAAAABodEAAAAAAAAAlQAAAAAAAQFVAAAAAAAAAT0AAAAAAAABCQAAAAAAAcIJA",
          "dtype": "f8"
         },
         "xaxis": "x",
         "y": {
          "bdata": "NABAAFQAKQBMAEYAbgBVAGQAXwCCAGQANABAAFQAKAAyAEsAcwCCADwAVQB4ADwAZABVADoATgBoAF8AWgA/AF0AewA1AGIAWgCMAGEALQA7AEUASQBRADIARABuAEEAVQBzAEYATgB/AEcAVgB0AEEAcwAtADcASwAyADwAfQBGAHMA",
          "dtype": "i2"
         },
         "yaxis": "y"
        },
        {
         "hovertemplate": "<b>LOWESS trendline</b><br><br>Type 1=Fire<br>weight_kilograms=%{x}<br>Attack=%{y} <b>(trend)</b><extra></extra>",
         "legendgroup": "Fire",
         "marker": {
          "color": "#EF553B",
          "symbol": "circle"
         },
         "mode": "lines",
         "name": "Fire",
         "showlegend": false,
         "type": "scattergl",
         "x": {
          "bdata": "AAAAAAAA8D8AAAAAAAAEQDMzMzMzMwtAMzMzMzMzEUAAAAAAAAASQM3MzMzMzBhAmpmZmZmZH0AAAAAAAAAhQAAAAAAAACJAzczMzMzMIkCamZmZmZkjQM3MzMzMzCNAzczMzMzMI0AAAAAAAAAlQAAAAAAAACZAAAAAAAAAKkAAAAAAAAArQAAAAAAAAC1AAAAAAAAAMEAAAAAAAAAzQAAAAAAAADNAAAAAAAAAM0AAAAAAAIAzQGZmZmZm5jNAZmZmZmZmNUAAAAAAAAA2QAAAAAAAADhAAAAAAACAOEAAAAAAAAA5QAAAAAAAADlAAAAAAAAAPEAAAAAAAAA+QDMzMzMzsz5AAAAAAACAQEAAAAAAAIBBQAAAAAAAAEJAAAAAAADAQkAAAAAAAIBDQAAAAAAAQEZAAAAAAAAASkAAAAAAAIBLQAAAAAAAgEtAAAAAAADAS0AAAAAAAABNQAAAAAAAAE5AAAAAAAAAT0AAAAAAAABRQAAAAAAA4FNAmpmZmZkZVEAAAAAAAGBUQAAAAAAAwFRAAAAAAABAVUAAAAAAAKBWQJqZmZmZOVdAAAAAAADAV0AAAAAAAABeQAAAAAAAwGJAAAAAAABgY0AAAAAAAGBoQAAAAAAAwGhAAAAAAADgaEAAAAAAAIBqQAAAAAAAgGtAAAAAAABodEAAAAAAAOB6QAAAAAAAcIJA",
          "dtype": "f8"
         },
         "xaxis": "x",
         "y": {
          "bdata": "J5dxefloS0DeVNxmzv9LQAkk9BTkWkxABrNi31u2TEBxQEHvuspMQMrTiTFWeE1Aq0M7LysmTkB8uuYxa2NOQBoSsNdglk5Adq2WSRS/TkDG5b+wtedOQPPl2u/a8U5A8+Xa79rxTkCzhtxdni5PQH+C2LcaYU9AT3QcPtAUUEDAiylytC1QQDyp6odMX1BAnUYR31SpUEBAghb+dD1RQECCFv50PVFAQIIW/nQ9UUD6bBpzZFZRQHx5JD9yalFAoocBRdK2UUBaqnjOD9ZRQM9+GqxNQlJA30QS649eUkDt0gUdXHtSQO3SBR1ce1JA+rtOVMgvU0AHq6K/RqNTQFAeeCZEyVNAczBKXQ86VEAWRG1C4ZNUQG4YmioVw1RA9amITqwLVUBXlP0SWVFVQCkVbn8RQlZAcmBLfeeZVkDBUGXi4olWQMFQZeLiiVZAiXopyOqJVkBFoJwiLZVWQGjcOrjvp1ZAt6ZWTLG/VkCB0ADVwhRXQKdJiiHF3ldAwRAnN9DtV0CCo3u4cwBYQFsRh18nG1hAcnt8rqE2WEA6Cj0NPaFYQI/hXa1Fz1hA8kdNRDv2WEDFX9NZ7ktaQJgBittbW1pAWhMFALttWkBdmmnlBZtaQLjHfGMjg1pA6dW8N9x6WkDtw0dgVgxaQLBTwoyLy1lAIHSa4gunV0DwrOxpovlYQEI2VE4Fk1lA",
          "dtype": "f8"
         },
         "yaxis": "y"
        },
        {
         "hovertemplate": "Type 1=Water<br>weight_kilograms=%{x}<br>Attack=%{y}<extra></extra>",
         "legendgroup": "Water",
         "marker": {
          "color": "#00cc96",
          "symbol": "circle"
         },
         "mode": "markers",
         "name": "Water",
         "showlegend": true,
         "type": "scattergl",
         "x": {
          "bdata": "AAAAAAAAIkAAAAAAAIA2QAAAAAAAYFVAmpmZmZmZM0BmZmZmZiZTQM3MzMzMzChAAAAAAAAANEAAAAAAAABLQAAAAAAAwEZAAAAAAACAS0AAAAAAAABCQAAAAAAAoFNAAAAAAACAVkAAAAAAAABeQAAAAAAAABBAAAAAAACQYEAAAAAAAAAaQAAAAAAAAE5AAAAAAAAAIEAAAAAAAAA5QAAAAAAAAC5AAAAAAACAQ0AAAAAAAEBBQAAAAAAAAFRAAAAAAAAAJEAAAAAAAGBtQAAAAAAAgGtAAAAAAAAAPUAAAAAAAAAjQAAAAAAAADlAMzMzMzMzVkAAAAAAAAAoQAAAAAAAgDZAAAAAAAAAIUAAAAAAAIA8QDMzMzMz80BAAAAAAAAAIUAAAAAAAMBSQAAAAAAA4FNAMzMzMzMzD0AAAAAAAAAUQAAAAAAAAChAAAAAAACAPEAAAAAAAIBrQAAAAAAAAGNAAAAAAABgZ0BmZmZmZmYeQAAAAAAAADxAmpmZmZl5VEDNzMzMzMwEQAAAAAAAQEBAAAAAAACAS0AAAAAAAAAjQAAAAAAAADxAzczMzMzMNEAzMzMzMzNWQAAAAAAAQGBAAAAAAADgeEBmZmZmZmb+P5qZmZmZmTdAAAAAAAAAJ0BmZmZmZmZAQJqZmZmZmR1AAAAAAABAZEAAAAAAAEBKQAAAAAAAADtAmpmZmZmZNkBmZmZmZmY3QGZmZmZmZiFAAAAAAAAAdkDNzMzMzMwUQAAAAAAAADdAAAAAAAAgVUAAAAAAAIA9QAAAAAAAwEBAMzMzMzMzGUBmZmZmZuY9QAAAAAAAABxAAAAAAAAAOEAAAAAAAEBQQAAAAAAAAHVAzczMzMzMCEBmZmZmZmb2P5qZmZmZmRdAAAAAAACAOEBmZmZmZqZXQAAAAAAAACtAAAAAAAAAPUAAAAAAAAASQAAAAAAAADFAAAAAAAAAT0AAAAAAAAAyQAAAAAAAgDBAAAAAAABAVEAAAAAAAAAWQDMzMzMzMzhAAAAAAACAQEAAAAAAAOBgQJqZmZmZmT9AAAAAAABASEAAAAAAAAAcQM3MzMzMzCVAAAAAAAAARECamZmZmZkgQGZmZmZmpkFAAAAAAAAAHkAAAAAAAIAxQAAAAAAAAEZAMzMzMzMz0z8AAAAAAAAQQAAAAAAAgFRAMzMzMzMz8z8AAAAAAAAzQDMzMzMzMzVAAAAAAAAAEEAAAAAAAAAnQJqZmZmZmUZAAAAAAAAAIUAAAAAAAOBcQAAAAAAAAPA/AAAAAAAAPkAAAAAAAOBqQAAAAAAA4GVAAAAAAACAW0BmZmZmZmYYQAAAAAAAgDVAMzMzMzPzTkDNzMzMzMz8P5qZmZmZmRVAmpmZmZkZTkCamZmZmRlOQAAAAAAAgFZAAAAAAACAa0AAAAAAAIBxQA==",
          "dtype": "f8"
         },
         "xaxis": "x",
         "y": {
          "bdata": "MAA/AFMANABSADIAQQBfACgARgBBAEsALQBGAEEAXwBpAIIAKABBAEMAXAAtAEsACgB9AFUAQQBBAFAAaQAmADoAFAAyAEsALQBVAEsAXwA3AEEAaQAoAF8ASwBGAFUAbgAeADIARgAeADIAWgB4AEYAWgAwAE4AUAB4AA8APABAAGgAVABaAB4AZAAzAEIAVgBBAGkAMABTADEARQAUAHgAUABkADcASwBkADUAYgAyAEEAXwBcAE4AbAAsAFcAKAA8AEsASAA4AD8AXwA1AEkANgBFAEoAFAAoAEYAPABpAEsAKAA8AFUAQABzAD8AewBaAFoAcABBAFUAeAA3AGQALQBGAGYAZABTAA==",
          "dtype": "i2"
         },
         "yaxis": "y"
        },
        {
         "hovertemplate": "<b>LOWESS trendline</b><br><br>Type 1=Water<br>weight_kilograms=%{x}<br>Attack=%{y} <b>(trend)</b><extra></extra>",
         "legendgroup": "Water",
         "marker": {
          "color": "#00cc96",
          "symbol": "circle"
         },
         "mode": "lines",
         "name": "Water",
         "showlegend": false,
         "type": "scattergl",
         "x": {
          "bdata": "MzMzMzMz0z8AAAAAAADwPzMzMzMzM/M/ZmZmZmZm9j/NzMzMzMz8P2ZmZmZmZv4/zczMzMzMBEDNzMzMzMwIQDMzMzMzMw9AAAAAAAAAEEAAAAAAAAAQQAAAAAAAABBAAAAAAAAAEkAAAAAAAAAUQM3MzMzMzBRAmpmZmZmZFUAAAAAAAAAWQJqZmZmZmRdAZmZmZmZmGEAzMzMzMzMZQAAAAAAAABpAAAAAAAAAHEAAAAAAAAAcQJqZmZmZmR1AAAAAAAAAHkBmZmZmZmYeQAAAAAAAACBAmpmZmZmZIEAAAAAAAAAhQAAAAAAAACFAAAAAAAAAIUBmZmZmZmYhQAAAAAAAACJAAAAAAAAAI0AAAAAAAAAjQAAAAAAAACRAzczMzMzMJUAAAAAAAAAnQAAAAAAAACdAAAAAAAAAKEAAAAAAAAAoQM3MzMzMzChAAAAAAAAAK0AAAAAAAAAuQAAAAAAAgDBAAAAAAAAAMUAAAAAAAIAxQAAAAAAAADJAAAAAAAAAM0CamZmZmZkzQAAAAAAAADRAzczMzMzMNEAzMzMzMzM1QAAAAAAAgDVAAAAAAACANkAAAAAAAIA2QJqZmZmZmTZAAAAAAAAAN0BmZmZmZmY3QJqZmZmZmTdAAAAAAAAAOEAzMzMzMzM4QAAAAAAAgDhAAAAAAAAAOUAAAAAAAAA5QAAAAAAAADtAAAAAAAAAPEAAAAAAAAA8QAAAAAAAgDxAAAAAAACAPEAAAAAAAAA9QAAAAAAAAD1AAAAAAACAPUBmZmZmZuY9QAAAAAAAAD5AmpmZmZmZP0AAAAAAAEBAQGZmZmZmZkBAAAAAAACAQEAAAAAAAMBAQDMzMzMz80BAAAAAAABAQUBmZmZmZqZBQAAAAAAAAEJAAAAAAACAQ0AAAAAAAABEQAAAAAAAAEZAmpmZmZmZRkAAAAAAAMBGQAAAAAAAQEhAAAAAAABASkAAAAAAAABLQAAAAAAAgEtAAAAAAACAS0AAAAAAAABOQJqZmZmZGU5AmpmZmZkZTkAzMzMzM/NOQAAAAAAAAE9AAAAAAABAUEAAAAAAAMBSQGZmZmZmJlNAAAAAAACgU0AAAAAAAOBTQAAAAAAAAFRAAAAAAABAVECamZmZmXlUQAAAAAAAgFRAAAAAAAAgVUAAAAAAAGBVQDMzMzMzM1ZAMzMzMzMzVkAAAAAAAIBWQAAAAAAAgFZAZmZmZmamV0AAAAAAAIBbQAAAAAAA4FxAAAAAAAAAXkAAAAAAAEBgQAAAAAAAkGBAAAAAAADgYEAAAAAAAABjQAAAAAAAQGRAAAAAAADgZUAAAAAAAGBnQAAAAAAA4GpAAAAAAACAa0AAAAAAAIBrQAAAAAAAgGtAAAAAAABgbUAAAAAAAIBxQAAAAAAAAHVAAAAAAAAAdkAAAAAAAOB4QA==",
          "dtype": "f8"
         },
         "xaxis": "x",
         "y": {
          "bdata": "Rv4iFQGnR0DyDIoRyQlIQH59ivEEJkhA3OpZBkJCSECDYc9Zv3pIQBEI0TjfiEhAWd8eoMHrSECQihCwYzJJQIYKvdFfo0lAX0U2GX6xSUBfRTYZfrFJQF9FNhl+sUlA4Pno2Q74SUAbL3z0kD5KQGjAD8q/WkpAem2nJ+t2SkBmoU5u/4RKQHoYhw1GvUpAE/E6aWLZSkCxctGbefVKQMsZqzaLEUtAtEfmyJtXS0C0R+bIm1dLQF9dYMeIj0tAG3jNCH+dS0C+Gn4tc6tLQDwIi4At40tABXCNO+AMTEBIb1z5nyhMQEhvXPmfKExASG9c+Z8oTED9Z+EIVURMQF9eNeLPbUxAy5oJlLiyTEDLmgmUuLJMQDoI8LpW90xAFufrEBdyTUCNsRzYXsNNQI2xHNhew01A+AhmzMIGTkD4CGbMwgZOQF2j3hByPE5ADaNixQnPTkCzaJ06nZRPQEx4LWIALFBAlqSi3GZMUEDs4aRrwmxQQJbLlNcajVBA5i2+q+fNUEDNRKxg+PRQQC/1liAlD1FAGr8OKfhDUUAQCSDMtV5RQIlqKwr0clFAg3X+ePC3UUCDdf548LdRQBMNLkz9vlFApN/1Y2XZUUD+6syYcO1RQFhsFgk891FAoD4akjoKUkDo9BTMZxNSQLYdoxMEI1JAQAYS4Rg+UkBABhLhGD5SQG0M7zjnhVJA1K6jyy+iUkDUrqPLL6JSQGPX2YxtslJAY9fZjG2yUkC0j8CzWbtSQLSPwLNZu1JAvZxF813CUkAVHDwBqcZSQCpM8auSx1JALhg158bZUkA6F6Dg7t9SQD7rTtyE31JAYkoS3KHfUkC3/Psbid5SQD6qZNnz3VJA6i8DojPeUkD54kvuG+FSQAJ970/d5VJAlsm69/0HU0AO8ML4SRNTQPMh3PtPQlNA9QOrenxQU0B3kJcLjVNTQFnORmJ7elNA9sgxGK/BU0DbFVMRQOFTQEMOh7529lNAQw6Hvnb2U0Bh3ocJ+1tUQF6TbSj9X1RAXpNtKP1fVEB1jVisa4JUQDMLzlrPg1RA5tmL7w7EVEB+YNzCQn9VQDMImw/4jFVAvoxipziXVUAXDHri1ZpVQNolArRUnFVAqfjWCr+hVUCIGCAVnqNVQDYQvknOo1VAZY2AIsinVUBwn7S0RqlVQJBJoya7rVVAkEmjJrutVUA4T75KZq5VQDhPvkpmrlVA/VzDu3auVUDuYGEtCYtVQL+PLonJelVAGd940ERuVUD70kFLdl9VQEbc5eAlY1VAYJzMF15pVUBbGchxpKdVQI8Ia4VlxVVAr2t5/xXbVUCdi/hU5O5VQG6WZeuLk1ZADMGQ1AWxVkAMwZDUBbFWQAzBkNQFsVZAuU6TIyL2VkCN/AubEodXQPjlv0OYQVhAbwsD7oJ8WEAog0FQTCtZQA==",
          "dtype": "f8"
         },
         "yaxis": "y"
        },
        {
         "hovertemplate": "Type 1=Bug<br>weight_kilograms=%{x}<br>Attack=%{y}<extra></extra>",
         "legendgroup": "Bug",
         "marker": {
          "color": "#ab63fa",
          "symbol": "circle"
         },
         "mode": "markers",
         "name": "Bug",
         "showlegend": true,
         "type": "scattergl",
         "x": {
          "bdata": "MzMzMzMzB0DNzMzMzMwjQAAAAAAAAEBAmpmZmZmZCUAAAAAAAAAkQAAAAAAAgD1AmpmZmZmZFUAAAAAAAIA9QAAAAAAAAD5AAAAAAAAAKUAAAAAAAABMQAAAAAAAgEtAmpmZmZmZJUDNzMzMzMxBQAAAAAAAACFAAAAAAADAQEAAAAAAAABDQM3MzMzMzBxAMzMzMzNzX0AAAAAAAIBdQAAAAAAAgDRAAAAAAAAAS0DNzMzMzMwMQAAAAAAAACRAZmZmZmZmPEAAAAAAAAAnQJqZmZmZmT9AMzMzMzMz+z/NzMzMzMwMQAAAAAAAABZAAAAAAAAAKEAzMzMzMzPzPzMzMzMzszFAMzMzMzOzMUCamZmZmZkBQAAAAAAAgDlAMzMzMzMzC0AAAAAAAAAaQM3MzMzMTDdAAAAAAAAAFkAAAAAAAEBDQAAAAAAAwElAAAAAAAAABEAzMzMzMzMdQAAAAAAAgDRAMzMzMzMzFUAAAAAAAEBNQAAAAAAAEGlAAAAAAAAALUAAAAAAAABpQJqZmZmZmRdAAAAAAACAQEAzMzMzMzPjP5qZmZmZmSxAzczMzMzMHkDNzMzMzEw5QAAAAAAAgEBAzczMzMzMPEAAAAAAAABHQAAAAAAAoFRAAAAAAAAABEDNzMzMzMwgQAAAAAAAADFAmpmZmZmZEUAAAAAAAAAlQAAAAAAAgEZAmpmZmZmZyT8AAAAAAADgPwAAAAAAAChAAAAAAAAAW0CamZmZmdl0QAAAAAAAADlAAAAAAAAAIEAAAAAAAIAzQGZmZmZmZkRAAAAAAABAVkAAAAAAAAAQQAAAAAAAgDBAAAAAAAAA8D8AAAAAAIAxQAAAAAAAAPA/AAAAAAAADEAAAAAAAABXQA==",
          "dtype": "f8"
         },
         "xaxis": "x",
         "y": {
          "bdata": "HgAUAC0AIwAZAFoARgBfADcAQQBuAH0AFAAjADwAWgBBAEEAWgCCAAoAfQAtACMARgAjADIAHgA8AC0AWgBaAEkALwAZAFUAHQA7AF4AHgBQAEwANQA/AGcALQA3AGQAQQBpAEsAhwAvAE0AKABGAG0AVQA8AHgAIwAWADQAPgBSAEYALQA3ACMAfQCLAIkAFAAjAC0AhwApAE8ALgBmADIAMgCHAA==",
          "dtype": "i2"
         },
         "yaxis": "y"
        },
        {
         "hovertemplate": "<b>LOWESS trendline</b><br><br>Type 1=Bug<br>weight_kilograms=%{x}<br>Attack=%{y} <b>(trend)</b><extra></extra>",
         "legendgroup": "Bug",
         "marker": {
          "color": "#ab63fa",
          "symbol": "circle"
         },
         "mode": "lines",
         "name": "Bug",
         "showlegend": false,
         "type": "scattergl",
         "x": {
          "bdata": "mpmZmZmZyT8AAAAAAADgPzMzMzMzM+M/AAAAAAAA8D8AAAAAAADwPzMzMzMzM/M/MzMzMzMz+z+amZmZmZkBQAAAAAAAAARAAAAAAAAABEAzMzMzMzMHQJqZmZmZmQlAMzMzMzMzC0AAAAAAAAAMQM3MzMzMzAxAzczMzMzMDEAAAAAAAAAQQJqZmZmZmRFAMzMzMzMzFUCamZmZmZkVQAAAAAAAABZAAAAAAAAAFkCamZmZmZkXQAAAAAAAABpAzczMzMzMHEAzMzMzMzMdQM3MzMzMzB5AAAAAAAAAIEDNzMzMzMwgQAAAAAAAACFAzczMzMzMI0AAAAAAAAAkQAAAAAAAACRAAAAAAAAAJUCamZmZmZklQAAAAAAAACdAAAAAAAAAKEAAAAAAAAAoQAAAAAAAAClAmpmZmZmZLEAAAAAAAAAtQAAAAAAAgDBAAAAAAAAAMUAAAAAAAIAxQDMzMzMzszFAMzMzMzOzMUAAAAAAAIAzQAAAAAAAgDRAAAAAAACANEDNzMzMzEw3QAAAAAAAADlAzczMzMxMOUAAAAAAAIA5QGZmZmZmZjxAzczMzMzMPEAAAAAAAIA9QAAAAAAAgD1AAAAAAAAAPkCamZmZmZk/QAAAAAAAAEBAAAAAAACAQEAAAAAAAIBAQAAAAAAAwEBAzczMzMzMQUAAAAAAAABDQAAAAAAAQENAZmZmZmZmREAAAAAAAIBGQAAAAAAAAEdAAAAAAADASUAAAAAAAABLQAAAAAAAgEtAAAAAAAAATEAAAAAAAEBNQAAAAAAAoFRAAAAAAABAVkAAAAAAAABXQAAAAAAAAFtAAAAAAACAXUAzMzMzM3NfQAAAAAAAAGlAAAAAAAAQaUCamZmZmdl0QA==",
          "dtype": "f8"
         },
         "xaxis": "x",
         "y": {
          "bdata": "VXPt8OIXRUA8QbO0Rz1FQJfJdfDRSUVAQ/qvnFx8RUBD+q+cXHxFQJNRbubclUVAwbOW2EfWRUDytJoFnhdGQGxCBsU/P0ZAbEIGxT8/RkAe51Ebl3RGQLe3ua/4nEZAnictuRK4RkCIfJ3XrcVGQFqfWX9S00ZAWp9Zf1LTRkA7x/ZORgpHQITtAIjZQUdAKqGdykbBR0DClNohpc9HQGAVmnsO3kdAYBWaew7eR0An/D88IxhIQO8Jy6eXcEhAYHX3iNfZSEBfYkf9DulIQKc9wUNfJklAOfZvCtFUSUAjF23xVpNJQOFCKIYTo0lAflUbjeuDSkCv0+uST5RKQK/T65JPlEpA3VeW3vrmSkAVc7BnNxlLQAdoqrSkkEtApDT13U3oS0CkNPXdTehLQIb3DpCOQkxAeBYJsdyoTUC3ejjxFtVNQAA5c2cz1k9AZy8n9ysdUEA8vzBZU1VQQCKXc+R9aFBAIpdz5H1oUEAMJXjHstRQQIqID8alF1FAiogPxqUXUUDDCnsVzKVRQGfihrRq2lFAXRzitrHgUUAA91CnYORRQMzl6NRh+1FAfKaATIz8UUD/k9MtWQZSQP+T0y1ZBlJASl21qLoOUkAN/+hwQitSQJaz5QaZN1JAZvVh2VdmUkBm9WHZV2ZSQNG/iQu1glJAlQSaRJH/UkD4/Vn14X9TQIRiiWpUmFNA/W+lCSABVEACkmQkFqxUQBKMeMAR1lRA+SIg43oPVkDHx2rN2tVWQOWVgYkoJVdAwvPOmPByV0AYHu9x3SlYQKD4gdP0e1tAMWAoN+UiXEB9M1Tif3lcQGwarMQcSl5A9VlTXX0+XUAbni0xXndcQOsmDv19olxAKBgotfKnXECNObPWKk9gQA==",
          "dtype": "f8"
         },
         "yaxis": "y"
        },
        {
         "hovertemplate": "Type 1=Normal<br>weight_kilograms=%{x}<br>Attack=%{y}<extra></extra>",
         "legendgroup": "Normal",
         "marker": {
          "color": "#FFA15A",
          "symbol": "circle"
         },
         "mode": "markers",
         "name": "Normal",
         "showlegend": true,
         "type": "scattergl",
         "x": {
          "bdata": "zczMzMzM/D8AAAAAAAA+QAAAAAAAwENAAAAAAAAADEAAAAAAAIAyQAAAAAAAAABAAAAAAAAAQ0AAAAAAAAAWQAAAAAAAAChAzczMzMzMEEAAAAAAAABAQAAAAAAAAC5AmpmZmZmZQ0DNzMzMzExVQAAAAAAAYFBAzczMzMxMQUAAAAAAAABUQJqZmZmZGVZAAAAAAAAAEEAAAAAAAAAaQAAAAAAAQEJAAAAAAADAfEAAAAAAAAAYQAAAAAAAQEBAMzMzMzMzNUBmZmZmZmZEQAAAAAAAAPA/AAAAAAAAJ0AAAAAAAMBEQAAAAAAAACxAmpmZmZmZIUAzMzMzM3NfQAAAAAAAQEBAzczMzMzMUUAAAAAAAABNQAAAAAAA4FJAZmZmZmZmR0AAAAAAAIAxQAAAAAAAQEBAZmZmZmZmAkDNzMzMzMwzQAAAAAAAADhAAAAAAABAR0AAAAAAAFBgQM3MzMzMTDBAAAAAAABAREAAAAAAAABVQAAAAAAAAABAAAAAAAAAJkDNzMzMzExAQAAAAAAAABRAMzMzMzMz8z9mZmZmZiZEQJqZmZmZmek/AAAAAAAANkAAAAAAAAAAQAAAAAAAAC9AZmZmZmbmOEAAAAAAAAA0QAAAAAAAgD9AzczMzMxMNEAAAAAAAAAWQGZmZmZmpkBAMzMzMzMzD0BmZmZmZuZFQGZmZmZmZjhAZmZmZmZm/j8AAAAAAEBaQAAAAAAAgGFAAAAAAAAAQUAAAAAAAEB6QAAAAAAAAHRAMzMzMzMzJ0AAAAAAAAA7QGZmZmZmZhBAZmZmZmZmLUAAAAAAAIBOQM3MzMzMzABAAAAAAAAALkAAAAAAAAA9QAAAAAAAAD9AMzMzMzMzF0AAAAAAAAAeQAAAAAAAgDNAAAAAAAAgV0BmZmZmZqZXQAAAAAAAACVAAAAAAACAREAAAAAAAAAaQAAAAAAAABRAMzMzMzMzRUAzMzMzMzP7PwAAAAAAADxAMzMzMzMz8z+amZmZmZktQAAAAAAAADpAAAAAAAAAGEBmZmZmZmYsQDMzMzMzMxtAAAAAAADgYEAAAAAAAABTQAAAAAAAIF5AAAAAAAAgWUBmZmZmZuYzQAAAAAAAIGdAAAAAAAAABEAAAAAAAAAYQAAAAAAAABhAAAAAAACARUBmZmZmZsZXQGZmZmZmZiRAAAAAAAAAXkDNzMzMzMz8P2ZmZmZmZgJAMzMzMzMzA0AAAAAAAABkQJqZmZmZmUNAAAAAAAAAGkA=",
          "dtype": "f8"
         },
         "xaxis": "x",
         "y": {
          "bdata": "LQA8AFAAOABRADwAWgAtAEYALQBGAFoAVQBuADcABQBfAGQAMAA3ADwAbgAuAEwAHgAyAB4ARgBQAEYAUACCAFAAXwAUAFAACgAeAEYANwBVADwAUACgADMARwBbABQALQBBADwAKABzAEYAWgA3AEsAeAAtAFUAZABCAEwANwBSAAUAQQBVAFUAUACgAHgANwBVADwAUABuADcATQBzADwAMgBfADwAZABuAFMAewBNACQAOAAyAFAASwBVAHgARgBuAEsAfQA8AF8AXwBzADwANwBfACgAUABpAC0AZAAyAEsAYABaAGQAQQA=",
          "dtype": "i2"
         },
         "yaxis": "y"
        },
        {
         "hovertemplate": "<b>LOWESS trendline</b><br><br>Type 1=Normal<br>weight_kilograms=%{x}<br>Attack=%{y} <b>(trend)</b><extra></extra>",
         "legendgroup": "Normal",
         "marker": {
          "color": "#FFA15A",
          "symbol": "circle"
         },
         "mode": "lines",
         "name": "Normal",
         "showlegend": false,
         "type": "scattergl",
         "x": {
          "bdata": "mpmZmZmZ6T8AAAAAAADwPzMzMzMzM/M/MzMzMzMz8z8zMzMzMzP7P83MzMzMzPw/zczMzMzM/D9mZmZmZmb+PwAAAAAAAABAAAAAAAAAAEAAAAAAAAAAQM3MzMzMzABAZmZmZmZmAkBmZmZmZmYCQDMzMzMzMwNAAAAAAAAABEAAAAAAAAAMQDMzMzMzMw9AAAAAAAAAEEBmZmZmZmYQQM3MzMzMzBBAAAAAAAAAFEAAAAAAAAAUQAAAAAAAABZAAAAAAAAAFkAzMzMzMzMXQAAAAAAAABhAAAAAAAAAGEAAAAAAAAAYQAAAAAAAABhAAAAAAAAAGkAAAAAAAAAaQAAAAAAAABpAMzMzMzMzG0AAAAAAAAAeQJqZmZmZmSFAZmZmZmZmJEAAAAAAAAAlQAAAAAAAACZAAAAAAAAAJ0AzMzMzMzMnQAAAAAAAAChAAAAAAAAALEBmZmZmZmYsQGZmZmZmZi1AmpmZmZmZLUAAAAAAAAAuQAAAAAAAAC5AAAAAAAAAL0DNzMzMzEwwQAAAAAAAgDFAAAAAAACAMkAAAAAAAIAzQM3MzMzMzDNAZmZmZmbmM0AAAAAAAAA0QM3MzMzMTDRAMzMzMzMzNUAAAAAAAAA2QAAAAAAAADhAZmZmZmZmOEBmZmZmZuY4QAAAAAAAADpAAAAAAAAAO0AAAAAAAAA8QAAAAAAAAD1AAAAAAAAAPkAAAAAAAAA/QAAAAAAAgD9AAAAAAAAAQEAAAAAAAEBAQAAAAAAAQEBAAAAAAABAQEDNzMzMzExAQGZmZmZmpkBAAAAAAAAAQUDNzMzMzExBQAAAAAAAQEJAAAAAAAAAQ0CamZmZmZlDQJqZmZmZmUNAAAAAAADAQ0BmZmZmZiZEQAAAAAAAQERAZmZmZmZmREAAAAAAAIBEQAAAAAAAwERAMzMzMzMzRUAAAAAAAIBFQGZmZmZm5kVAAAAAAABAR0BmZmZmZmZHQAAAAAAAAE1AAAAAAACATkAAAAAAAGBQQM3MzMzMzFFAAAAAAADgUkAAAAAAAABTQAAAAAAAAFRAAAAAAAAAVUDNzMzMzExVQJqZmZmZGVZAAAAAAAAgV0BmZmZmZqZXQGZmZmZmxldAAAAAAAAgWUAAAAAAAEBaQAAAAAAAAF5AAAAAAAAgXkAzMzMzM3NfQAAAAAAAUGBAAAAAAADgYEAAAAAAAIBhQAAAAAAAAGRAAAAAAAAgZ0AAAAAAAAB0QAAAAAAAQHpAAAAAAADAfEA=",
          "dtype": "f8"
         },
         "xaxis": "x",
         "y": {
          "bdata": "uaDObt0ES0DfbhfINCVLQA7XnIGARUtADtecgYBFS0A88DCBCZZLQHYdrLUbpktAdh2stRumS0CaCgbKKrZLQN5TC7s2xktA3lMLuzbGS0DeUwu7NsZLQIdCWoU/1ktAtOEmpUf2S0C04SalR/ZLQInzBftGBkxALV8rJkMWTECM5D6pZrVMQIj1L2+s9ExA495lpnQETUAyai4aORRNQDf0QcP5I01AbCGAI3ShTUBsIYAjdKFNQKrisw1h701AquKzDWHvTUBBiRYS8x1OQCqkQn/rPE5AKqRCf+s8TkAqpEJ/6zxOQCqkQn/rPE5A+Df2HRWKTkD4N/YdFYpOQPg39h0Vik5Axlm44jO4TkAFZPezTiNPQHUAVmlP6E9ADeHx28BcUEAq466T8nJQQBi8XpnAl1BA9APvYVC8UECuD1ejmMNQQAzebG+f4FBAFPXvZTxvUUAdRCVHRH1RQBB/sF4roFFAdz312h6nUUAoiIpj/rRRQCiIimP+tFFANpE6+4DXUUBJ5IQfLA5SQGoLrOjSXlJAA/qxyRKgUkDxa2ArG65SQL5GlV/lrVJAG7ow7OitUkAGIlXg+K1SQOZci3K8s1JAzBUcBzLFUkDyI9wVw89SQP9Z9oUl9FJAoigiKGP7UkDwZlezmgVTQBJi/ehSGVNAhTlLN6MqU0CM/xF5WTtTQPhcCo10S1NA4MoNNu5aU0DNBo2rHWpTQJzjTKbzcFNAYxqcAEx5U0DHp+PuxYBTQMen4+7FgFNAx6fj7sWAU0Dq73Z/3YFTQARhdXV7iVNArXiytIuRU0CPEbYQB5lTQIRWC5H3sVNAr1vF8KvCU0A2nm1GL85TQDaebUYvzlNAsn/NgA7RU0Ab6fpbbthTQB60ILdh2lNA1Z1pSzXdU0AAhjsC/t5TQGL5p4D84lNAM91vmRHoU0D39dzrsOpTQPaVUzgq7VNAPOK7ScX2U0CAXcAtDflTQNQIqtnjHFVAN0Gkp7ZtVUBziazHw9FVQL7mYXyCPlZAGOLdxTeYVkDnZ6+yr6NWQCsKwWUF/1ZAp4ScoMNVV0Bi5aLtXW5XQCnUbmLvrldA/MfmAc31V0AJHFWQ1BVYQEJ2FmcoHVhAWtuEhI5nWECbkEilSJVYQLUq3I0F4FhA7tFckNzhWEBkXV8Su/VYQBlRle+RCFlAjGZdQMkbWUCiJMNZAjJZQBEmZfiJhFlA70aevCPOWUBkewxqF7hdQB1Iv0vSDGBAk5XtE8ySYEA=",
          "dtype": "f8"
         },
         "yaxis": "y"
        },
        {
         "hovertemplate": "Type 1=Poison<br>weight_kilograms=%{x}<br>Attack=%{y}<extra></extra>",
         "legendgroup": "Poison",
         "marker": {
          "color": "#19d3f3",
          "symbol": "circle"
         },
         "mode": "markers",
         "name": "Poison",
         "showlegend": true,
         "type": "scattergl",
         "x": {
          "bdata": "mpmZmZmZG0AAAAAAAEBQQAAAAAAAABxAAAAAAAAANEAAAAAAAABOQAAAAAAAACJAAAAAAACAM0AAAAAAAABPQAAAAAAAAB5AAAAAAACAS0AAAAAAAAA+QAAAAAAAAD5AAAAAAAAA8D8AAAAAAAAjQAAAAAAAwFJAmpmZmZmZJEAAAAAAAABUQAAAAAAAQEpAMzMzMzMzM0AAAAAAAABDQAAAAAAAAChAAAAAAADATkAAAAAAAAA3QDMzMzMzM0ZAAAAAAAAAP0AzMzMzM9NaQDMzMzMzMx1AAAAAAABgVEAAAAAAAAAgQAAAAAAAAC1AMzMzMzMzE0AzMzMzMzM2QM3MzMzMzPw/AAAAAADAYkAAAAAAALCNQGZmZmZmZuY/MzMzMzMzO0AAAAAAAOBrQM3MzMzMDFdAZmZmZmZmKECamZmZmRk+QDMzMzMzM9M/",
          "dtype": "f8"
         },
         "xaxis": "x",
         "y": {
          "bdata": "PABfAC8APgBcADkASABmAC0AUABQAGkAQQBaAFoAKwBJAGQAPwBdADIAWgA9AGoAMgBfADwASwA1AD8ALABAAEkASQBVAEEAXwBLAIAASwBbAFgA",
          "dtype": "i2"
         },
         "yaxis": "y"
        },
        {
         "hovertemplate": "<b>LOWESS trendline</b><br><br>Type 1=Poison<br>weight_kilograms=%{x}<br>Attack=%{y} <b>(trend)</b><extra></extra>",
         "legendgroup": "Poison",
         "marker": {
          "color": "#19d3f3",
          "symbol": "circle"
         },
         "mode": "lines",
         "name": "Poison",
         "showlegend": false,
         "type": "scattergl",
         "x": {
          "bdata": "MzMzMzMz0z9mZmZmZmbmPwAAAAAAAPA/zczMzMzM/D8zMzMzMzMTQJqZmZmZmRtAAAAAAAAAHEAzMzMzMzMdQAAAAAAAAB5AAAAAAAAAIEAAAAAAAAAiQAAAAAAAACNAmpmZmZmZJEAAAAAAAAAoQGZmZmZmZihAAAAAAAAALUAzMzMzMzMzQAAAAAAAgDNAAAAAAAAANEAzMzMzMzM2QAAAAAAAADdAMzMzMzMzO0AAAAAAAAA+QAAAAAAAAD5AmpmZmZkZPkAAAAAAAAA/QAAAAAAAAENAMzMzMzMzRkAAAAAAAEBKQAAAAAAAgEtAAAAAAAAATkAAAAAAAMBOQAAAAAAAAE9AAAAAAABAUEAAAAAAAMBSQAAAAAAAAFRAAAAAAABgVEDNzMzMzAxXQDMzMzMz01pAAAAAAADAYkAAAAAAAOBrQAAAAAAAsI1A",
          "dtype": "f8"
         },
         "xaxis": "x",
         "y": {
          "bdata": "VmnFljEeTUCdahoyOCpNQKaVS2qqM01ARArwe59OTUBXvHZndchNQDeuZR+KLU5A+VIHDZ8yTkCUTbd7AEJOQNsQlhdeTE5Au9VKR6xmTkA5GPNHB51OQDBQc0EmuU5AkjVxOJznTkCqQ9UXglFPQKUuH2TAXk9AgZrCFSoEUEBNRa9fSRVRQBLQgnL2MVFAMlIfgtBgUUAKYpG9/CRSQI0R2NkWaVJAan4rGibeU0DcGvT0DrpUQNwa9PQOulRANrmNNDK/VECPdgrtSupUQNimrOKJsVVAmWaw9JArVkAqOoV1m2VWQO/YmwNGX1ZA1Qt0VYJoVkBBubIIbWtWQFY4wvu+bFZA77tdz8d3VkAqjXWWq6NWQJ3kN01ysVZAlEXuS5CmVkB8a2v7rypWQBB6ox6HSFVAIEbfE0QiVEB06I/rpjVSQAPk6gG6OFVA",
          "dtype": "f8"
         },
         "yaxis": "y"
        },
        {
         "hovertemplate": "Type 1=Electric<br>weight_kilograms=%{x}<br>Attack=%{y}<extra></extra>",
         "legendgroup": "Electric",
         "marker": {
          "color": "#FF6692",
          "symbol": "circle"
         },
         "mode": "markers",
         "name": "Electric",
         "showlegend": true,
         "type": "scattergl",
         "x": {
          "bdata": "AAAAAAAAGEAAAAAAAAA1QAAAAAAAABhAAAAAAAAATkDNzMzMzMwkQGZmZmZmplBAAAAAAAAAPkAAAAAAAIA4QM3MzMzMTEpAAAAAAAAAAEAzMzMzMzMfQJqZmZmZmSpAAAAAAADATkAAAAAAAIA3QAAAAAAAQGZAZmZmZmZmLkCamZmZmRlEQM3MzMzMzBBAzczMzMzMEEAAAAAAAAAjQAAAAAAAgD5AAAAAAAAARUAzMzMzMzMPQAAAAAAAgGZAMzMzMzNTYUAzMzMzMzPTP83MzMzMzD1AAAAAAADgU0AAAAAAAAAUQDMzMzMzM9M/AAAAAAAANkAAAAAAACBUQAAAAAAAgE5AAAAAAAAAGEAAAAAAAAA1QJqZmZmZmQFAZmZmZmZmCkAAAAAAAIA0QAAAAAAAAFlAAAAAAABARkAAAAAAAAArQAAAAAAAAEFAAAAAAAAAJkAAAAAAAABEQAAAAAAAAPA/AAAAAAAACEAAAAAAAMBnQAAAAAAAwGJAAAAAAAAgYkAAAAAAAAAEQAAAAAAAABpAAAAAAACARECamZmZmZnZPwAAAAAAQFxAzczMzMzMDEDNzMzMzExDQAAAAAAAAE5AAAAAAAAAbkAAAAAAAAB+QA==",
          "dtype": "f8"
         },
         "xaxis": "x",
         "y": {
          "bdata": "N1ojPB4yU0FaKCg3Sz9VLUsyKEFVeC1GezI8ZEs3VXNzJjc6YnNZcC1aJmJlX2RkZDJLcx9AKEZRVUk=",
          "dtype": "i1"
         },
         "yaxis": "y"
        },
        {
         "hovertemplate": "<b>LOWESS trendline</b><br><br>Type 1=Electric<br>weight_kilograms=%{x}<br>Attack=%{y} <b>(trend)</b><extra></extra>",
         "legendgroup": "Electric",
         "marker": {
          "color": "#FF6692",
          "symbol": "circle"
         },
         "mode": "lines",
         "name": "Electric",
         "showlegend": false,
         "type": "scattergl",
         "x": {
          "bdata": "MzMzMzMz0z8zMzMzMzPTP5qZmZmZmdk/AAAAAAAA8D8AAAAAAAAAQJqZmZmZmQFAAAAAAAAABEAAAAAAAAAIQGZmZmZmZgpAzczMzMzMDEAzMzMzMzMPQM3MzMzMzBBAzczMzMzMEEAAAAAAAAAUQAAAAAAAABhAAAAAAAAAGEAAAAAAAAAYQAAAAAAAABpAMzMzMzMzH0AAAAAAAAAjQM3MzMzMzCRAAAAAAAAAJkCamZmZmZkqQAAAAAAAACtAZmZmZmZmLkAAAAAAAIA0QAAAAAAAADVAAAAAAAAANUAAAAAAAAA2QAAAAAAAgDdAAAAAAACAOEDNzMzMzMw9QAAAAAAAAD5AAAAAAACAPkAAAAAAAABBQM3MzMzMTENAAAAAAAAARECamZmZmRlEQAAAAAAAgERAAAAAAAAARUAAAAAAAEBGQM3MzMzMTEpAAAAAAAAATkAAAAAAAABOQAAAAAAAgE5AAAAAAADATkBmZmZmZqZQQAAAAAAA4FNAAAAAAAAgVEAAAAAAAABZQAAAAAAAQFxAMzMzMzNTYUAAAAAAACBiQAAAAAAAwGJAAAAAAABAZkAAAAAAAIBmQAAAAAAAwGdAAAAAAAAAbkAAAAAAAAB+QA==",
          "dtype": "f8"
         },
         "xaxis": "x",
         "y": {
          "bdata": "qu/9nc4MSECq7/2dzgxIQB6j7e+iFkhAQxiURRBSSEBZ0RtU37ZIQAHkkF5Ny0hA+PyGxh3qSEDRAdxJ7R1JQMPw90NJPUlAk9OxCdlcSUCzpJxmm3xJQG9/LTuPnElAb38tO4+cSUByy32Kr/JJQFPsie0kYEpAU+yJ7SRgSkBT7IntJGBKQIZzV76Rl0pACJ5sZ6cpS0DnehwaV+xLQIEsEhK7VExAIPZHX7GaTEDTJWt9wahNQHIbTEZZwE1A++Tj6oyJTkCBITpgUItQQKbbV4pksVBApttXimSxUEAREStrrP1QQIqgWQzMe1FAmWw/7SLaUUBWcrdH8NdTQMvP5XJL6VNAN0Us6/ATVEDkeZCIMf9UQIS27HbNFVVAE8/PXY0VVUCt9iR34RVVQFnOZ8sSGFVAsul4JdMhVUC1BV0CijhVQOiVlk5e6VVA9r+63xZyVkD2v7rfFnJWQD/boXLqeVZA/BNACDd8VkDrNvQ5g2ZWQGotM10JH1ZAT+y4s5EqVkAHVVYR5S5XQGmdtyxS/1ZA4D21q63fVkBiTPwjvtZWQAIunuZg0FZAeUePL9uzVkBd95qHoLFWQB6P0gg2pVZACHXDo6hGVkA0LGVyQ0lSQA==",
          "dtype": "f8"
         },
         "yaxis": "y"
        },
        {
         "hovertemplate": "Type 1=Ground<br>weight_kilograms=%{x}<br>Attack=%{y}<extra></extra>",
         "legendgroup": "Ground",
         "marker": {
          "color": "#B6E880",
          "symbol": "circle"
         },
         "mode": "markers",
         "name": "Ground",
         "showlegend": true,
         "type": "scattergl",
         "x": {
          "bdata": "AAAAAAAAKEAAAAAAAIA9QJqZmZmZmek/ZmZmZmamQEAAAAAAAAAaQAAAAAAAAEFAAAAAAADAXEAAAAAAAABeQDMzMzMzM1BAAAAAAADAQEAAAAAAAABeQAAAAAAAAC5AmpmZmZmZLkAAAAAAAIBUQAAAAAAAgDVAAAAAAAAAW0AAAAAAALCNQAAAAAAAwEhAAAAAAADAckDNzMzMzKxxQAAAAAAAQEVAAAAAAAAAIUAzMzMzMzNEQGZmZmZmZi5AMzMzMzOzQEAzMzMzMxNYQAAAAAAAACZAAAAAAAAAV0AAAAAAAKB0QAAAAAAAAFFAAAAAAACAW0AAAAAAAMCMQGZmZmZmZh5AAAAAAABgUEBmZmZmZqZQQAAAAAAAIHJAAAAAAACAQEAAAAAAAABNQAAAAAAAAHRAAAAAAAAAbkA=",
          "dtype": "f8"
         },
         "xaxis": "x",
         "y": {
          "bdata": "SwBkADcAZAAyAFAAVQCCAEsAPAB4AGQARgBkACgARgCWAEgAcACMAF8AVQCHAEgAUgB1AEIASgB8AH0AZAB9ADkAawBfAIwAKABGAIMAcAA=",
          "dtype": "i2"
         },
         "yaxis": "y"
        },
        {
         "hovertemplate": "<b>LOWESS trendline</b><br><br>Type 1=Ground<br>weight_kilograms=%{x}<br>Attack=%{y} <b>(trend)</b><extra></extra>",
         "legendgroup": "Ground",
         "marker": {
          "color": "#B6E880",
          "symbol": "circle"
         },
         "mode": "lines",
         "name": "Ground",
         "showlegend": false,
         "type": "scattergl",
         "x": {
          "bdata": "mpmZmZmZ6T8AAAAAAAAaQGZmZmZmZh5AAAAAAAAAIUAAAAAAAAAmQAAAAAAAAChAAAAAAAAALkBmZmZmZmYuQJqZmZmZmS5AAAAAAACANUAAAAAAAIA9QAAAAAAAgEBAZmZmZmamQEAzMzMzM7NAQAAAAAAAwEBAAAAAAAAAQUAzMzMzMzNEQAAAAAAAQEVAAAAAAADASEAAAAAAAABNQDMzMzMzM1BAAAAAAABgUEBmZmZmZqZQQAAAAAAAAFFAAAAAAACAVEAAAAAAAABXQDMzMzMzE1hAAAAAAAAAW0AAAAAAAIBbQAAAAAAAwFxAAAAAAAAAXkAAAAAAAABeQAAAAAAAAG5AzczMzMyscUAAAAAAACByQAAAAAAAwHJAAAAAAAAAdEAAAAAAAKB0QAAAAAAAwIxAAAAAAACwjUA=",
          "dtype": "f8"
         },
         "xaxis": "x",
         "y": {
          "bdata": "xapl5RROT0Bnlp6qNWZQQGMhnDLFilBA9tDOn52oUEAioRIeQ/tQQDLXe287HFFAbVBtKut+UUDpSZvrfIVRQLuE5LHFiFFAzsAdqJxTUkDfGVYLfVVTQJeo4I2fxFNA4OaFFBbOU0CwMr3xPNFTQCvpwXtj1FNA8vAiPx/kU0D6G18cv6pUQF1bbgP56lRAaJKhlnjAVUCLOFAkTH5WQDhNFTF12lZAnW/N8KnbVkBmaeoyKfBWQJSHwHnm/1ZAOIgu8xq8V0APLRFmMHtYQMQYG0CKylhAFG4WE7qZWUCQxML/87tZQC3APruyEFpAjmx/qI5lWkCObH+ojmVaQGJGHego6V1A/+Jmfo5EX0AP2ufBzn9fQF0klZgu0l9AOEPqBeE6YEDOGAXQTGNgQLhhGhuOOmFAyq34cyRNYUA=",
          "dtype": "f8"
         },
         "yaxis": "y"
        },
        {
         "hovertemplate": "Type 1=Fairy<br>weight_kilograms=%{x}<br>Attack=%{y}<extra></extra>",
         "legendgroup": "Fairy",
         "marker": {
          "color": "#FF97FF",
          "symbol": "circle"
         },
         "mode": "markers",
         "name": "Fairy",
         "showlegend": true,
         "type": "scattergl",
         "x": {
          "bdata": "AAAAAAAAHkAAAAAAAABEQAAAAAAAAAhAAAAAAAAA+D+amZmZmZkJQDMzMzMzMx9AmpmZmZlZSEAAAAAAAABDQJqZmZmZmbk/zczMzMzM7D8AAAAAAAAkQAAAAAAAAOA/AAAAAAAAL0AAAAAAAAAMQAAAAAAAABRAAAAAAACAN0AAAAAAAOBqQDMzMzMzM9M/MzMzMzMz0z8AAAAAAADgPwAAAAAAgFtAAAAAAAAASEDNzMzMzMwlQM3MzMzMzC1AzczMzMzMIUDNzMzMzIxNQDMzMzMzM1xAAAAAAAAAIEAAAAAAAIBBQA==",
          "dtype": "f8"
         },
         "xaxis": "x",
         "y": {
          "bdata": "LQBGABkAFAAoAFAAeAAyACYALQBBADQASAAwAFAAQQCDADQAKAA8AIIAcwA3AFAALQA3AEsAQQCCAA==",
          "dtype": "i2"
         },
         "yaxis": "y"
        },
        {
         "hovertemplate": "<b>LOWESS trendline</b><br><br>Type 1=Fairy<br>weight_kilograms=%{x}<br>Attack=%{y} <b>(trend)</b><extra></extra>",
         "legendgroup": "Fairy",
         "marker": {
          "color": "#FF97FF",
          "symbol": "circle"
         },
         "mode": "lines",
         "name": "Fairy",
         "showlegend": false,
         "type": "scattergl",
         "x": {
          "bdata": "mpmZmZmZuT8zMzMzMzPTPzMzMzMzM9M/AAAAAAAA4D8AAAAAAADgP83MzMzMzOw/AAAAAAAA+D8AAAAAAAAIQJqZmZmZmQlAAAAAAAAADEAAAAAAAAAUQAAAAAAAAB5AMzMzMzMzH0AAAAAAAAAgQM3MzMzMzCFAAAAAAAAAJEDNzMzMzMwlQM3MzMzMzC1AAAAAAAAAL0AAAAAAAIA3QAAAAAAAgEFAAAAAAAAAQ0AAAAAAAABEQAAAAAAAAEhAmpmZmZlZSEDNzMzMzIxNQAAAAAAAgFtAMzMzMzMzXEAAAAAAAOBqQA==",
          "dtype": "f8"
         },
         "xaxis": "x",
         "y": {
          "bdata": "Cx/MKdE1RUCPaApFDGdFQI9oCkUMZ0VA1eSeRXCYRUDV5J5FcJhFQCOv/wyg+0VAgcAmVcKQRkDc4BgleABIQJ4PQbtlMEhAd9Te2Kh3SEDOMk5xrNNJQFGNfgccVkxAG8JA1MfBTEAfeDTqK/RMQBDRqoUj/01AOSYNtCpET0DwJN0Phh5QQJOtCKrw4lBAJqyknWLpUEC3/naIDv1RQF36cm9f11RAfR964C0wVUBPT6PeYl1VQLtbk3/aHVZAR3jM5bwxVkAiA9X4eWJXQIWENETH4FhAG9f1t8kFWUD9N/mmUz5gQA==",
          "dtype": "f8"
         },
         "yaxis": "y"
        },
        {
         "hovertemplate": "Type 1=Fighting<br>weight_kilograms=%{x}<br>Attack=%{y}<extra></extra>",
         "legendgroup": "Fighting",
         "marker": {
          "color": "#FECB52",
          "symbol": "circle"
         },
         "mode": "markers",
         "name": "Fighting",
         "showlegend": true,
         "type": "scattergl",
         "x": {
          "bdata": "AAAAAAAAPEAAAAAAAABAQAAAAAAAgDNAAAAAAACgUUAAAAAAAEBgQGZmZmZm5khAmpmZmZkZSUAAAAAAAAA1QAAAAAAAAEhAmpmZmZmZVUCamZmZmblvQGZmZmZmZiZAAAAAAACAP0AzMzMzMzM0QAAAAAAAAEtAAAAAAAAAKUAAAAAAAABEQAAAAAAAwFVAAAAAAADAS0AAAAAAAIBJQAAAAAAAADRAAAAAAADAQUAAAAAAAAAgQAAAAAAAAGFAAAAAAACANUAAAAAAAAAcQAAAAAAAgGZAMzMzMzOzVEAzMzMzMzM2QAAAAAAAABBAAAAAAACAQ0AAAAAAAEBdQAAAAAAAAE9AAAAAAABAakAAAAAAAAAoQAAAAAAAQFpAAAAAAACARUAAAAAAAABMQDMzMzMzy3dAAAAAAADwckA=",
          "dtype": "f8"
         },
         "xaxis": "x",
         "y": {
          "bdata": "UABpAFAAZACCAHgAaQAjAF8APAB4ACgAPABGAG4AUABpAIwAZAB9AFUAfQBSAHwAXABSAIQAeAB9AEQAdgCHAGQAggBaAIIAggBzAIwAhwA=",
          "dtype": "i2"
         },
         "yaxis": "y"
        },
        {
         "hovertemplate": "<b>LOWESS trendline</b><br><br>Type 1=Fighting<br>weight_kilograms=%{x}<br>Attack=%{y} <b>(trend)</b><extra></extra>",
         "legendgroup": "Fighting",
         "marker": {
          "color": "#FECB52",
          "symbol": "circle"
         },
         "mode": "lines",
         "name": "Fighting",
         "showlegend": false,
         "type": "scattergl",
         "x": {
          "bdata": "AAAAAAAAEEAAAAAAAAAcQAAAAAAAACBAZmZmZmZmJkAAAAAAAAAoQAAAAAAAAClAAAAAAACAM0AAAAAAAAA0QDMzMzMzMzRAAAAAAAAANUAAAAAAAIA1QDMzMzMzMzZAAAAAAAAAPEAAAAAAAIA/QAAAAAAAAEBAAAAAAADAQUAAAAAAAIBDQAAAAAAAAERAAAAAAACARUAAAAAAAABIQGZmZmZm5khAmpmZmZkZSUAAAAAAAIBJQAAAAAAAAEtAAAAAAADAS0AAAAAAAABMQAAAAAAAAE9AAAAAAACgUUAzMzMzM7NUQJqZmZmZmVVAAAAAAADAVUAAAAAAAEBaQAAAAAAAQF1AAAAAAABAYEAAAAAAAABhQAAAAAAAgGZAAAAAAABAakCamZmZmblvQAAAAAAA8HJAMzMzMzPLd0A=",
          "dtype": "f8"
         },
         "xaxis": "x",
         "y": {
          "bdata": "jjTaNXMRUkB4TzgTrMNSQKuLW+YAAFNA3MpeV3TEU0AlQzGpWvZTQIAgOWeyFVRA+8AAVKTVVUDX4TYU6vVVQGROvILQAlZATmuUZlg2VkBBeRgufFZWQONeuzlgg1ZAIG/IbXvtV0B7VZJpmqNYQCXOMKrxtVhACfAxYTNcWUA2o+x1LOVZQEGvyFhBD1pACyhD9dhqWkCFY29UkfVaQNXnsJWnFFtAJCJYzgYYW0BJdldp/B9bQNqeqDpKVltAo5mbv2d8W0COXvDz34lbQBj5nbjfAFxA3QLYOCn7XEBvZ92xGR9eQHeUKNqPSF5AWewtnj5PXkCOt5nsVkZfQOW0FIwQvF9AAhRNgJD5X0CIZ504ugdgQDhPzGC4BGBArnTRkMkZYEDHi25IimVgQFwUaj8wr2BA3tb2oZcjYUA=",
          "dtype": "f8"
         },
         "yaxis": "y"
        },
        {
         "hovertemplate": "Type 1=Psychic<br>weight_kilograms=%{x}<br>Attack=%{y}<extra></extra>",
         "legendgroup": "Psychic",
         "marker": {
          "color": "#636efa",
          "symbol": "circle"
         },
         "mode": "markers",
         "name": "Psychic",
         "showlegend": true,
         "type": "scattergl",
         "x": {
          "bdata": "AAAAAACAM0AAAAAAAEBMQAAAAAAAAEhAMzMzMzMzQEBmZmZmZuZSQAAAAAAAQEtAAAAAAACAXkAAAAAAAAAQQAAAAAAAAABAAAAAAAAALkAAAAAAAIA6QAAAAAAAABRAAAAAAACAPEAAAAAAAABrQAAAAAAAABRAZmZmZmZmGkAzMzMzMzM0QDMzMzMzM0hAmpmZmZmZPkAAAAAAAOBRQAAAAAAAAPA/AAAAAAAALEBmZmZmZmZOQDMzMzMzM+M/AAAAAAAAKkAAAAAAAABKQDMzMzMzM9M/MzMzMzMz0z8zMzMzMzPTP2ZmZmZmZlVAAAAAAAAAEEDNzMzMzEw3QAAAAAAAQE5AzczMzMzMAEAAAAAAAAAlQAAAAAAAACxAMzMzMzMzF0AAAAAAAAAyQAAAAAAAAEZAAAAAAAAA8D8AAAAAAAAgQJqZmZmZGTRAAAAAAAAAIkAAAAAAAEBBQAAAAAAAAAxAAAAAAAAAIUAAAAAAAAAiQJqZmZmZmTJAmpmZmZmZuT8zMzMzMz+PQAAAAAAAwGxAAAAAAAAAXkAAAAAAAMBsQDMzMzMzMwtAMzMzMzMzE0BmZmZmZmYUQAAAAAAAADxAzczMzMzMHkAAAAAAAAD4PwAAAAAAgFZA",
          "dtype": "f8"
         },
         "xaxis": "x",
         "y": {
          "bdata": "FAAjADIAMABJAC0AbgBkADIASwBBAEgAIQBaAGQAGQAjAEEAGQAtADIAFwCWAB4AGQB9AEsAaQB9AEYAZAAZADcALQA5ADoAHgAtADcAHgAoAEEANwBLADAAMABuAFUAHQAdAIkAcQBrAB4AKABaAEEAUAAjADwA",
          "dtype": "i2"
         },
         "yaxis": "y"
        },
        {
         "hovertemplate": "<b>LOWESS trendline</b><br><br>Type 1=Psychic<br>weight_kilograms=%{x}<br>Attack=%{y} <b>(trend)</b><extra></extra>",
         "legendgroup": "Psychic",
         "marker": {
          "color": "#636efa",
          "symbol": "circle"
         },
         "mode": "lines",
         "name": "Psychic",
         "showlegend": false,
         "type": "scattergl",
         "x": {
          "bdata": "mpmZmZmZuT8zMzMzMzPTPzMzMzMzM9M/MzMzMzMz0z8zMzMzMzPjPwAAAAAAAPA/AAAAAAAA8D8AAAAAAAD4PwAAAAAAAABAzczMzMzMAEAzMzMzMzMLQAAAAAAAAAxAAAAAAAAAEEAAAAAAAAAQQDMzMzMzMxNAAAAAAAAAFEAAAAAAAAAUQGZmZmZmZhRAMzMzMzMzF0BmZmZmZmYaQM3MzMzMzB5AAAAAAAAAIEAAAAAAAAAhQAAAAAAAACJAAAAAAAAAIkAAAAAAAAAlQAAAAAAAACpAAAAAAAAALEAAAAAAAAAsQAAAAAAAAC5AAAAAAAAAMkCamZmZmZkyQAAAAAAAgDNAmpmZmZkZNEAzMzMzMzM0QM3MzMzMTDdAAAAAAACAOkAAAAAAAAA8QAAAAAAAgDxAmpmZmZmZPkAzMzMzMzNAQAAAAAAAQEFAAAAAAAAARkAAAAAAAABIQDMzMzMzM0hAAAAAAAAASkAAAAAAAEBLQAAAAAAAQExAAAAAAABATkBmZmZmZmZOQAAAAAAA4FFAZmZmZmbmUkBmZmZmZmZVQAAAAAAAgFZAAAAAAAAAXkAAAAAAAIBeQAAAAAAAAGtAAAAAAADAbEAAAAAAAMBsQDMzMzMzP49A",
          "dtype": "f8"
         },
         "xaxis": "x",
         "y": {
          "bdata": "26K1Rmw7TUCXu+qwKTJNQJe76rApMk1Al7vqsCkyTUDU6+XpESRNQD4qxwzeEE1APirHDN4QTUABsG+WJ/hMQCx/clWl3kxADHbNcnPZTED99VsGapNMQPrqLODbjUxADc2Afc9xTEANzYB9z3FMQDdBR0k+RExAPI68R8A4TEA8jrxHwDhMQMG23Ev+MkxAr8LprHcKTEAQ8Sg/lNtLQDf8j4L2mUtAmnq5hdaHS0A9tkhzYmlLQD5Co8uWSktAPkKjy5ZKS0CtezTDF+tKQHpaxIEBLUpAAABFdn/ESUAAAEV2f8RJQABULycUYElA6phQSlXQSEDxdn1UD7pIQCrYZlj6qEhANF2/73+jSEBPQtqw0qJIQI243LGEkkhA8yMx7IHVSEDGPV8WJyBJQDWHa+cDN0lAyroOgAXSSUBORDuDjBlKQNHAbWcxT0pA6BiVlioMS0CVFrSWs3tLQB1EhvhUiUtAFpiSg88ITEAXHwO4YF5MQGpteRXOn0xAvlHProscTUDHq2txrCVNQKA7LWj1AFBA38mz9k3nUEBDFZCHu9lSQKBxTM0VoVNAe8GayzxDWECTZ1PPFiFYQIie8MBiXVxAo/OrCHtRXUCj86sIe1FdQChy/WHkoT1A",
          "dtype": "f8"
         },
         "yaxis": "y"
        },
        {
         "hovertemplate": "Type 1=Rock<br>weight_kilograms=%{x}<br>Attack=%{y}<extra></extra>",
         "legendgroup": "Rock",
         "marker": {
          "color": "#EF553B",
          "symbol": "circle"
         },
         "mode": "markers",
         "name": "Rock",
         "showlegend": true,
         "type": "scattergl",
         "x": {
          "bdata": "AAAAAAAANEAAAAAAAEBaQAAAAAAAwHJAAAAAAABAakAAAAAAAAAeQAAAAAAAgEFAAAAAAAAAJ0AAAAAAAEBEQAAAAAAAgE1AAAAAAAAAQ0AAAAAAAABSQAAAAAAAAGNAAAAAAABAaUAAAAAAAEBYQAAAAAAAAGVAAAAAAABAY0DNzMzMzMw3QDMzMzMzM05AAAAAAAAAKUDNzMzMzAxRQAAAAAAAwGxAAAAAAACAP0AAAAAAAKBZQAAAAAAAgExAAAAAAACwYkAAAAAAAAAuQAAAAAAAQHVAAAAAAAAAMkAAAAAAAIBZQAAAAAAAQHBAAAAAAAAAI0AAAAAAAABAQAAAAAAAQHBAAAAAAAAAP0AAAAAAAABYQAAAAAAAADpAAAAAAADgcEAzMzMzMzM5QAAAAAAAIGxAzczMzMzMFkCamZmZmZkhQGZmZmZmZiJAAAAAAAAAOUAAAAAAAABEQAAAAAAAwEtAAAAAAACgiUAAAAAAAAAoQAAAAAAAgFNAAAAAAABoc0AAAAAAAECAQAAAAAAAADBAAAAAAABAWkAAAAAAAABuQAAAAAAAwFNAAAAAAAAAIEAAAAAAAIBGQAAAAAAA8HJAAAAAAABQZEA=",
          "dtype": "f8"
         },
         "xaxis": "x",
         "y": {
          "bdata": "UABfAHgALQAoADwAUABzAGkAZABAAFQAhgAtADcAXwApAFEAXwB9AGQAfQClACoANABQADcASwBpAIcAcACMAIEANABpAFkAeQA7AE0AMgBkAEEAcwA8ADUAgwAoADwAUAB9ADcAPABkAGQAIwA3AIYAeAA=",
          "dtype": "i2"
         },
         "yaxis": "y"
        },
        {
         "hovertemplate": "<b>LOWESS trendline</b><br><br>Type 1=Rock<br>weight_kilograms=%{x}<br>Attack=%{y} <b>(trend)</b><extra></extra>",
         "legendgroup": "Rock",
         "marker": {
          "color": "#EF553B",
          "symbol": "circle"
         },
         "mode": "lines",
         "name": "Rock",
         "showlegend": false,
         "type": "scattergl",
         "x": {
          "bdata": "zczMzMzMFkAAAAAAAAAeQAAAAAAAACBAmpmZmZmZIUBmZmZmZmYiQAAAAAAAACNAAAAAAAAAJ0AAAAAAAAAoQAAAAAAAAClAAAAAAAAALkAAAAAAAAAwQAAAAAAAADJAAAAAAAAANEDNzMzMzMw3QAAAAAAAADlAMzMzMzMzOUAAAAAAAAA6QAAAAAAAAD9AAAAAAACAP0AAAAAAAABAQAAAAAAAgEFAAAAAAAAAQ0AAAAAAAABEQAAAAAAAQERAAAAAAACARkAAAAAAAMBLQAAAAAAAgExAAAAAAACATUAzMzMzMzNOQM3MzMzMDFFAAAAAAAAAUkAAAAAAAIBTQAAAAAAAwFNAAAAAAAAAWEAAAAAAAEBYQAAAAAAAgFlAAAAAAACgWUAAAAAAAEBaQAAAAAAAQFpAAAAAAACwYkAAAAAAAABjQAAAAAAAQGNAAAAAAABQZEAAAAAAAABlQAAAAAAAQGlAAAAAAABAakAAAAAAACBsQAAAAAAAwGxAAAAAAAAAbkAAAAAAAEBwQAAAAAAAQHBAAAAAAADgcEAAAAAAAMByQAAAAAAA8HJAAAAAAABoc0AAAAAAAEB1QAAAAAAAQIBAAAAAAACgiUA=",
          "dtype": "f8"
         },
         "xaxis": "x",
         "y": {
          "bdata": "zK83FPiMUUBDhbYye6tRQCLcVCfYs1FA3Tw2ZyDBUUBeyQNMucdRQIlLzDGnzFFASQgPLh7tUUC6T3TLIPVRQBlUx8EY/VFAIjij+lUkUkDmwzYSwjNSQL5io2onUlJAFzCdFv1vUkBe7tDVSadSQBzUXnxpuFJAYYlTgUC7UkDkagL3ksZSQLyYx44mDFNAWVGf2QITU0Dmafxg2xlTQB1+Bc2WQlNAKBpbjX9qU0DeOIbYbYRTQNBMCw/MilNAffYY+d/AU0At1abVLwdUQBxbyCv9ClRAKvq4cXoiVEB5iLCKMjlUQKj5q6FLr1RAJEyBszrfVEBMiCGICidVQGiUQUwsMlVAJzYTD3Y6VUCjxET22DZVQBEqSdm+KlVAQ5av+woqVUAxulLZoydVQDG6UtmjJ1VAqXOZPEfHVUAo7Fit1+FVQKonQyk6+1VAYjpLDAN6VkCn6bW5DMtWQMWsyk1UZVhAYkKy/EiZWEB77XoxX+dYQLkmXxFv/1hAvPX+6aEvWUAONsaxfJZZQA42xrF8lllApvJu+4zOWUDF+jGERXxaQLUAGXHpjFpAr4Mtnim2WkDL3BAr+FRbQDjSYytMmF1AEDbp5qCqYEA=",
          "dtype": "f8"
         },
         "yaxis": "y"
        },
        {
         "hovertemplate": "Type 1=Ghost<br>weight_kilograms=%{x}<br>Attack=%{y}<extra></extra>",
         "legendgroup": "Ghost",
         "marker": {
          "color": "#00cc96",
          "symbol": "circle"
         },
         "mode": "markers",
         "name": "Ghost",
         "showlegend": true,
         "type": "scattergl",
         "x": {
          "bdata": "mpmZmZmZuT+amZmZmZm5PwAAAAAAQERAAAAAAAAA8D9mZmZmZmYCQAAAAAAAAClAAAAAAAAALkCamZmZmZk+QDMzMzMzM/M/AAAAAAAALkCamZmZmZkRQAAAAAAAAFtAZmZmZmamWkAAAAAAAHCHQAAAAAAAAPg/AAAAAAAgU0DNzMzMzMwIQAAAAAAAACpAZmZmZmYmQUAAAAAAAAAcQAAAAAAAwFFAAAAAAAAAFEAAAAAAAAApQAAAAAAAgFFAAAAAAABAb0BmZmZmZmbmPwAAAAAAQGpAmpmZmZmZyT+amZmZmZnZP5qZmZmZmdk/AAAAAABARkAAAAAAAIBBQAAAAAAAAC5AAAAAAAAAEEAAAAAAAAAUQA==",
          "dtype": "f8"
         },
         "xaxis": "x",
         "y": {
          "bdata": "IwAyAEEAPABLAHMAKABGADIAUAA8AFwAZABkAB4AMgAeACgANwBGAG4AQgBaADcASwBaAIMALQBBAF8AQQA9AGUANwAeAA==",
          "dtype": "i2"
         },
         "yaxis": "y"
        },
        {
         "hovertemplate": "<b>LOWESS trendline</b><br><br>Type 1=Ghost<br>weight_kilograms=%{x}<br>Attack=%{y} <b>(trend)</b><extra></extra>",
         "legendgroup": "Ghost",
         "marker": {
          "color": "#00cc96",
          "symbol": "circle"
         },
         "mode": "lines",
         "name": "Ghost",
         "showlegend": false,
         "type": "scattergl",
         "x": {
          "bdata": "mpmZmZmZuT+amZmZmZm5P5qZmZmZmck/mpmZmZmZ2T+amZmZmZnZP2ZmZmZmZuY/AAAAAAAA8D8zMzMzMzPzPwAAAAAAAPg/ZmZmZmZmAkDNzMzMzMwIQAAAAAAAABBAmpmZmZmZEUAAAAAAAAAUQAAAAAAAABRAAAAAAAAAHEAAAAAAAAApQAAAAAAAAClAAAAAAAAAKkAAAAAAAAAuQAAAAAAAAC5AAAAAAAAALkCamZmZmZk+QGZmZmZmJkFAAAAAAACAQUAAAAAAAEBEQAAAAAAAQEZAAAAAAACAUUAAAAAAAMBRQAAAAAAAIFNAZmZmZmamWkAAAAAAAABbQAAAAAAAQGpAAAAAAABAb0AAAAAAAHCHQA==",
          "dtype": "f8"
         },
         "xaxis": "x",
         "y": {
          "bdata": "iGGf3UPiSUCIYZ/dQ+JJQP/Gn1Cb+0lADAjh1lQuSkAMCOHWVC5KQCkm3nCGekpA0w+5pdfGSkCE8S5dyPlKQNh6ZChGRktAVde6TaISTED7PDfJY99MQIEve87jxU1A/jM+SFEsTkCUE+/l48VOQJQT7+XjxU5AnHGCJ6NiUEDwyIDz8UFTQPDIgPPxQVNAavKalKmOU0D5ujsd8+BUQPm6Ox3z4FRA+bo7HfPgVECUToXV3tlQQAivsB21YlBAjwwAZBtLUEC4iDJW/ERQQPLCLFcAmVBAoKbShWedUkBWKGwx+LxSQKbQI3ewXVNAXWbwT3GfVkBClGPzBclWQALJcZpuMlhAjF6Yy3LqWECHbgQSSvdYQA==",
          "dtype": "f8"
         },
         "yaxis": "y"
        },
        {
         "hovertemplate": "Type 1=Ice<br>weight_kilograms=%{x}<br>Attack=%{y}<extra></extra>",
         "legendgroup": "Ice",
         "marker": {
          "color": "#ab63fa",
          "symbol": "circle"
         },
         "mode": "markers",
         "name": "Ice",
         "showlegend": true,
         "type": "scattergl",
         "x": {
          "bdata": "zczMzMxMREAzMzMzM7NLQAAAAAAAABpAZmZmZmbmS0AAAAAAAAAwQAAAAAAAABhAzczMzMzMMEAAAAAAAAhwQAAAAAAAwENAZmZmZmbmVUAzMzMzM9NiQAAAAAAA4GVAZmZmZmbmOUAAAAAAADByQJqZmZmZmTpAzczMzMzMFkAAAAAAAIBEQAAAAAAAwExAAAAAAAAAIUAAAAAAAEBwQAAAAAAAgGJAAAAAAADgWEAAAAAAAJB/QJqZmZmZGU1AZmZmZmZmDkAAAAAAAABFQAAAAAAAQFZAAAAAAAAAiUAAAAAAAIBGQAAAAAAA4IVAAAAAAAAAJkA=",
          "dtype": "f8"
         },
         "xaxis": "x",
         "y": {
          "bdata": "MgBVADIAZAA3AB4AMgBQACgAPABQADIAPACCAFAAMgBBAF8ARgCCADIARQB1AFUAGQBBAFAAkQBEAHEAUAA=",
          "dtype": "i2"
         },
         "yaxis": "y"
        },
        {
         "hovertemplate": "<b>LOWESS trendline</b><br><br>Type 1=Ice<br>weight_kilograms=%{x}<br>Attack=%{y} <b>(trend)</b><extra></extra>",
         "legendgroup": "Ice",
         "marker": {
          "color": "#ab63fa",
          "symbol": "circle"
         },
         "mode": "lines",
         "name": "Ice",
         "showlegend": false,
         "type": "scattergl",
         "x": {
          "bdata": "ZmZmZmZmDkDNzMzMzMwWQAAAAAAAABhAAAAAAAAAGkAAAAAAAAAhQAAAAAAAACZAAAAAAAAAMEDNzMzMzMwwQGZmZmZm5jlAmpmZmZmZOkAAAAAAAMBDQM3MzMzMTERAAAAAAACAREAAAAAAAABFQAAAAAAAgEZAMzMzMzOzS0BmZmZmZuZLQAAAAAAAwExAmpmZmZkZTUBmZmZmZuZVQAAAAAAAQFZAAAAAAADgWEAAAAAAAIBiQDMzMzMz02JAAAAAAADgZUAAAAAAAAhwQAAAAAAAQHBAAAAAAAAwckAAAAAAAJB/QAAAAAAA4IVAAAAAAAAAiUA=",
          "dtype": "f8"
         },
         "xaxis": "x",
         "y": {
          "bdata": "+noNqiQ3R0D2RpqA7clHQMRLzjMi4UdAAC2Hx9UHSEDcXpjAFaNIQNCSEwSjZklA/Xhov5v0SkDoHQExPDVLQCYqJIwRKU5AIq+JAtZkTkDdKv4Qn15RQDo2mJ6Ii1FA98BOE5SbUUDKbjDt/sJRQL7DrLSpN1JAZ9X+M3TvUkDFIJO+HOlSQHx+i2/W0FJAg42Ewr3IUkBVXL2JImVSQJKkJ8KSTlJA+7w9N2fSUUB84uaJfVNQQNm6v9SkrVBAiOhk7mB2U0CQ2ZhPID5aQEDnusSUiFpAu4E7R1GvW0CeF94vcehcQCp4AT/cGmBAVXTFewndYEA=",
          "dtype": "f8"
         },
         "yaxis": "y"
        },
        {
         "hovertemplate": "Type 1=Dragon<br>weight_kilograms=%{x}<br>Attack=%{y}<extra></extra>",
         "legendgroup": "Dragon",
         "marker": {
          "color": "#FFA15A",
          "symbol": "circle"
         },
         "mode": "markers",
         "name": "Dragon",
         "showlegend": true,
         "type": "scattergl",
         "x": {
          "bdata": "ZmZmZmZmCkAAAAAAAIAwQAAAAAAAQGpAmpmZmZmZNEDNzMzMzAxFQAAAAAAAoFtAZmZmZmamWUAAAAAAAABEQAAAAAAAAE5AAAAAAADQaUAAAAAAAIA0QAAAAAAAAExAAAAAAADAV0AAAAAAAAAyQAAAAAAAAEJAAAAAAABgWkAAAAAAAGBhQAAAAAAAoHRAAAAAAACQdUAAAAAAAFB0QGZmZmZmZgZAAAAAAACAMUAAAAAAANBiQAAAAAAAwEBAMzMzMzOzPUAAAAAAAIBHQM3MzMzMjFNAAAAAAAAAAEAAAAAAAAAmQAAAAAAAAElAAAAAAAAAaUAAAAAAAIBPQAAAAAAAACBAAAAAAAAAMUAAAAAAAAA+QAAAAAAAQGpAAAAAAADAd0A=",
          "dtype": "f8"
         },
         "xaxis": "x",
         "y": {
          "bdata": "QABUAIYARgBLAF8AhwBQAFoAlgBGAFoAggBXAHUAkwB4AHgAlgCCADIASwBkAGQANwBLAG4APABQAHgAZABfADIASwBfAJEAiwA=",
          "dtype": "i2"
         },
         "yaxis": "y"
        },
        {
         "hovertemplate": "<b>LOWESS trendline</b><br><br>Type 1=Dragon<br>weight_kilograms=%{x}<br>Attack=%{y} <b>(trend)</b><extra></extra>",
         "legendgroup": "Dragon",
         "marker": {
          "color": "#FFA15A",
          "symbol": "circle"
         },
         "mode": "lines",
         "name": "Dragon",
         "showlegend": false,
         "type": "scattergl",
         "x": {
          "bdata": "AAAAAAAAAEBmZmZmZmYGQGZmZmZmZgpAAAAAAAAAIEAAAAAAAAAmQAAAAAAAgDBAAAAAAAAAMUAAAAAAAIAxQAAAAAAAADJAAAAAAACANECamZmZmZk0QDMzMzMzsz1AAAAAAAAAPkAAAAAAAMBAQAAAAAAAAEJAAAAAAAAAREDNzMzMzAxFQAAAAAAAgEdAAAAAAAAASUAAAAAAAABMQAAAAAAAAE5AAAAAAACAT0DNzMzMzIxTQAAAAAAAwFdAZmZmZmamWUAAAAAAAGBaQAAAAAAAoFtAAAAAAABgYUAAAAAAANBiQAAAAAAAAGlAAAAAAADQaUAAAAAAAEBqQAAAAAAAQGpAAAAAAABQdEAAAAAAAKB0QAAAAAAAkHVAAAAAAADAd0A=",
          "dtype": "f8"
         },
         "xaxis": "x",
         "y": {
          "bdata": "XlKSuO1vT0DLiwkZPbRPQAcKtQ7R3k9AwZ0x9mi1UEBY07Vq7TFRQAoVFI80E1JAg2ztBoYnUkB3/iZk0TtSQBWEBLYWUFJAe1HLixS1UkDBXglWG7lSQPip41xqIlRAmpeiah0uVEDU/E3wM7VUQP3jHF67E1VAEoMSn42lVUCut7Fu3+1VQKTkYwHlhVZAWuyC4HngVkCtF5ViJdVXQKb9hqbGh1hAazjvsVouWUCzBxcWpVRbQGnrxaE/VlxAZzvllV+BXECsyYyXKppcQGU5Fxfny1xAhrVPboPkXUCzqW1RwH1eQK8pG8JN6V9ADZ/JqyrsX0DN8SmtYO9fQM3xKa1g719ANjid9U7uYEDCmV2Tz/hgQFQPG2SoF2FAOLblDoldYUA=",
          "dtype": "f8"
         },
         "yaxis": "y"
        },
        {
         "hovertemplate": "Type 1=Dark<br>weight_kilograms=%{x}<br>Attack=%{y}<extra></extra>",
         "legendgroup": "Dark",
         "marker": {
          "color": "#19d3f3",
          "symbol": "circle"
         },
         "mode": "markers",
         "name": "Dark",
         "showlegend": true,
         "type": "scattergl",
         "x": {
          "bdata": "AAAAAAAAO0DNzMzMzMwAQAAAAAAAADxAmpmZmZmZJUAAAAAAAIBBQDMzMzMzMytAAAAAAACAQkAAAAAAAAAmQAAAAAAAgEdAzczMzMxMO0AAAAAAAABBQAAAAAAAQElAMzMzMzMzJEAAAAAAAMBCQJqZmZmZmSdAAAAAAAAAPkAAAAAAAAApQGZmZmZmRlRAZmZmZmZmJEAAAAAAAIBRQAAAAAAAACJAAAAAAADAQ0DNzMzMzEwxQAAAAAAAAElAAAAAAAAAZEAAAAAAAAAMQAAAAAAAgEdAAAAAAABgaUAAAAAAAMCLQM3MzMzMzCFAZmZmZmbmM0AAAAAAAAAWQAAAAAAAAClAAAAAAACATkAAAAAAAABHQAAAAAAAgFFAAAAAAABATkAAAAAAAAAwQAAAAAAAgE5AAAAAAAAAXkAAAAAAAMBbQM3MzMzMjFJAZmZmZmYGY0CamZmZmd2FQJqZmZmZmRNA",
          "dtype": "f8"
         },
         "xaxis": "x",
         "y": {
          "bdata": "QQBVAF8APABaADcAWgBLAIIAfQB4AFoAMgBYAEsAWgBBAGkAVQB9ADcAQQBBAFUAaQA2AFwAgwBlABwAOgAtADwAeABaAHgAcwBOAHgAhwBQAFUAeABuAFAA",
          "dtype": "i2"
         },
         "yaxis": "y"
        },
        {
         "hovertemplate": "<b>LOWESS trendline</b><br><br>Type 1=Dark<br>weight_kilograms=%{x}<br>Attack=%{y} <b>(trend)</b><extra></extra>",
         "legendgroup": "Dark",
         "marker": {
          "color": "#19d3f3",
          "symbol": "circle"
         },
         "mode": "lines",
         "name": "Dark",
         "showlegend": false,
         "type": "scattergl",
         "x": {
          "bdata": "zczMzMzMAEAAAAAAAAAMQJqZmZmZmRNAAAAAAAAAFkDNzMzMzMwhQAAAAAAAACJAMzMzMzMzJEBmZmZmZmYkQJqZmZmZmSVAAAAAAAAAJkCamZmZmZknQAAAAAAAAClAAAAAAAAAKUAzMzMzMzMrQAAAAAAAADBAzczMzMxMMUBmZmZmZuYzQAAAAAAAADtAzczMzMxMO0AAAAAAAAA8QAAAAAAAAD5AAAAAAAAAQUAAAAAAAIBBQAAAAAAAgEJAAAAAAADAQkAAAAAAAMBDQAAAAAAAAEdAAAAAAACAR0AAAAAAAIBHQAAAAAAAAElAAAAAAABASUAAAAAAAEBOQAAAAAAAgE5AAAAAAACATkAAAAAAAIBRQAAAAAAAgFFAzczMzMyMUkBmZmZmZkZUQAAAAAAAwFtAAAAAAAAAXkBmZmZmZgZjQAAAAAAAAGRAAAAAAABgaUCamZmZmd2FQAAAAAAAwItA",
          "dtype": "f8"
         },
         "xaxis": "x",
         "y": {
          "bdata": "i9cxHAbjS0A+3QjCYI5MQEqpeXAzPU1At97IJRqJTUA4k26yCkBPQCyrkQojTU9AGRn6pL7dT0BX7FYh8epPQKGwtRYnHVBAQyLIB2oqUED5YRR+oV9QQLiOyChqjlBAuI7IKGqOUEBr+ahCU9hQQHBalzdae1FA+c77duzUUUCBj87to4tSQLOpZfyVa1RAm5dDCNGBVECoVkOa6a1UQNZ2CrWJBFVAMUutLCTRVUA/ay+kyxxWQANYsR+jdFZAxVSiRyiPVkAoai96UgRXQJXD8Ux9hlhAgQO2AQy2WECBA7YBDLZYQLdYSFaTKFlAcCcKbek4WUDFtEH1p2laQF76L1SHeVpAXvovVId5WkCSR2GO5fNaQJJHYY7l81pAa2dR0OD3WkB22uw6pj9bQBnDBMN3vltA7yl1jMP4W0C7WywK1VFdQKXYC9eLn11A1C9t7jg7X0AYvRe5GuFaQMvzCXyNu1lA",
          "dtype": "f8"
         },
         "yaxis": "y"
        },
        {
         "hovertemplate": "Type 1=Steel<br>weight_kilograms=%{x}<br>Attack=%{y}<extra></extra>",
         "legendgroup": "Steel",
         "marker": {
          "color": "#FF6692",
          "symbol": "circle"
         },
         "mode": "markers",
         "name": "Steel",
         "showlegend": true,
         "type": "scattergl",
         "x": {
          "bdata": "AAAAAAAAeUAAAAAAAEBJQAAAAAAAACdAAAAAAAAATkAAAAAAAABeQAAAAAAAgHZAzczMzMzMV0AAAAAAAFBpQAAAAAAAMIFAAAAAAACgaUCamZmZmZnxPwAAAAAAQE5AAAAAAABgZ0AAAAAAAFiFQAAAAAAAADVAAAAAAACASUAAAAAAAEBUQAAAAAAAQG9AAAAAAAAAAEAAAAAAAAASQAAAAAAAgEpAAAAAAAAACEAzMzMzMz+PQAAAAAAAIFRAAAAAAAAAIEAAAAAAAACJQAAAAAAAADxAAAAAAAAAWUAAAAAAAFCEQAAAAAAAAERAAAAAAACAQUAAAAAAAABeQAAAAAAAYHNAAAAAAAAAPkAAAAAAAABOQAAAAAAAgGNA",
          "dtype": "f8"
         },
         "xaxis": "x",
         "y": {
          "bdata": "VQBQAFUARgBaAG4ANwBLAIcASwBkABgAWQB4ADcAUABkAFoAUABuADIAUABlAF8AQQCPAG4AUACCAF8ARgB3AFUAPABpAEgA",
          "dtype": "i2"
         },
         "yaxis": "y"
        },
        {
         "hovertemplate": "<b>LOWESS trendline</b><br><br>Type 1=Steel<br>weight_kilograms=%{x}<br>Attack=%{y} <b>(trend)</b><extra></extra>",
         "legendgroup": "Steel",
         "marker": {
          "color": "#FF6692",
          "symbol": "circle"
         },
         "mode": "lines",
         "name": "Steel",
         "showlegend": false,
         "type": "scattergl",
         "x": {
          "bdata": "mpmZmZmZ8T8AAAAAAAAAQAAAAAAAAAhAAAAAAAAAEkAAAAAAAAAgQAAAAAAAACdAAAAAAAAANUAAAAAAAAA8QAAAAAAAAD5AAAAAAACAQUAAAAAAAABEQAAAAAAAQElAAAAAAACASUAAAAAAAIBKQAAAAAAAAE5AAAAAAAAATkAAAAAAAEBOQAAAAAAAIFRAAAAAAABAVEDNzMzMzMxXQAAAAAAAAFlAAAAAAAAAXkAAAAAAAABeQAAAAAAAgGNAAAAAAABgZ0AAAAAAAFBpQAAAAAAAoGlAAAAAAABAb0AAAAAAAGBzQAAAAAAAgHZAAAAAAAAAeUAAAAAAADCBQAAAAAAAUIRAAAAAAABYhUAAAAAAAACJQDMzMzMzP49A",
          "dtype": "f8"
         },
         "xaxis": "x",
         "y": {
          "bdata": "xsJhvmLCVEAJPdbQqL1UQFpe7+iDuFRAjKspgAKxVECaun/FcqBUQMuN2aIWkVRAKiOZf6RsVEC5EAq/01VUQEv/GjDsT1RAuvbJ01tCVEByr9IKwTZUQGzHnWiaKFRAFuNFwHEoVEB1ZTbzmihUQLV8BiW6P1RAtXwGJbo/VEAkYHsrUENUQBU117UdE1VAI8lhM/4ZVUD7vFO1MVNVQHPpuk9uSFVA4BFwuFn0VEDgEXC4WfRUQCfd9jk0rlRAWMpqDKq9VEB4dO6dgsxUQPKv38b11VRAqG1yFefAVUDRk5DJ7JhWQIGTpvmniVhAlIRdns3QWUA730+vEj1dQASLqxNZPl5ApUjs0Ph9XkC/Uz3ysYFfQFh/xTFIiWBA",
          "dtype": "f8"
         },
         "yaxis": "y"
        },
        {
         "hovertemplate": "Type 1=Flying<br>weight_kilograms=%{x}<br>Attack=%{y}<extra></extra>",
         "legendgroup": "Flying",
         "marker": {
          "color": "#B6E880",
          "symbol": "circle"
         },
         "mode": "markers",
         "name": "Flying",
         "showlegend": true,
         "type": "scattergl",
         "x": {
          "bdata": "AAAAAACAT0AAAAAAAAAgQAAAAAAAQFVAzczMzMzM/D8AAAAAAAAwQAAAAAAAwFJAAAAAAAAAMkAzMzMzM3NFQAAAAAAAgEJA",
          "dtype": "f8"
         },
         "xaxis": "x",
         "y": {
          "bdata": "cx5GL0NXVWdz",
          "dtype": "i1"
         },
         "yaxis": "y"
        },
        {
         "hovertemplate": "<b>LOWESS trendline</b><br><br>Type 1=Flying<br>weight_kilograms=%{x}<br>Attack=%{y} <b>(trend)</b><extra></extra>",
         "legendgroup": "Flying",
         "marker": {
          "color": "#B6E880",
          "symbol": "circle"
         },
         "mode": "lines",
         "name": "Flying",
         "showlegend": false,
         "type": "scattergl",
         "x": {
          "bdata": "zczMzMzM/D8AAAAAAAAgQAAAAAAAADBAAAAAAAAAMkAAAAAAAIBCQDMzMzMzc0VAAAAAAACAT0AAAAAAAMBSQAAAAAAAQFVA",
          "dtype": "f8"
         },
         "xaxis": "x",
         "y": {
          "bdata": "oxhQiP6RRECknB9YTjtLQBkD41uoHFJAnoz9nXoEVED2cmbvLilaQO2EOInEP1tAO6DLeCpOWkCcZ/x0qxRWQFXkq/D/oVFA",
          "dtype": "f8"
         },
         "yaxis": "y"
        }
       ],
       "layout": {
        "legend": {
         "title": {
          "text": "Type 1"
         },
         "tracegroupgap": 0
        },
        "template": {
         "data": {
          "bar": [
           {
            "error_x": {
             "color": "#2a3f5f"
            },
            "error_y": {
             "color": "#2a3f5f"
            },
            "marker": {
             "line": {
              "color": "#E5ECF6",
              "width": 0.5
             },
             "pattern": {
              "fillmode": "overlay",
              "size": 10,
              "solidity": 0.2
             }
            },
            "type": "bar"
           }
          ],
          "barpolar": [
           {
            "marker": {
             "line": {
              "color": "#E5ECF6",
              "width": 0.5
             },
             "pattern": {
              "fillmode": "overlay",
              "size": 10,
              "solidity": 0.2
             }
            },
            "type": "barpolar"
           }
          ],
          "carpet": [
           {
            "aaxis": {
             "endlinecolor": "#2a3f5f",
             "gridcolor": "white",
             "linecolor": "white",
             "minorgridcolor": "white",
             "startlinecolor": "#2a3f5f"
            },
            "baxis": {
             "endlinecolor": "#2a3f5f",
             "gridcolor": "white",
             "linecolor": "white",
             "minorgridcolor": "white",
             "startlinecolor": "#2a3f5f"
            },
            "type": "carpet"
           }
          ],
          "choropleth": [
           {
            "colorbar": {
             "outlinewidth": 0,
             "ticks": ""
            },
            "type": "choropleth"
           }
          ],
          "contour": [
           {
            "colorbar": {
             "outlinewidth": 0,
             "ticks": ""
            },
            "colorscale": [
             [
              0,
              "#0d0887"
             ],
             [
              0.1111111111111111,
              "#46039f"
             ],
             [
              0.2222222222222222,
              "#7201a8"
             ],
             [
              0.3333333333333333,
              "#9c179e"
             ],
             [
              0.4444444444444444,
              "#bd3786"
             ],
             [
              0.5555555555555556,
              "#d8576b"
             ],
             [
              0.6666666666666666,
              "#ed7953"
             ],
             [
              0.7777777777777778,
              "#fb9f3a"
             ],
             [
              0.8888888888888888,
              "#fdca26"
             ],
             [
              1,
              "#f0f921"
             ]
            ],
            "type": "contour"
           }
          ],
          "contourcarpet": [
           {
            "colorbar": {
             "outlinewidth": 0,
             "ticks": ""
            },
            "type": "contourcarpet"
           }
          ],
          "heatmap": [
           {
            "colorbar": {
             "outlinewidth": 0,
             "ticks": ""
            },
            "colorscale": [
             [
              0,
              "#0d0887"
             ],
             [
              0.1111111111111111,
              "#46039f"
             ],
             [
              0.2222222222222222,
              "#7201a8"
             ],
             [
              0.3333333333333333,
              "#9c179e"
             ],
             [
              0.4444444444444444,
              "#bd3786"
             ],
             [
              0.5555555555555556,
              "#d8576b"
             ],
             [
              0.6666666666666666,
              "#ed7953"
             ],
             [
              0.7777777777777778,
              "#fb9f3a"
             ],
             [
              0.8888888888888888,
              "#fdca26"
             ],
             [
              1,
              "#f0f921"
             ]
            ],
            "type": "heatmap"
           }
          ],
          "histogram": [
           {
            "marker": {
             "pattern": {
              "fillmode": "overlay",
              "size": 10,
              "solidity": 0.2
             }
            },
            "type": "histogram"
           }
          ],
          "histogram2d": [
           {
            "colorbar": {
             "outlinewidth": 0,
             "ticks": ""
            },
            "colorscale": [
             [
              0,
              "#0d0887"
             ],
             [
              0.1111111111111111,
              "#46039f"
             ],
             [
              0.2222222222222222,
              "#7201a8"
             ],
             [
              0.3333333333333333,
              "#9c179e"
             ],
             [
              0.4444444444444444,
              "#bd3786"
             ],
             [
              0.5555555555555556,
              "#d8576b"
             ],
             [
              0.6666666666666666,
              "#ed7953"
             ],
             [
              0.7777777777777778,
              "#fb9f3a"
             ],
             [
              0.8888888888888888,
              "#fdca26"
             ],
             [
              1,
              "#f0f921"
             ]
            ],
            "type": "histogram2d"
           }
          ],
          "histogram2dcontour": [
           {
            "colorbar": {
             "outlinewidth": 0,
             "ticks": ""
            },
            "colorscale": [
             [
              0,
              "#0d0887"
             ],
             [
              0.1111111111111111,
              "#46039f"
             ],
             [
              0.2222222222222222,
              "#7201a8"
             ],
             [
              0.3333333333333333,
              "#9c179e"
             ],
             [
              0.4444444444444444,
              "#bd3786"
             ],
             [
              0.5555555555555556,
              "#d8576b"
             ],
             [
              0.6666666666666666,
              "#ed7953"
             ],
             [
              0.7777777777777778,
              "#fb9f3a"
             ],
             [
              0.8888888888888888,
              "#fdca26"
             ],
             [
              1,
              "#f0f921"
             ]
            ],
            "type": "histogram2dcontour"
           }
          ],
          "mesh3d": [
           {
            "colorbar": {
             "outlinewidth": 0,
             "ticks": ""
            },
            "type": "mesh3d"
           }
          ],
          "parcoords": [
           {
            "line": {
             "colorbar": {
              "outlinewidth": 0,
              "ticks": ""
             }
            },
            "type": "parcoords"
           }
          ],
          "pie": [
           {
            "automargin": true,
            "type": "pie"
           }
          ],
          "scatter": [
           {
            "fillpattern": {
             "fillmode": "overlay",
             "size": 10,
             "solidity": 0.2
            },
            "type": "scatter"
           }
          ],
          "scatter3d": [
           {
            "line": {
             "colorbar": {
              "outlinewidth": 0,
              "ticks": ""
             }
            },
            "marker": {
             "colorbar": {
              "outlinewidth": 0,
              "ticks": ""
             }
            },
            "type": "scatter3d"
           }
          ],
          "scattercarpet": [
           {
            "marker": {
             "colorbar": {
              "outlinewidth": 0,
              "ticks": ""
             }
            },
            "type": "scattercarpet"
           }
          ],
          "scattergeo": [
           {
            "marker": {
             "colorbar": {
              "outlinewidth": 0,
              "ticks": ""
             }
            },
            "type": "scattergeo"
           }
          ],
          "scattergl": [
           {
            "marker": {
             "colorbar": {
              "outlinewidth": 0,
              "ticks": ""
             }
            },
            "type": "scattergl"
           }
          ],
          "scattermap": [
           {
            "marker": {
             "colorbar": {
              "outlinewidth": 0,
              "ticks": ""
             }
            },
            "type": "scattermap"
           }
          ],
          "scattermapbox": [
           {
            "marker": {
             "colorbar": {
              "outlinewidth": 0,
              "ticks": ""
             }
            },
            "type": "scattermapbox"
           }
          ],
          "scatterpolar": [
           {
            "marker": {
             "colorbar": {
              "outlinewidth": 0,
              "ticks": ""
             }
            },
            "type": "scatterpolar"
           }
          ],
          "scatterpolargl": [
           {
            "marker": {
             "colorbar": {
              "outlinewidth": 0,
              "ticks": ""
             }
            },
            "type": "scatterpolargl"
           }
          ],
          "scatterternary": [
           {
            "marker": {
             "colorbar": {
              "outlinewidth": 0,
              "ticks": ""
             }
            },
            "type": "scatterternary"
           }
          ],
          "surface": [
           {
            "colorbar": {
             "outlinewidth": 0,
             "ticks": ""
            },
            "colorscale": [
             [
              0,
              "#0d0887"
             ],
             [
              0.1111111111111111,
              "#46039f"
             ],
             [
              0.2222222222222222,
              "#7201a8"
             ],
             [
              0.3333333333333333,
              "#9c179e"
             ],
             [
              0.4444444444444444,
              "#bd3786"
             ],
             [
              0.5555555555555556,
              "#d8576b"
             ],
             [
              0.6666666666666666,
              "#ed7953"
             ],
             [
              0.7777777777777778,
              "#fb9f3a"
             ],
             [
              0.8888888888888888,
              "#fdca26"
             ],
             [
              1,
              "#f0f921"
             ]
            ],
            "type": "surface"
           }
          ],
          "table": [
           {
            "cells": {
             "fill": {
              "color": "#EBF0F8"
             },
             "line": {
              "color": "white"
             }
            },
            "header": {
             "fill": {
              "color": "#C8D4E3"
             },
             "line": {
              "color": "white"
             }
            },
            "type": "table"
           }
          ]
         },
         "layout": {
          "annotationdefaults": {
           "arrowcolor": "#2a3f5f",
           "arrowhead": 0,
           "arrowwidth": 1
          },
          "autotypenumbers": "strict",
          "coloraxis": {
           "colorbar": {
            "outlinewidth": 0,
            "ticks": ""
           }
          },
          "colorscale": {
           "diverging": [
            [
             0,
             "#8e0152"
            ],
            [
             0.1,
             "#c51b7d"
            ],
            [
             0.2,
             "#de77ae"
            ],
            [
             0.3,
             "#f1b6da"
            ],
            [
             0.4,
             "#fde0ef"
            ],
            [
             0.5,
             "#f7f7f7"
            ],
            [
             0.6,
             "#e6f5d0"
            ],
            [
             0.7,
             "#b8e186"
            ],
            [
             0.8,
             "#7fbc41"
            ],
            [
             0.9,
             "#4d9221"
            ],
            [
             1,
             "#276419"
            ]
           ],
           "sequential": [
            [
             0,
             "#0d0887"
            ],
            [
             0.1111111111111111,
             "#46039f"
            ],
            [
             0.2222222222222222,
             "#7201a8"
            ],
            [
             0.3333333333333333,
             "#9c179e"
            ],
            [
             0.4444444444444444,
             "#bd3786"
            ],
            [
             0.5555555555555556,
             "#d8576b"
            ],
            [
             0.6666666666666666,
             "#ed7953"
            ],
            [
             0.7777777777777778,
             "#fb9f3a"
            ],
            [
             0.8888888888888888,
             "#fdca26"
            ],
            [
             1,
             "#f0f921"
            ]
           ],
           "sequentialminus": [
            [
             0,
             "#0d0887"
            ],
            [
             0.1111111111111111,
             "#46039f"
            ],
            [
             0.2222222222222222,
             "#7201a8"
            ],
            [
             0.3333333333333333,
             "#9c179e"
            ],
            [
             0.4444444444444444,
             "#bd3786"
            ],
            [
             0.5555555555555556,
             "#d8576b"
            ],
            [
             0.6666666666666666,
             "#ed7953"
            ],
            [
             0.7777777777777778,
             "#fb9f3a"
            ],
            [
             0.8888888888888888,
             "#fdca26"
            ],
            [
             1,
             "#f0f921"
            ]
           ]
          },
          "colorway": [
           "#636efa",
           "#EF553B",
           "#00cc96",
           "#ab63fa",
           "#FFA15A",
           "#19d3f3",
           "#FF6692",
           "#B6E880",
           "#FF97FF",
           "#FECB52"
          ],
          "font": {
           "color": "#2a3f5f"
          },
          "geo": {
           "bgcolor": "white",
           "lakecolor": "white",
           "landcolor": "#E5ECF6",
           "showlakes": true,
           "showland": true,
           "subunitcolor": "white"
          },
          "hoverlabel": {
           "align": "left"
          },
          "hovermode": "closest",
          "mapbox": {
           "style": "light"
          },
          "paper_bgcolor": "white",
          "plot_bgcolor": "#E5ECF6",
          "polar": {
           "angularaxis": {
            "gridcolor": "white",
            "linecolor": "white",
            "ticks": ""
           },
           "bgcolor": "#E5ECF6",
           "radialaxis": {
            "gridcolor": "white",
            "linecolor": "white",
            "ticks": ""
           }
          },
          "scene": {
           "xaxis": {
            "backgroundcolor": "#E5ECF6",
            "gridcolor": "white",
            "gridwidth": 2,
            "linecolor": "white",
            "showbackground": true,
            "ticks": "",
            "zerolinecolor": "white"
           },
           "yaxis": {
            "backgroundcolor": "#E5ECF6",
            "gridcolor": "white",
            "gridwidth": 2,
            "linecolor": "white",
            "showbackground": true,
            "ticks": "",
            "zerolinecolor": "white"
           },
           "zaxis": {
            "backgroundcolor": "#E5ECF6",
            "gridcolor": "white",
            "gridwidth": 2,
            "linecolor": "white",
            "showbackground": true,
            "ticks": "",
            "zerolinecolor": "white"
           }
          },
          "shapedefaults": {
           "line": {
            "color": "#2a3f5f"
           }
          },
          "ternary": {
           "aaxis": {
            "gridcolor": "white",
            "linecolor": "white",
            "ticks": ""
           },
           "baxis": {
            "gridcolor": "white",
            "linecolor": "white",
            "ticks": ""
           },
           "bgcolor": "#E5ECF6",
           "caxis": {
            "gridcolor": "white",
            "linecolor": "white",
            "ticks": ""
           }
          },
          "title": {
           "x": 0.05
          },
          "xaxis": {
           "automargin": true,
           "gridcolor": "white",
           "linecolor": "white",
           "ticks": "",
           "title": {
            "standoff": 15
           },
           "zerolinecolor": "white",
           "zerolinewidth": 2
          },
          "yaxis": {
           "automargin": true,
           "gridcolor": "white",
           "linecolor": "white",
           "ticks": "",
           "title": {
            "standoff": 15
           },
           "zerolinecolor": "white",
           "zerolinewidth": 2
          }
         }
        },
        "title": {
         "text": "Peso vs. Ataque"
        },
        "xaxis": {
         "anchor": "y",
         "domain": [
          0,
          1
         ],
         "title": {
          "text": "weight_kilograms"
         }
        },
        "yaxis": {
         "anchor": "x",
         "domain": [
          0,
          1
         ],
         "title": {
          "text": "Attack"
         }
        }
       }
      }
     },
     "metadata": {},
     "output_type": "display_data"
    }
   ],
   "source": [
    "weight_attack\n",
    "\n",
    "# Normal e dragon são os que se encaixam melhor na relação."
   ]
  },
  {
   "cell_type": "code",
   "execution_count": 59,
   "id": "e901df57",
   "metadata": {},
   "outputs": [
    {
     "data": {
      "application/vnd.plotly.v1+json": {
       "config": {
        "plotlyServerURL": "https://plot.ly"
       },
       "data": [
        {
         "hovertemplate": "Número de Pokémons=%{x}<br>Tipo de Ataque=%{y}<br>color=%{marker.color}<extra></extra>",
         "legendgroup": "",
         "marker": {
          "color": {
           "bdata": "AABDAIgAiwCPAJIAmwCoALIAuADFANgA/QACAQYBEAESASQB",
           "dtype": "i2"
          },
          "coloraxis": "coloraxis",
          "pattern": {
           "shape": ""
          }
         },
         "name": "",
         "orientation": "h",
         "showlegend": false,
         "textposition": "auto",
         "type": "bar",
         "x": {
          "bdata": "AABDAIgAiwCPAJIAmwCoALIAuADFANgA/QACAQYBEAESASQB",
          "dtype": "i2"
         },
         "xaxis": "x",
         "y": [
          "normal",
          "dragon",
          "psychic",
          "steel",
          "poison",
          "dark",
          "ghost",
          "fairy",
          "water",
          "bug",
          "grass",
          "electric",
          "flying",
          "fighting",
          "fire",
          "rock",
          "ground",
          "ice"
         ],
         "yaxis": "y"
        }
       ],
       "layout": {
        "barmode": "relative",
        "coloraxis": {
         "colorbar": {
          "title": {
           "text": "color"
          }
         },
         "colorscale": [
          [
           0,
           "rgb(255,245,240)"
          ],
          [
           0.125,
           "rgb(254,224,210)"
          ],
          [
           0.25,
           "rgb(252,187,161)"
          ],
          [
           0.375,
           "rgb(252,146,114)"
          ],
          [
           0.5,
           "rgb(251,106,74)"
          ],
          [
           0.625,
           "rgb(239,59,44)"
          ],
          [
           0.75,
           "rgb(203,24,29)"
          ],
          [
           0.875,
           "rgb(165,15,21)"
          ],
          [
           1,
           "rgb(103,0,13)"
          ]
         ]
        },
        "legend": {
         "tracegroupgap": 0
        },
        "template": {
         "data": {
          "bar": [
           {
            "error_x": {
             "color": "#2a3f5f"
            },
            "error_y": {
             "color": "#2a3f5f"
            },
            "marker": {
             "line": {
              "color": "#E5ECF6",
              "width": 0.5
             },
             "pattern": {
              "fillmode": "overlay",
              "size": 10,
              "solidity": 0.2
             }
            },
            "type": "bar"
           }
          ],
          "barpolar": [
           {
            "marker": {
             "line": {
              "color": "#E5ECF6",
              "width": 0.5
             },
             "pattern": {
              "fillmode": "overlay",
              "size": 10,
              "solidity": 0.2
             }
            },
            "type": "barpolar"
           }
          ],
          "carpet": [
           {
            "aaxis": {
             "endlinecolor": "#2a3f5f",
             "gridcolor": "white",
             "linecolor": "white",
             "minorgridcolor": "white",
             "startlinecolor": "#2a3f5f"
            },
            "baxis": {
             "endlinecolor": "#2a3f5f",
             "gridcolor": "white",
             "linecolor": "white",
             "minorgridcolor": "white",
             "startlinecolor": "#2a3f5f"
            },
            "type": "carpet"
           }
          ],
          "choropleth": [
           {
            "colorbar": {
             "outlinewidth": 0,
             "ticks": ""
            },
            "type": "choropleth"
           }
          ],
          "contour": [
           {
            "colorbar": {
             "outlinewidth": 0,
             "ticks": ""
            },
            "colorscale": [
             [
              0,
              "#0d0887"
             ],
             [
              0.1111111111111111,
              "#46039f"
             ],
             [
              0.2222222222222222,
              "#7201a8"
             ],
             [
              0.3333333333333333,
              "#9c179e"
             ],
             [
              0.4444444444444444,
              "#bd3786"
             ],
             [
              0.5555555555555556,
              "#d8576b"
             ],
             [
              0.6666666666666666,
              "#ed7953"
             ],
             [
              0.7777777777777778,
              "#fb9f3a"
             ],
             [
              0.8888888888888888,
              "#fdca26"
             ],
             [
              1,
              "#f0f921"
             ]
            ],
            "type": "contour"
           }
          ],
          "contourcarpet": [
           {
            "colorbar": {
             "outlinewidth": 0,
             "ticks": ""
            },
            "type": "contourcarpet"
           }
          ],
          "heatmap": [
           {
            "colorbar": {
             "outlinewidth": 0,
             "ticks": ""
            },
            "colorscale": [
             [
              0,
              "#0d0887"
             ],
             [
              0.1111111111111111,
              "#46039f"
             ],
             [
              0.2222222222222222,
              "#7201a8"
             ],
             [
              0.3333333333333333,
              "#9c179e"
             ],
             [
              0.4444444444444444,
              "#bd3786"
             ],
             [
              0.5555555555555556,
              "#d8576b"
             ],
             [
              0.6666666666666666,
              "#ed7953"
             ],
             [
              0.7777777777777778,
              "#fb9f3a"
             ],
             [
              0.8888888888888888,
              "#fdca26"
             ],
             [
              1,
              "#f0f921"
             ]
            ],
            "type": "heatmap"
           }
          ],
          "histogram": [
           {
            "marker": {
             "pattern": {
              "fillmode": "overlay",
              "size": 10,
              "solidity": 0.2
             }
            },
            "type": "histogram"
           }
          ],
          "histogram2d": [
           {
            "colorbar": {
             "outlinewidth": 0,
             "ticks": ""
            },
            "colorscale": [
             [
              0,
              "#0d0887"
             ],
             [
              0.1111111111111111,
              "#46039f"
             ],
             [
              0.2222222222222222,
              "#7201a8"
             ],
             [
              0.3333333333333333,
              "#9c179e"
             ],
             [
              0.4444444444444444,
              "#bd3786"
             ],
             [
              0.5555555555555556,
              "#d8576b"
             ],
             [
              0.6666666666666666,
              "#ed7953"
             ],
             [
              0.7777777777777778,
              "#fb9f3a"
             ],
             [
              0.8888888888888888,
              "#fdca26"
             ],
             [
              1,
              "#f0f921"
             ]
            ],
            "type": "histogram2d"
           }
          ],
          "histogram2dcontour": [
           {
            "colorbar": {
             "outlinewidth": 0,
             "ticks": ""
            },
            "colorscale": [
             [
              0,
              "#0d0887"
             ],
             [
              0.1111111111111111,
              "#46039f"
             ],
             [
              0.2222222222222222,
              "#7201a8"
             ],
             [
              0.3333333333333333,
              "#9c179e"
             ],
             [
              0.4444444444444444,
              "#bd3786"
             ],
             [
              0.5555555555555556,
              "#d8576b"
             ],
             [
              0.6666666666666666,
              "#ed7953"
             ],
             [
              0.7777777777777778,
              "#fb9f3a"
             ],
             [
              0.8888888888888888,
              "#fdca26"
             ],
             [
              1,
              "#f0f921"
             ]
            ],
            "type": "histogram2dcontour"
           }
          ],
          "mesh3d": [
           {
            "colorbar": {
             "outlinewidth": 0,
             "ticks": ""
            },
            "type": "mesh3d"
           }
          ],
          "parcoords": [
           {
            "line": {
             "colorbar": {
              "outlinewidth": 0,
              "ticks": ""
             }
            },
            "type": "parcoords"
           }
          ],
          "pie": [
           {
            "automargin": true,
            "type": "pie"
           }
          ],
          "scatter": [
           {
            "fillpattern": {
             "fillmode": "overlay",
             "size": 10,
             "solidity": 0.2
            },
            "type": "scatter"
           }
          ],
          "scatter3d": [
           {
            "line": {
             "colorbar": {
              "outlinewidth": 0,
              "ticks": ""
             }
            },
            "marker": {
             "colorbar": {
              "outlinewidth": 0,
              "ticks": ""
             }
            },
            "type": "scatter3d"
           }
          ],
          "scattercarpet": [
           {
            "marker": {
             "colorbar": {
              "outlinewidth": 0,
              "ticks": ""
             }
            },
            "type": "scattercarpet"
           }
          ],
          "scattergeo": [
           {
            "marker": {
             "colorbar": {
              "outlinewidth": 0,
              "ticks": ""
             }
            },
            "type": "scattergeo"
           }
          ],
          "scattergl": [
           {
            "marker": {
             "colorbar": {
              "outlinewidth": 0,
              "ticks": ""
             }
            },
            "type": "scattergl"
           }
          ],
          "scattermap": [
           {
            "marker": {
             "colorbar": {
              "outlinewidth": 0,
              "ticks": ""
             }
            },
            "type": "scattermap"
           }
          ],
          "scattermapbox": [
           {
            "marker": {
             "colorbar": {
              "outlinewidth": 0,
              "ticks": ""
             }
            },
            "type": "scattermapbox"
           }
          ],
          "scatterpolar": [
           {
            "marker": {
             "colorbar": {
              "outlinewidth": 0,
              "ticks": ""
             }
            },
            "type": "scatterpolar"
           }
          ],
          "scatterpolargl": [
           {
            "marker": {
             "colorbar": {
              "outlinewidth": 0,
              "ticks": ""
             }
            },
            "type": "scatterpolargl"
           }
          ],
          "scatterternary": [
           {
            "marker": {
             "colorbar": {
              "outlinewidth": 0,
              "ticks": ""
             }
            },
            "type": "scatterternary"
           }
          ],
          "surface": [
           {
            "colorbar": {
             "outlinewidth": 0,
             "ticks": ""
            },
            "colorscale": [
             [
              0,
              "#0d0887"
             ],
             [
              0.1111111111111111,
              "#46039f"
             ],
             [
              0.2222222222222222,
              "#7201a8"
             ],
             [
              0.3333333333333333,
              "#9c179e"
             ],
             [
              0.4444444444444444,
              "#bd3786"
             ],
             [
              0.5555555555555556,
              "#d8576b"
             ],
             [
              0.6666666666666666,
              "#ed7953"
             ],
             [
              0.7777777777777778,
              "#fb9f3a"
             ],
             [
              0.8888888888888888,
              "#fdca26"
             ],
             [
              1,
              "#f0f921"
             ]
            ],
            "type": "surface"
           }
          ],
          "table": [
           {
            "cells": {
             "fill": {
              "color": "#EBF0F8"
             },
             "line": {
              "color": "white"
             }
            },
            "header": {
             "fill": {
              "color": "#C8D4E3"
             },
             "line": {
              "color": "white"
             }
            },
            "type": "table"
           }
          ]
         },
         "layout": {
          "annotationdefaults": {
           "arrowcolor": "#2a3f5f",
           "arrowhead": 0,
           "arrowwidth": 1
          },
          "autotypenumbers": "strict",
          "coloraxis": {
           "colorbar": {
            "outlinewidth": 0,
            "ticks": ""
           }
          },
          "colorscale": {
           "diverging": [
            [
             0,
             "#8e0152"
            ],
            [
             0.1,
             "#c51b7d"
            ],
            [
             0.2,
             "#de77ae"
            ],
            [
             0.3,
             "#f1b6da"
            ],
            [
             0.4,
             "#fde0ef"
            ],
            [
             0.5,
             "#f7f7f7"
            ],
            [
             0.6,
             "#e6f5d0"
            ],
            [
             0.7,
             "#b8e186"
            ],
            [
             0.8,
             "#7fbc41"
            ],
            [
             0.9,
             "#4d9221"
            ],
            [
             1,
             "#276419"
            ]
           ],
           "sequential": [
            [
             0,
             "#0d0887"
            ],
            [
             0.1111111111111111,
             "#46039f"
            ],
            [
             0.2222222222222222,
             "#7201a8"
            ],
            [
             0.3333333333333333,
             "#9c179e"
            ],
            [
             0.4444444444444444,
             "#bd3786"
            ],
            [
             0.5555555555555556,
             "#d8576b"
            ],
            [
             0.6666666666666666,
             "#ed7953"
            ],
            [
             0.7777777777777778,
             "#fb9f3a"
            ],
            [
             0.8888888888888888,
             "#fdca26"
            ],
            [
             1,
             "#f0f921"
            ]
           ],
           "sequentialminus": [
            [
             0,
             "#0d0887"
            ],
            [
             0.1111111111111111,
             "#46039f"
            ],
            [
             0.2222222222222222,
             "#7201a8"
            ],
            [
             0.3333333333333333,
             "#9c179e"
            ],
            [
             0.4444444444444444,
             "#bd3786"
            ],
            [
             0.5555555555555556,
             "#d8576b"
            ],
            [
             0.6666666666666666,
             "#ed7953"
            ],
            [
             0.7777777777777778,
             "#fb9f3a"
            ],
            [
             0.8888888888888888,
             "#fdca26"
            ],
            [
             1,
             "#f0f921"
            ]
           ]
          },
          "colorway": [
           "#636efa",
           "#EF553B",
           "#00cc96",
           "#ab63fa",
           "#FFA15A",
           "#19d3f3",
           "#FF6692",
           "#B6E880",
           "#FF97FF",
           "#FECB52"
          ],
          "font": {
           "color": "#2a3f5f"
          },
          "geo": {
           "bgcolor": "white",
           "lakecolor": "white",
           "landcolor": "#E5ECF6",
           "showlakes": true,
           "showland": true,
           "subunitcolor": "white"
          },
          "hoverlabel": {
           "align": "left"
          },
          "hovermode": "closest",
          "mapbox": {
           "style": "light"
          },
          "paper_bgcolor": "white",
          "plot_bgcolor": "#E5ECF6",
          "polar": {
           "angularaxis": {
            "gridcolor": "white",
            "linecolor": "white",
            "ticks": ""
           },
           "bgcolor": "#E5ECF6",
           "radialaxis": {
            "gridcolor": "white",
            "linecolor": "white",
            "ticks": ""
           }
          },
          "scene": {
           "xaxis": {
            "backgroundcolor": "#E5ECF6",
            "gridcolor": "white",
            "gridwidth": 2,
            "linecolor": "white",
            "showbackground": true,
            "ticks": "",
            "zerolinecolor": "white"
           },
           "yaxis": {
            "backgroundcolor": "#E5ECF6",
            "gridcolor": "white",
            "gridwidth": 2,
            "linecolor": "white",
            "showbackground": true,
            "ticks": "",
            "zerolinecolor": "white"
           },
           "zaxis": {
            "backgroundcolor": "#E5ECF6",
            "gridcolor": "white",
            "gridwidth": 2,
            "linecolor": "white",
            "showbackground": true,
            "ticks": "",
            "zerolinecolor": "white"
           }
          },
          "shapedefaults": {
           "line": {
            "color": "#2a3f5f"
           }
          },
          "ternary": {
           "aaxis": {
            "gridcolor": "white",
            "linecolor": "white",
            "ticks": ""
           },
           "baxis": {
            "gridcolor": "white",
            "linecolor": "white",
            "ticks": ""
           },
           "bgcolor": "#E5ECF6",
           "caxis": {
            "gridcolor": "white",
            "linecolor": "white",
            "ticks": ""
           }
          },
          "title": {
           "x": 0.05
          },
          "xaxis": {
           "automargin": true,
           "gridcolor": "white",
           "linecolor": "white",
           "ticks": "",
           "title": {
            "standoff": 15
           },
           "zerolinecolor": "white",
           "zerolinewidth": 2
          },
          "yaxis": {
           "automargin": true,
           "gridcolor": "white",
           "linecolor": "white",
           "ticks": "",
           "title": {
            "standoff": 15
           },
           "zerolinecolor": "white",
           "zerolinewidth": 2
          }
         }
        },
        "title": {
         "text": "Pokémons com Fraqueza (Multiplicador ≥ 2x)"
        },
        "xaxis": {
         "anchor": "y",
         "domain": [
          0,
          1
         ],
         "title": {
          "text": "Número de Pokémons"
         }
        },
        "yaxis": {
         "anchor": "x",
         "categoryorder": "total ascending",
         "domain": [
          0,
          1
         ],
         "title": {
          "text": "Tipo de Ataque"
         }
        }
       }
      }
     },
     "metadata": {},
     "output_type": "display_data"
    }
   ],
   "source": [
    "weakness_counts = (df[[col for col in df.columns if '_weakness' in col]] >= 2).sum().sort_values()\n",
    "\n",
    "# Criar gráfico\n",
    "fig1 = px.bar(\n",
    "    x=weakness_counts.values,\n",
    "    y=[col.replace('_weakness', '') for col in weakness_counts.index],\n",
    "    orientation='h',\n",
    "    title='Pokémons com Fraqueza (Multiplicador ≥ 2x)',\n",
    "    labels={'x': 'Número de Pokémons', 'y': 'Tipo de Ataque'},\n",
    "    color=weakness_counts.values,\n",
    "    color_continuous_scale='reds'\n",
    ")\n",
    "\n",
    "fig1.update_layout(yaxis={'categoryorder':'total ascending'})\n",
    "fig1.show()"
   ]
  },
  {
   "cell_type": "code",
   "execution_count": 60,
   "id": "9674be7d",
   "metadata": {},
   "outputs": [
    {
     "data": {
      "application/vnd.plotly.v1+json": {
       "config": {
        "plotlyServerURL": "https://plot.ly"
       },
       "data": [
        {
         "coloraxis": "coloraxis",
         "hovertemplate": "Tipo de Ataque: %{x}<br>Tipo Primário: %{y}<br>% com Fraqueza: %{z}<extra></extra>",
         "name": "0",
         "type": "heatmap",
         "x": [
          "normal_weakness",
          "fire_weakness",
          "water_weakness",
          "electric_weakness",
          "grass_weakness",
          "ice_weakness",
          "fighting_weakness",
          "poison_weakness",
          "ground_weakness",
          "flying_weakness",
          "psychic_weakness",
          "bug_weakness",
          "rock_weakness",
          "ghost_weakness",
          "dragon_weakness",
          "dark_weakness",
          "steel_weakness",
          "fairy_weakness"
         ],
         "xaxis": "x",
         "y": [
          "Bug",
          "Dark",
          "Dragon",
          "Electric",
          "Fairy",
          "Fighting",
          "Fire",
          "Flying",
          "Ghost",
          "Grass",
          "Ground",
          "Ice",
          "Normal",
          "Poison",
          "Psychic",
          "Rock",
          "Steel",
          "Water"
         ],
         "yaxis": "y",
         "z": {
          "bdata": "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",
          "dtype": "f8",
          "shape": "18, 18"
         }
        }
       ],
       "layout": {
        "coloraxis": {
         "colorbar": {
          "title": {
           "text": "% com Fraqueza"
          }
         },
         "colorscale": [
          [
           0,
           "#440154"
          ],
          [
           0.1111111111111111,
           "#482878"
          ],
          [
           0.2222222222222222,
           "#3e4989"
          ],
          [
           0.3333333333333333,
           "#31688e"
          ],
          [
           0.4444444444444444,
           "#26828e"
          ],
          [
           0.5555555555555556,
           "#1f9e89"
          ],
          [
           0.6666666666666666,
           "#35b779"
          ],
          [
           0.7777777777777778,
           "#6ece58"
          ],
          [
           0.8888888888888888,
           "#b5de2b"
          ],
          [
           1,
           "#fde725"
          ]
         ]
        },
        "template": {
         "data": {
          "bar": [
           {
            "error_x": {
             "color": "#2a3f5f"
            },
            "error_y": {
             "color": "#2a3f5f"
            },
            "marker": {
             "line": {
              "color": "#E5ECF6",
              "width": 0.5
             },
             "pattern": {
              "fillmode": "overlay",
              "size": 10,
              "solidity": 0.2
             }
            },
            "type": "bar"
           }
          ],
          "barpolar": [
           {
            "marker": {
             "line": {
              "color": "#E5ECF6",
              "width": 0.5
             },
             "pattern": {
              "fillmode": "overlay",
              "size": 10,
              "solidity": 0.2
             }
            },
            "type": "barpolar"
           }
          ],
          "carpet": [
           {
            "aaxis": {
             "endlinecolor": "#2a3f5f",
             "gridcolor": "white",
             "linecolor": "white",
             "minorgridcolor": "white",
             "startlinecolor": "#2a3f5f"
            },
            "baxis": {
             "endlinecolor": "#2a3f5f",
             "gridcolor": "white",
             "linecolor": "white",
             "minorgridcolor": "white",
             "startlinecolor": "#2a3f5f"
            },
            "type": "carpet"
           }
          ],
          "choropleth": [
           {
            "colorbar": {
             "outlinewidth": 0,
             "ticks": ""
            },
            "type": "choropleth"
           }
          ],
          "contour": [
           {
            "colorbar": {
             "outlinewidth": 0,
             "ticks": ""
            },
            "colorscale": [
             [
              0,
              "#0d0887"
             ],
             [
              0.1111111111111111,
              "#46039f"
             ],
             [
              0.2222222222222222,
              "#7201a8"
             ],
             [
              0.3333333333333333,
              "#9c179e"
             ],
             [
              0.4444444444444444,
              "#bd3786"
             ],
             [
              0.5555555555555556,
              "#d8576b"
             ],
             [
              0.6666666666666666,
              "#ed7953"
             ],
             [
              0.7777777777777778,
              "#fb9f3a"
             ],
             [
              0.8888888888888888,
              "#fdca26"
             ],
             [
              1,
              "#f0f921"
             ]
            ],
            "type": "contour"
           }
          ],
          "contourcarpet": [
           {
            "colorbar": {
             "outlinewidth": 0,
             "ticks": ""
            },
            "type": "contourcarpet"
           }
          ],
          "heatmap": [
           {
            "colorbar": {
             "outlinewidth": 0,
             "ticks": ""
            },
            "colorscale": [
             [
              0,
              "#0d0887"
             ],
             [
              0.1111111111111111,
              "#46039f"
             ],
             [
              0.2222222222222222,
              "#7201a8"
             ],
             [
              0.3333333333333333,
              "#9c179e"
             ],
             [
              0.4444444444444444,
              "#bd3786"
             ],
             [
              0.5555555555555556,
              "#d8576b"
             ],
             [
              0.6666666666666666,
              "#ed7953"
             ],
             [
              0.7777777777777778,
              "#fb9f3a"
             ],
             [
              0.8888888888888888,
              "#fdca26"
             ],
             [
              1,
              "#f0f921"
             ]
            ],
            "type": "heatmap"
           }
          ],
          "histogram": [
           {
            "marker": {
             "pattern": {
              "fillmode": "overlay",
              "size": 10,
              "solidity": 0.2
             }
            },
            "type": "histogram"
           }
          ],
          "histogram2d": [
           {
            "colorbar": {
             "outlinewidth": 0,
             "ticks": ""
            },
            "colorscale": [
             [
              0,
              "#0d0887"
             ],
             [
              0.1111111111111111,
              "#46039f"
             ],
             [
              0.2222222222222222,
              "#7201a8"
             ],
             [
              0.3333333333333333,
              "#9c179e"
             ],
             [
              0.4444444444444444,
              "#bd3786"
             ],
             [
              0.5555555555555556,
              "#d8576b"
             ],
             [
              0.6666666666666666,
              "#ed7953"
             ],
             [
              0.7777777777777778,
              "#fb9f3a"
             ],
             [
              0.8888888888888888,
              "#fdca26"
             ],
             [
              1,
              "#f0f921"
             ]
            ],
            "type": "histogram2d"
           }
          ],
          "histogram2dcontour": [
           {
            "colorbar": {
             "outlinewidth": 0,
             "ticks": ""
            },
            "colorscale": [
             [
              0,
              "#0d0887"
             ],
             [
              0.1111111111111111,
              "#46039f"
             ],
             [
              0.2222222222222222,
              "#7201a8"
             ],
             [
              0.3333333333333333,
              "#9c179e"
             ],
             [
              0.4444444444444444,
              "#bd3786"
             ],
             [
              0.5555555555555556,
              "#d8576b"
             ],
             [
              0.6666666666666666,
              "#ed7953"
             ],
             [
              0.7777777777777778,
              "#fb9f3a"
             ],
             [
              0.8888888888888888,
              "#fdca26"
             ],
             [
              1,
              "#f0f921"
             ]
            ],
            "type": "histogram2dcontour"
           }
          ],
          "mesh3d": [
           {
            "colorbar": {
             "outlinewidth": 0,
             "ticks": ""
            },
            "type": "mesh3d"
           }
          ],
          "parcoords": [
           {
            "line": {
             "colorbar": {
              "outlinewidth": 0,
              "ticks": ""
             }
            },
            "type": "parcoords"
           }
          ],
          "pie": [
           {
            "automargin": true,
            "type": "pie"
           }
          ],
          "scatter": [
           {
            "fillpattern": {
             "fillmode": "overlay",
             "size": 10,
             "solidity": 0.2
            },
            "type": "scatter"
           }
          ],
          "scatter3d": [
           {
            "line": {
             "colorbar": {
              "outlinewidth": 0,
              "ticks": ""
             }
            },
            "marker": {
             "colorbar": {
              "outlinewidth": 0,
              "ticks": ""
             }
            },
            "type": "scatter3d"
           }
          ],
          "scattercarpet": [
           {
            "marker": {
             "colorbar": {
              "outlinewidth": 0,
              "ticks": ""
             }
            },
            "type": "scattercarpet"
           }
          ],
          "scattergeo": [
           {
            "marker": {
             "colorbar": {
              "outlinewidth": 0,
              "ticks": ""
             }
            },
            "type": "scattergeo"
           }
          ],
          "scattergl": [
           {
            "marker": {
             "colorbar": {
              "outlinewidth": 0,
              "ticks": ""
             }
            },
            "type": "scattergl"
           }
          ],
          "scattermap": [
           {
            "marker": {
             "colorbar": {
              "outlinewidth": 0,
              "ticks": ""
             }
            },
            "type": "scattermap"
           }
          ],
          "scattermapbox": [
           {
            "marker": {
             "colorbar": {
              "outlinewidth": 0,
              "ticks": ""
             }
            },
            "type": "scattermapbox"
           }
          ],
          "scatterpolar": [
           {
            "marker": {
             "colorbar": {
              "outlinewidth": 0,
              "ticks": ""
             }
            },
            "type": "scatterpolar"
           }
          ],
          "scatterpolargl": [
           {
            "marker": {
             "colorbar": {
              "outlinewidth": 0,
              "ticks": ""
             }
            },
            "type": "scatterpolargl"
           }
          ],
          "scatterternary": [
           {
            "marker": {
             "colorbar": {
              "outlinewidth": 0,
              "ticks": ""
             }
            },
            "type": "scatterternary"
           }
          ],
          "surface": [
           {
            "colorbar": {
             "outlinewidth": 0,
             "ticks": ""
            },
            "colorscale": [
             [
              0,
              "#0d0887"
             ],
             [
              0.1111111111111111,
              "#46039f"
             ],
             [
              0.2222222222222222,
              "#7201a8"
             ],
             [
              0.3333333333333333,
              "#9c179e"
             ],
             [
              0.4444444444444444,
              "#bd3786"
             ],
             [
              0.5555555555555556,
              "#d8576b"
             ],
             [
              0.6666666666666666,
              "#ed7953"
             ],
             [
              0.7777777777777778,
              "#fb9f3a"
             ],
             [
              0.8888888888888888,
              "#fdca26"
             ],
             [
              1,
              "#f0f921"
             ]
            ],
            "type": "surface"
           }
          ],
          "table": [
           {
            "cells": {
             "fill": {
              "color": "#EBF0F8"
             },
             "line": {
              "color": "white"
             }
            },
            "header": {
             "fill": {
              "color": "#C8D4E3"
             },
             "line": {
              "color": "white"
             }
            },
            "type": "table"
           }
          ]
         },
         "layout": {
          "annotationdefaults": {
           "arrowcolor": "#2a3f5f",
           "arrowhead": 0,
           "arrowwidth": 1
          },
          "autotypenumbers": "strict",
          "coloraxis": {
           "colorbar": {
            "outlinewidth": 0,
            "ticks": ""
           }
          },
          "colorscale": {
           "diverging": [
            [
             0,
             "#8e0152"
            ],
            [
             0.1,
             "#c51b7d"
            ],
            [
             0.2,
             "#de77ae"
            ],
            [
             0.3,
             "#f1b6da"
            ],
            [
             0.4,
             "#fde0ef"
            ],
            [
             0.5,
             "#f7f7f7"
            ],
            [
             0.6,
             "#e6f5d0"
            ],
            [
             0.7,
             "#b8e186"
            ],
            [
             0.8,
             "#7fbc41"
            ],
            [
             0.9,
             "#4d9221"
            ],
            [
             1,
             "#276419"
            ]
           ],
           "sequential": [
            [
             0,
             "#0d0887"
            ],
            [
             0.1111111111111111,
             "#46039f"
            ],
            [
             0.2222222222222222,
             "#7201a8"
            ],
            [
             0.3333333333333333,
             "#9c179e"
            ],
            [
             0.4444444444444444,
             "#bd3786"
            ],
            [
             0.5555555555555556,
             "#d8576b"
            ],
            [
             0.6666666666666666,
             "#ed7953"
            ],
            [
             0.7777777777777778,
             "#fb9f3a"
            ],
            [
             0.8888888888888888,
             "#fdca26"
            ],
            [
             1,
             "#f0f921"
            ]
           ],
           "sequentialminus": [
            [
             0,
             "#0d0887"
            ],
            [
             0.1111111111111111,
             "#46039f"
            ],
            [
             0.2222222222222222,
             "#7201a8"
            ],
            [
             0.3333333333333333,
             "#9c179e"
            ],
            [
             0.4444444444444444,
             "#bd3786"
            ],
            [
             0.5555555555555556,
             "#d8576b"
            ],
            [
             0.6666666666666666,
             "#ed7953"
            ],
            [
             0.7777777777777778,
             "#fb9f3a"
            ],
            [
             0.8888888888888888,
             "#fdca26"
            ],
            [
             1,
             "#f0f921"
            ]
           ]
          },
          "colorway": [
           "#636efa",
           "#EF553B",
           "#00cc96",
           "#ab63fa",
           "#FFA15A",
           "#19d3f3",
           "#FF6692",
           "#B6E880",
           "#FF97FF",
           "#FECB52"
          ],
          "font": {
           "color": "#2a3f5f"
          },
          "geo": {
           "bgcolor": "white",
           "lakecolor": "white",
           "landcolor": "#E5ECF6",
           "showlakes": true,
           "showland": true,
           "subunitcolor": "white"
          },
          "hoverlabel": {
           "align": "left"
          },
          "hovermode": "closest",
          "mapbox": {
           "style": "light"
          },
          "paper_bgcolor": "white",
          "plot_bgcolor": "#E5ECF6",
          "polar": {
           "angularaxis": {
            "gridcolor": "white",
            "linecolor": "white",
            "ticks": ""
           },
           "bgcolor": "#E5ECF6",
           "radialaxis": {
            "gridcolor": "white",
            "linecolor": "white",
            "ticks": ""
           }
          },
          "scene": {
           "xaxis": {
            "backgroundcolor": "#E5ECF6",
            "gridcolor": "white",
            "gridwidth": 2,
            "linecolor": "white",
            "showbackground": true,
            "ticks": "",
            "zerolinecolor": "white"
           },
           "yaxis": {
            "backgroundcolor": "#E5ECF6",
            "gridcolor": "white",
            "gridwidth": 2,
            "linecolor": "white",
            "showbackground": true,
            "ticks": "",
            "zerolinecolor": "white"
           },
           "zaxis": {
            "backgroundcolor": "#E5ECF6",
            "gridcolor": "white",
            "gridwidth": 2,
            "linecolor": "white",
            "showbackground": true,
            "ticks": "",
            "zerolinecolor": "white"
           }
          },
          "shapedefaults": {
           "line": {
            "color": "#2a3f5f"
           }
          },
          "ternary": {
           "aaxis": {
            "gridcolor": "white",
            "linecolor": "white",
            "ticks": ""
           },
           "baxis": {
            "gridcolor": "white",
            "linecolor": "white",
            "ticks": ""
           },
           "bgcolor": "#E5ECF6",
           "caxis": {
            "gridcolor": "white",
            "linecolor": "white",
            "ticks": ""
           }
          },
          "title": {
           "x": 0.05
          },
          "xaxis": {
           "automargin": true,
           "gridcolor": "white",
           "linecolor": "white",
           "ticks": "",
           "title": {
            "standoff": 15
           },
           "zerolinecolor": "white",
           "zerolinewidth": 2
          },
          "yaxis": {
           "automargin": true,
           "gridcolor": "white",
           "linecolor": "white",
           "ticks": "",
           "title": {
            "standoff": 15
           },
           "zerolinecolor": "white",
           "zerolinewidth": 2
          }
         }
        },
        "title": {
         "text": "Relação entre tipos e fraquezas"
        },
        "xaxis": {
         "anchor": "y",
         "domain": [
          0,
          1
         ],
         "side": "top",
         "title": {
          "text": "Tipo de Ataque"
         }
        },
        "yaxis": {
         "anchor": "x",
         "autorange": "reversed",
         "domain": [
          0,
          1
         ],
         "title": {
          "text": "Tipo Primário"
         }
        }
       }
      }
     },
     "metadata": {},
     "output_type": "display_data"
    }
   ],
   "source": [
    "# Agrupar por Type 1 e calcular % de fraquezas dos pokemon\n",
    "type_weakness_pct = (\n",
    "    df.groupby('Type 1')[[col for col in df.columns if '_weakness' in col]]\n",
    "    .apply(lambda x: x.mean())  # % de Pokémons com fraqueza\n",
    ")\n",
    "\n",
    "# Heatmap\n",
    "type_weakness_fig = px.imshow(\n",
    "    type_weakness_pct,\n",
    "    title='Relação entre tipos e fraquezas',\n",
    "    labels=dict(x=\"Tipo de Ataque\", y=\"Tipo Primário\", color=\"% com Fraqueza\"),\n",
    "    color_continuous_scale='viridis',\n",
    "    aspect=\"auto\"\n",
    ")\n",
    "\n",
    "type_weakness_fig.update_xaxes(side=\"top\")\n",
    "type_weakness_fig.show()"
   ]
  },
  {
   "cell_type": "markdown",
   "id": "414335de",
   "metadata": {},
   "source": [
    "### Sofrem para atacar.\n",
    "\n",
    "Aqui vamos ver os tipos que sofrem com a maior recorrência de resistência.\n",
    "Isto é, contaremos quantos pokémon são resistentes a seus ataques."
   ]
  },
  {
   "cell_type": "code",
   "execution_count": 61,
   "id": "226241e9",
   "metadata": {},
   "outputs": [
    {
     "data": {
      "application/vnd.plotly.v1+json": {
       "config": {
        "plotlyServerURL": "https://plot.ly"
       },
       "data": [
        {
         "hovertemplate": "Número de Pokémons=%{x}<br>Tipo de Ataque=%{y}<br>color=%{marker.color}<extra></extra>",
         "legendgroup": "",
         "marker": {
          "color": {
           "bdata": "eACqALAAswC/AMEAwwDXAPwAFQEgASYBLAEuAT0BWwF5AcAB",
           "dtype": "i2"
          },
          "coloraxis": "coloraxis",
          "pattern": {
           "shape": ""
          }
         },
         "name": "",
         "orientation": "h",
         "showlegend": false,
         "textposition": "auto",
         "type": "bar",
         "x": {
          "bdata": "eACqALAAswC/AMEAwwDXAPwAFQEgASYBLAEuAT0BWwF5AcAB",
          "dtype": "i2"
         },
         "xaxis": "x",
         "y": [
          "dragon",
          "flying",
          "rock",
          "dark",
          "fairy",
          "normal",
          "ghost",
          "psychic",
          "ground",
          "ice",
          "poison",
          "electric",
          "water",
          "fire",
          "steel",
          "fighting",
          "bug",
          "grass"
         ],
         "yaxis": "y"
        }
       ],
       "layout": {
        "barmode": "relative",
        "coloraxis": {
         "colorbar": {
          "title": {
           "text": "color"
          }
         },
         "colorscale": [
          [
           0,
           "rgb(247,251,255)"
          ],
          [
           0.125,
           "rgb(222,235,247)"
          ],
          [
           0.25,
           "rgb(198,219,239)"
          ],
          [
           0.375,
           "rgb(158,202,225)"
          ],
          [
           0.5,
           "rgb(107,174,214)"
          ],
          [
           0.625,
           "rgb(66,146,198)"
          ],
          [
           0.75,
           "rgb(33,113,181)"
          ],
          [
           0.875,
           "rgb(8,81,156)"
          ],
          [
           1,
           "rgb(8,48,107)"
          ]
         ]
        },
        "legend": {
         "tracegroupgap": 0
        },
        "template": {
         "data": {
          "bar": [
           {
            "error_x": {
             "color": "#2a3f5f"
            },
            "error_y": {
             "color": "#2a3f5f"
            },
            "marker": {
             "line": {
              "color": "#E5ECF6",
              "width": 0.5
             },
             "pattern": {
              "fillmode": "overlay",
              "size": 10,
              "solidity": 0.2
             }
            },
            "type": "bar"
           }
          ],
          "barpolar": [
           {
            "marker": {
             "line": {
              "color": "#E5ECF6",
              "width": 0.5
             },
             "pattern": {
              "fillmode": "overlay",
              "size": 10,
              "solidity": 0.2
             }
            },
            "type": "barpolar"
           }
          ],
          "carpet": [
           {
            "aaxis": {
             "endlinecolor": "#2a3f5f",
             "gridcolor": "white",
             "linecolor": "white",
             "minorgridcolor": "white",
             "startlinecolor": "#2a3f5f"
            },
            "baxis": {
             "endlinecolor": "#2a3f5f",
             "gridcolor": "white",
             "linecolor": "white",
             "minorgridcolor": "white",
             "startlinecolor": "#2a3f5f"
            },
            "type": "carpet"
           }
          ],
          "choropleth": [
           {
            "colorbar": {
             "outlinewidth": 0,
             "ticks": ""
            },
            "type": "choropleth"
           }
          ],
          "contour": [
           {
            "colorbar": {
             "outlinewidth": 0,
             "ticks": ""
            },
            "colorscale": [
             [
              0,
              "#0d0887"
             ],
             [
              0.1111111111111111,
              "#46039f"
             ],
             [
              0.2222222222222222,
              "#7201a8"
             ],
             [
              0.3333333333333333,
              "#9c179e"
             ],
             [
              0.4444444444444444,
              "#bd3786"
             ],
             [
              0.5555555555555556,
              "#d8576b"
             ],
             [
              0.6666666666666666,
              "#ed7953"
             ],
             [
              0.7777777777777778,
              "#fb9f3a"
             ],
             [
              0.8888888888888888,
              "#fdca26"
             ],
             [
              1,
              "#f0f921"
             ]
            ],
            "type": "contour"
           }
          ],
          "contourcarpet": [
           {
            "colorbar": {
             "outlinewidth": 0,
             "ticks": ""
            },
            "type": "contourcarpet"
           }
          ],
          "heatmap": [
           {
            "colorbar": {
             "outlinewidth": 0,
             "ticks": ""
            },
            "colorscale": [
             [
              0,
              "#0d0887"
             ],
             [
              0.1111111111111111,
              "#46039f"
             ],
             [
              0.2222222222222222,
              "#7201a8"
             ],
             [
              0.3333333333333333,
              "#9c179e"
             ],
             [
              0.4444444444444444,
              "#bd3786"
             ],
             [
              0.5555555555555556,
              "#d8576b"
             ],
             [
              0.6666666666666666,
              "#ed7953"
             ],
             [
              0.7777777777777778,
              "#fb9f3a"
             ],
             [
              0.8888888888888888,
              "#fdca26"
             ],
             [
              1,
              "#f0f921"
             ]
            ],
            "type": "heatmap"
           }
          ],
          "histogram": [
           {
            "marker": {
             "pattern": {
              "fillmode": "overlay",
              "size": 10,
              "solidity": 0.2
             }
            },
            "type": "histogram"
           }
          ],
          "histogram2d": [
           {
            "colorbar": {
             "outlinewidth": 0,
             "ticks": ""
            },
            "colorscale": [
             [
              0,
              "#0d0887"
             ],
             [
              0.1111111111111111,
              "#46039f"
             ],
             [
              0.2222222222222222,
              "#7201a8"
             ],
             [
              0.3333333333333333,
              "#9c179e"
             ],
             [
              0.4444444444444444,
              "#bd3786"
             ],
             [
              0.5555555555555556,
              "#d8576b"
             ],
             [
              0.6666666666666666,
              "#ed7953"
             ],
             [
              0.7777777777777778,
              "#fb9f3a"
             ],
             [
              0.8888888888888888,
              "#fdca26"
             ],
             [
              1,
              "#f0f921"
             ]
            ],
            "type": "histogram2d"
           }
          ],
          "histogram2dcontour": [
           {
            "colorbar": {
             "outlinewidth": 0,
             "ticks": ""
            },
            "colorscale": [
             [
              0,
              "#0d0887"
             ],
             [
              0.1111111111111111,
              "#46039f"
             ],
             [
              0.2222222222222222,
              "#7201a8"
             ],
             [
              0.3333333333333333,
              "#9c179e"
             ],
             [
              0.4444444444444444,
              "#bd3786"
             ],
             [
              0.5555555555555556,
              "#d8576b"
             ],
             [
              0.6666666666666666,
              "#ed7953"
             ],
             [
              0.7777777777777778,
              "#fb9f3a"
             ],
             [
              0.8888888888888888,
              "#fdca26"
             ],
             [
              1,
              "#f0f921"
             ]
            ],
            "type": "histogram2dcontour"
           }
          ],
          "mesh3d": [
           {
            "colorbar": {
             "outlinewidth": 0,
             "ticks": ""
            },
            "type": "mesh3d"
           }
          ],
          "parcoords": [
           {
            "line": {
             "colorbar": {
              "outlinewidth": 0,
              "ticks": ""
             }
            },
            "type": "parcoords"
           }
          ],
          "pie": [
           {
            "automargin": true,
            "type": "pie"
           }
          ],
          "scatter": [
           {
            "fillpattern": {
             "fillmode": "overlay",
             "size": 10,
             "solidity": 0.2
            },
            "type": "scatter"
           }
          ],
          "scatter3d": [
           {
            "line": {
             "colorbar": {
              "outlinewidth": 0,
              "ticks": ""
             }
            },
            "marker": {
             "colorbar": {
              "outlinewidth": 0,
              "ticks": ""
             }
            },
            "type": "scatter3d"
           }
          ],
          "scattercarpet": [
           {
            "marker": {
             "colorbar": {
              "outlinewidth": 0,
              "ticks": ""
             }
            },
            "type": "scattercarpet"
           }
          ],
          "scattergeo": [
           {
            "marker": {
             "colorbar": {
              "outlinewidth": 0,
              "ticks": ""
             }
            },
            "type": "scattergeo"
           }
          ],
          "scattergl": [
           {
            "marker": {
             "colorbar": {
              "outlinewidth": 0,
              "ticks": ""
             }
            },
            "type": "scattergl"
           }
          ],
          "scattermap": [
           {
            "marker": {
             "colorbar": {
              "outlinewidth": 0,
              "ticks": ""
             }
            },
            "type": "scattermap"
           }
          ],
          "scattermapbox": [
           {
            "marker": {
             "colorbar": {
              "outlinewidth": 0,
              "ticks": ""
             }
            },
            "type": "scattermapbox"
           }
          ],
          "scatterpolar": [
           {
            "marker": {
             "colorbar": {
              "outlinewidth": 0,
              "ticks": ""
             }
            },
            "type": "scatterpolar"
           }
          ],
          "scatterpolargl": [
           {
            "marker": {
             "colorbar": {
              "outlinewidth": 0,
              "ticks": ""
             }
            },
            "type": "scatterpolargl"
           }
          ],
          "scatterternary": [
           {
            "marker": {
             "colorbar": {
              "outlinewidth": 0,
              "ticks": ""
             }
            },
            "type": "scatterternary"
           }
          ],
          "surface": [
           {
            "colorbar": {
             "outlinewidth": 0,
             "ticks": ""
            },
            "colorscale": [
             [
              0,
              "#0d0887"
             ],
             [
              0.1111111111111111,
              "#46039f"
             ],
             [
              0.2222222222222222,
              "#7201a8"
             ],
             [
              0.3333333333333333,
              "#9c179e"
             ],
             [
              0.4444444444444444,
              "#bd3786"
             ],
             [
              0.5555555555555556,
              "#d8576b"
             ],
             [
              0.6666666666666666,
              "#ed7953"
             ],
             [
              0.7777777777777778,
              "#fb9f3a"
             ],
             [
              0.8888888888888888,
              "#fdca26"
             ],
             [
              1,
              "#f0f921"
             ]
            ],
            "type": "surface"
           }
          ],
          "table": [
           {
            "cells": {
             "fill": {
              "color": "#EBF0F8"
             },
             "line": {
              "color": "white"
             }
            },
            "header": {
             "fill": {
              "color": "#C8D4E3"
             },
             "line": {
              "color": "white"
             }
            },
            "type": "table"
           }
          ]
         },
         "layout": {
          "annotationdefaults": {
           "arrowcolor": "#2a3f5f",
           "arrowhead": 0,
           "arrowwidth": 1
          },
          "autotypenumbers": "strict",
          "coloraxis": {
           "colorbar": {
            "outlinewidth": 0,
            "ticks": ""
           }
          },
          "colorscale": {
           "diverging": [
            [
             0,
             "#8e0152"
            ],
            [
             0.1,
             "#c51b7d"
            ],
            [
             0.2,
             "#de77ae"
            ],
            [
             0.3,
             "#f1b6da"
            ],
            [
             0.4,
             "#fde0ef"
            ],
            [
             0.5,
             "#f7f7f7"
            ],
            [
             0.6,
             "#e6f5d0"
            ],
            [
             0.7,
             "#b8e186"
            ],
            [
             0.8,
             "#7fbc41"
            ],
            [
             0.9,
             "#4d9221"
            ],
            [
             1,
             "#276419"
            ]
           ],
           "sequential": [
            [
             0,
             "#0d0887"
            ],
            [
             0.1111111111111111,
             "#46039f"
            ],
            [
             0.2222222222222222,
             "#7201a8"
            ],
            [
             0.3333333333333333,
             "#9c179e"
            ],
            [
             0.4444444444444444,
             "#bd3786"
            ],
            [
             0.5555555555555556,
             "#d8576b"
            ],
            [
             0.6666666666666666,
             "#ed7953"
            ],
            [
             0.7777777777777778,
             "#fb9f3a"
            ],
            [
             0.8888888888888888,
             "#fdca26"
            ],
            [
             1,
             "#f0f921"
            ]
           ],
           "sequentialminus": [
            [
             0,
             "#0d0887"
            ],
            [
             0.1111111111111111,
             "#46039f"
            ],
            [
             0.2222222222222222,
             "#7201a8"
            ],
            [
             0.3333333333333333,
             "#9c179e"
            ],
            [
             0.4444444444444444,
             "#bd3786"
            ],
            [
             0.5555555555555556,
             "#d8576b"
            ],
            [
             0.6666666666666666,
             "#ed7953"
            ],
            [
             0.7777777777777778,
             "#fb9f3a"
            ],
            [
             0.8888888888888888,
             "#fdca26"
            ],
            [
             1,
             "#f0f921"
            ]
           ]
          },
          "colorway": [
           "#636efa",
           "#EF553B",
           "#00cc96",
           "#ab63fa",
           "#FFA15A",
           "#19d3f3",
           "#FF6692",
           "#B6E880",
           "#FF97FF",
           "#FECB52"
          ],
          "font": {
           "color": "#2a3f5f"
          },
          "geo": {
           "bgcolor": "white",
           "lakecolor": "white",
           "landcolor": "#E5ECF6",
           "showlakes": true,
           "showland": true,
           "subunitcolor": "white"
          },
          "hoverlabel": {
           "align": "left"
          },
          "hovermode": "closest",
          "mapbox": {
           "style": "light"
          },
          "paper_bgcolor": "white",
          "plot_bgcolor": "#E5ECF6",
          "polar": {
           "angularaxis": {
            "gridcolor": "white",
            "linecolor": "white",
            "ticks": ""
           },
           "bgcolor": "#E5ECF6",
           "radialaxis": {
            "gridcolor": "white",
            "linecolor": "white",
            "ticks": ""
           }
          },
          "scene": {
           "xaxis": {
            "backgroundcolor": "#E5ECF6",
            "gridcolor": "white",
            "gridwidth": 2,
            "linecolor": "white",
            "showbackground": true,
            "ticks": "",
            "zerolinecolor": "white"
           },
           "yaxis": {
            "backgroundcolor": "#E5ECF6",
            "gridcolor": "white",
            "gridwidth": 2,
            "linecolor": "white",
            "showbackground": true,
            "ticks": "",
            "zerolinecolor": "white"
           },
           "zaxis": {
            "backgroundcolor": "#E5ECF6",
            "gridcolor": "white",
            "gridwidth": 2,
            "linecolor": "white",
            "showbackground": true,
            "ticks": "",
            "zerolinecolor": "white"
           }
          },
          "shapedefaults": {
           "line": {
            "color": "#2a3f5f"
           }
          },
          "ternary": {
           "aaxis": {
            "gridcolor": "white",
            "linecolor": "white",
            "ticks": ""
           },
           "baxis": {
            "gridcolor": "white",
            "linecolor": "white",
            "ticks": ""
           },
           "bgcolor": "#E5ECF6",
           "caxis": {
            "gridcolor": "white",
            "linecolor": "white",
            "ticks": ""
           }
          },
          "title": {
           "x": 0.05
          },
          "xaxis": {
           "automargin": true,
           "gridcolor": "white",
           "linecolor": "white",
           "ticks": "",
           "title": {
            "standoff": 15
           },
           "zerolinecolor": "white",
           "zerolinewidth": 2
          },
          "yaxis": {
           "automargin": true,
           "gridcolor": "white",
           "linecolor": "white",
           "ticks": "",
           "title": {
            "standoff": 15
           },
           "zerolinecolor": "white",
           "zerolinewidth": 2
          }
         }
        },
        "title": {
         "text": "Pokémons com Resistência (Multiplicador ≤ 0.5x)"
        },
        "xaxis": {
         "anchor": "y",
         "domain": [
          0,
          1
         ],
         "title": {
          "text": "Número de Pokémons"
         }
        },
        "yaxis": {
         "anchor": "x",
         "categoryorder": "total ascending",
         "domain": [
          0,
          1
         ],
         "title": {
          "text": "Tipo de Ataque"
         }
        }
       }
      }
     },
     "metadata": {},
     "output_type": "display_data"
    }
   ],
   "source": [
    "# Contar resistências (valores <= 0.5)\n",
    "resistance_counts = (df[[col for col in df.columns if '_weakness' in col]] <= 0.5).sum().sort_values()\n",
    "\n",
    "resistance_fig = px.bar(\n",
    "    x=resistance_counts.values,\n",
    "    y=[col.replace('_weakness', '') for col in resistance_counts.index],\n",
    "    orientation='h',\n",
    "    title='Pokémons com Resistência (Multiplicador ≤ 0.5x)',\n",
    "    labels={'x': 'Número de Pokémons', 'y': 'Tipo de Ataque'},\n",
    "    color=resistance_counts.values,\n",
    "    color_continuous_scale='blues'\n",
    ")\n",
    "\n",
    "resistance_fig.update_layout(yaxis={'categoryorder':'total ascending'})\n",
    "resistance_fig.show()"
   ]
  }
 ],
 "metadata": {
  "kernelspec": {
   "display_name": "Python 3",
   "language": "python",
   "name": "python3"
  },
  "language_info": {
   "codemirror_mode": {
    "name": "ipython",
    "version": 3
   },
   "file_extension": ".py",
   "mimetype": "text/x-python",
   "name": "python",
   "nbconvert_exporter": "python",
   "pygments_lexer": "ipython3",
   "version": "3.11.9"
  }
 },
 "nbformat": 4,
 "nbformat_minor": 5
}
